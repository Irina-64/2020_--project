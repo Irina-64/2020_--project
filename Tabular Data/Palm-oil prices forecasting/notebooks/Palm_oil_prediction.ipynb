{
  "nbformat": 4,
  "nbformat_minor": 0,
  "metadata": {
    "colab": {
      "name": "Palm_oil_prediction.ipynb",
      "provenance": [],
      "collapsed_sections": [
        "MrqJ6ke2JMRn",
        "FvpRx5EOArid",
        "MbwFb0VAS0lp",
        "nTwLGIjsS9IY"
      ],
      "machine_shape": "hm"
    },
    "kernelspec": {
      "name": "python3",
      "display_name": "Python 3"
    },
    "accelerator": "GPU"
  },
  "cells": [
    {
      "cell_type": "code",
      "metadata": {
        "id": "Y7AQo_OOnEse"
      },
      "source": [
        "from IPython.display import clear_output\n",
        "from tensorflow.keras.models import load_model\n",
        "from sklearn.preprocessing import StandardScaler, RobustScaler, MinMaxScaler # проверить все"
      ],
      "execution_count": null,
      "outputs": []
    },
    {
      "cell_type": "code",
      "metadata": {
        "id": "fBKjsauNo5ub"
      },
      "source": [
        "import pandas as pd\n",
        "import numpy as np\n",
        "from numpy import array\n",
        "import matplotlib.pyplot as plt\n",
        "%matplotlib inline\n",
        "\n",
        "import os, time\n",
        "import warnings\n",
        "warnings.filterwarnings(\"ignore\")"
      ],
      "execution_count": null,
      "outputs": []
    },
    {
      "cell_type": "code",
      "metadata": {
        "id": "wQpegdSOFAzM"
      },
      "source": [
        "analyze_period = 10000    # Сколько баров в прошлое берем для тренировки модели\n",
        "ensemble = 5\n",
        "forvard_lag = 0"
      ],
      "execution_count": null,
      "outputs": []
    },
    {
      "cell_type": "code",
      "metadata": {
        "colab": {
          "base_uri": "https://localhost:8080/"
        },
        "id": "3dAiT1DjE9Dc",
        "outputId": "7e46b7c6-878c-41df-8628-50c79ed6236b"
      },
      "source": [
        "path_data = '/content/drive/MyDrive/_Проекты/Пальмовое масло/data/'\n",
        "path_models = '/content/drive/MyDrive/_Проекты/Пальмовое масло/models/'\n",
        "file_X = 'dataframe_1.csv'\n",
        "file_Y = 'dataframe_Y.csv'\n",
        "os.chdir(path_data)\n",
        "print(os.listdir())"
      ],
      "execution_count": null,
      "outputs": [
        {
          "output_type": "stream",
          "text": [
            "['Tseny_2010-20.xlsx', 'dataframe_pct_change.csv', 'dataframe_Y.csv', 'dataframe_1.csv', 'spisok_factors_for_del.txt']\n"
          ],
          "name": "stdout"
        }
      ]
    },
    {
      "cell_type": "code",
      "metadata": {
        "colab": {
          "base_uri": "https://localhost:8080/"
        },
        "id": "JXNugZuWFfWZ",
        "outputId": "00682bab-c481-4c7a-fb4b-8e7bb5386d27"
      },
      "source": [
        "# Получим список факторов, которые нужно удалить из Х\n",
        "os.chdir(path_data)\n",
        "with open('spisok_factors_for_del.txt', 'r') as f:\n",
        "    spisok_factors_for_del = f.read()\n",
        "spisok_factors_for_del = spisok_factors_for_del.split(\"\\n\")\n",
        "spisok_factors_for_del"
      ],
      "execution_count": null,
      "outputs": [
        {
          "output_type": "execute_result",
          "data": {
            "text/plain": [
              "['Sunoil, EU, fob N.W.Eur. ports',\n",
              " 'Sunoil, Arg., fob',\n",
              " 'Sunoil, Ukraine, fob',\n",
              " 'Rape oil, Dutch, fob ex-mill',\n",
              " 'Palmkernel oil, Mal., cif Rot.',\n",
              " 'Coconut oil, Phil., cif Rot.']"
            ]
          },
          "metadata": {
            "tags": []
          },
          "execution_count": 5
        }
      ]
    },
    {
      "cell_type": "code",
      "metadata": {
        "colab": {
          "base_uri": "https://localhost:8080/"
        },
        "id": "exH_kgM-IqED",
        "outputId": "2b510cf3-508e-4176-d051-e27cea2f573e"
      },
      "source": [
        "os.chdir(path_models)\n",
        "models_list = os.listdir()\n",
        "models_list"
      ],
      "execution_count": null,
      "outputs": [
        {
          "output_type": "execute_result",
          "data": {
            "text/plain": [
              "['model_Conv.h5', 'model_Dense.h5', 'model_LSTM.h5']"
            ]
          },
          "metadata": {
            "tags": []
          },
          "execution_count": 6
        }
      ]
    },
    {
      "cell_type": "markdown",
      "metadata": {
        "id": "MrqJ6ke2JMRn"
      },
      "source": [
        "### Dataset loading"
      ]
    },
    {
      "cell_type": "code",
      "metadata": {
        "id": "p_Tw5K24OUFB"
      },
      "source": [
        "os.chdir(path_data)"
      ],
      "execution_count": null,
      "outputs": []
    },
    {
      "cell_type": "code",
      "metadata": {
        "colab": {
          "base_uri": "https://localhost:8080/"
        },
        "id": "PCzSlS1FF_QQ",
        "outputId": "7461dae8-53bb-4af1-a1a9-2f26aa72d3ef"
      },
      "source": [
        "#Загрузка данных\n",
        "data_X = pd.read_csv(file_X, sep=\",\", index_col=['date'])\n",
        "data_X = data_X[-analyze_period:] # Убрали устаревшую информацию\n",
        "print(data_X.shape)\n",
        "data_X[-3:]"
      ],
      "execution_count": null,
      "outputs": [
        {
          "output_type": "stream",
          "text": [
            "(2652, 10)\n"
          ],
          "name": "stdout"
        },
        {
          "output_type": "execute_result",
          "data": {
            "text/html": [
              "<div>\n",
              "<style scoped>\n",
              "    .dataframe tbody tr th:only-of-type {\n",
              "        vertical-align: middle;\n",
              "    }\n",
              "\n",
              "    .dataframe tbody tr th {\n",
              "        vertical-align: top;\n",
              "    }\n",
              "\n",
              "    .dataframe thead th {\n",
              "        text-align: right;\n",
              "    }\n",
              "</style>\n",
              "<table border=\"1\" class=\"dataframe\">\n",
              "  <thead>\n",
              "    <tr style=\"text-align: right;\">\n",
              "      <th></th>\n",
              "      <th>Soybean oil, Brazil, fob</th>\n",
              "      <th>Soybean oil, Argentina, fob</th>\n",
              "      <th>Sunoil, EU, fob N.W.Eur. ports</th>\n",
              "      <th>Sunoil, Arg., fob</th>\n",
              "      <th>Sunoil, Ukraine, fob</th>\n",
              "      <th>Rape oil, Dutch, fob ex-mill</th>\n",
              "      <th>Palm olein RBD, Mal., fob</th>\n",
              "      <th>Palmkernel oil, Mal., cif Rot.</th>\n",
              "      <th>Coconut oil, Phil., cif Rot.</th>\n",
              "      <th>Пальмовое масло   RBD, FOB Малайзия , usd/тн</th>\n",
              "    </tr>\n",
              "    <tr>\n",
              "      <th>date</th>\n",
              "      <th></th>\n",
              "      <th></th>\n",
              "      <th></th>\n",
              "      <th></th>\n",
              "      <th></th>\n",
              "      <th></th>\n",
              "      <th></th>\n",
              "      <th></th>\n",
              "      <th></th>\n",
              "      <th></th>\n",
              "    </tr>\n",
              "  </thead>\n",
              "  <tbody>\n",
              "    <tr>\n",
              "      <th>2020-10-22</th>\n",
              "      <td>930</td>\n",
              "      <td>850</td>\n",
              "      <td>1020</td>\n",
              "      <td>1000.0</td>\n",
              "      <td>990.0</td>\n",
              "      <td>932</td>\n",
              "      <td>778</td>\n",
              "      <td>820</td>\n",
              "      <td>1125</td>\n",
              "      <td>920.0</td>\n",
              "    </tr>\n",
              "    <tr>\n",
              "      <th>2020-10-23</th>\n",
              "      <td>928</td>\n",
              "      <td>847</td>\n",
              "      <td>1025</td>\n",
              "      <td>1000.0</td>\n",
              "      <td>995.0</td>\n",
              "      <td>927</td>\n",
              "      <td>775</td>\n",
              "      <td>820</td>\n",
              "      <td>1150</td>\n",
              "      <td>917.5</td>\n",
              "    </tr>\n",
              "    <tr>\n",
              "      <th>2020-10-26</th>\n",
              "      <td>936</td>\n",
              "      <td>857</td>\n",
              "      <td>1020</td>\n",
              "      <td>1010.0</td>\n",
              "      <td>1000.0</td>\n",
              "      <td>940</td>\n",
              "      <td>805</td>\n",
              "      <td>880</td>\n",
              "      <td>1180</td>\n",
              "      <td>912.5</td>\n",
              "    </tr>\n",
              "  </tbody>\n",
              "</table>\n",
              "</div>"
            ],
            "text/plain": [
              "            Soybean oil, Brazil, fob  ...  Пальмовое масло   RBD, FOB Малайзия , usd/тн \n",
              "date                                  ...                                               \n",
              "2020-10-22                       930  ...                                          920.0\n",
              "2020-10-23                       928  ...                                          917.5\n",
              "2020-10-26                       936  ...                                          912.5\n",
              "\n",
              "[3 rows x 10 columns]"
            ]
          },
          "metadata": {
            "tags": []
          },
          "execution_count": 8
        }
      ]
    },
    {
      "cell_type": "code",
      "metadata": {
        "colab": {
          "base_uri": "https://localhost:8080/"
        },
        "id": "WXGe_lHiHMNZ",
        "outputId": "7bd2529c-331e-4d1b-bd5a-f0703e31f0eb"
      },
      "source": [
        "del data_X['Пальмовое масло   RBD, FOB Малайзия , usd/тн ']\n",
        "for i in spisok_factors_for_del: del data_X[i]\n",
        "data_X[-3:]"
      ],
      "execution_count": null,
      "outputs": [
        {
          "output_type": "execute_result",
          "data": {
            "text/html": [
              "<div>\n",
              "<style scoped>\n",
              "    .dataframe tbody tr th:only-of-type {\n",
              "        vertical-align: middle;\n",
              "    }\n",
              "\n",
              "    .dataframe tbody tr th {\n",
              "        vertical-align: top;\n",
              "    }\n",
              "\n",
              "    .dataframe thead th {\n",
              "        text-align: right;\n",
              "    }\n",
              "</style>\n",
              "<table border=\"1\" class=\"dataframe\">\n",
              "  <thead>\n",
              "    <tr style=\"text-align: right;\">\n",
              "      <th></th>\n",
              "      <th>Soybean oil, Brazil, fob</th>\n",
              "      <th>Soybean oil, Argentina, fob</th>\n",
              "      <th>Palm olein RBD, Mal., fob</th>\n",
              "    </tr>\n",
              "    <tr>\n",
              "      <th>date</th>\n",
              "      <th></th>\n",
              "      <th></th>\n",
              "      <th></th>\n",
              "    </tr>\n",
              "  </thead>\n",
              "  <tbody>\n",
              "    <tr>\n",
              "      <th>2020-10-22</th>\n",
              "      <td>930</td>\n",
              "      <td>850</td>\n",
              "      <td>778</td>\n",
              "    </tr>\n",
              "    <tr>\n",
              "      <th>2020-10-23</th>\n",
              "      <td>928</td>\n",
              "      <td>847</td>\n",
              "      <td>775</td>\n",
              "    </tr>\n",
              "    <tr>\n",
              "      <th>2020-10-26</th>\n",
              "      <td>936</td>\n",
              "      <td>857</td>\n",
              "      <td>805</td>\n",
              "    </tr>\n",
              "  </tbody>\n",
              "</table>\n",
              "</div>"
            ],
            "text/plain": [
              "            Soybean oil, Brazil, fob  ...  Palm olein RBD, Mal., fob\n",
              "date                                  ...                           \n",
              "2020-10-22                       930  ...                        778\n",
              "2020-10-23                       928  ...                        775\n",
              "2020-10-26                       936  ...                        805\n",
              "\n",
              "[3 rows x 3 columns]"
            ]
          },
          "metadata": {
            "tags": []
          },
          "execution_count": 9
        }
      ]
    },
    {
      "cell_type": "code",
      "metadata": {
        "colab": {
          "base_uri": "https://localhost:8080/"
        },
        "id": "WDDlphl8G6Nw",
        "outputId": "8023c895-c6fe-453d-c9dc-65c5db36a340"
      },
      "source": [
        "# Загрузка Y\n",
        "data_Y = pd.read_csv(file_Y, sep=\",\", index_col=['date'])\n",
        "data_Y.rename(columns={'Пальмовое масло   RBD, FOB Малайзия , usd/тн ': 'Y'}, inplace=True)\n",
        "data_Y = data_Y[-analyze_period:] # Убрали устаревшую информацию\n",
        "print(data_Y.shape)\n",
        "data_Y[-3:]"
      ],
      "execution_count": null,
      "outputs": [
        {
          "output_type": "stream",
          "text": [
            "(2652, 1)\n"
          ],
          "name": "stdout"
        },
        {
          "output_type": "execute_result",
          "data": {
            "text/html": [
              "<div>\n",
              "<style scoped>\n",
              "    .dataframe tbody tr th:only-of-type {\n",
              "        vertical-align: middle;\n",
              "    }\n",
              "\n",
              "    .dataframe tbody tr th {\n",
              "        vertical-align: top;\n",
              "    }\n",
              "\n",
              "    .dataframe thead th {\n",
              "        text-align: right;\n",
              "    }\n",
              "</style>\n",
              "<table border=\"1\" class=\"dataframe\">\n",
              "  <thead>\n",
              "    <tr style=\"text-align: right;\">\n",
              "      <th></th>\n",
              "      <th>Y</th>\n",
              "    </tr>\n",
              "    <tr>\n",
              "      <th>date</th>\n",
              "      <th></th>\n",
              "    </tr>\n",
              "  </thead>\n",
              "  <tbody>\n",
              "    <tr>\n",
              "      <th>2020-10-22</th>\n",
              "      <td>920.0</td>\n",
              "    </tr>\n",
              "    <tr>\n",
              "      <th>2020-10-23</th>\n",
              "      <td>917.5</td>\n",
              "    </tr>\n",
              "    <tr>\n",
              "      <th>2020-10-26</th>\n",
              "      <td>912.5</td>\n",
              "    </tr>\n",
              "  </tbody>\n",
              "</table>\n",
              "</div>"
            ],
            "text/plain": [
              "                Y\n",
              "date             \n",
              "2020-10-22  920.0\n",
              "2020-10-23  917.5\n",
              "2020-10-26  912.5"
            ]
          },
          "metadata": {
            "tags": []
          },
          "execution_count": 10
        }
      ]
    },
    {
      "cell_type": "markdown",
      "metadata": {
        "id": "FvpRx5EOArid"
      },
      "source": [
        "### Функции разделения массива на ансамбли"
      ]
    },
    {
      "cell_type": "code",
      "metadata": {
        "id": "TKuSaooHE6c9"
      },
      "source": [
        "\"\"\"\n",
        "#### Функция разделения массива на выборки для обучения нейросети \n",
        "\"\"\"\n",
        "# sequence = строка массива df\n",
        "# trend = число баров в прошлом для анализа - необходимо найти оптимальный!!\n",
        "# forvard_lag = предсказание какого бара в будущем делаем \n",
        "\n",
        "def split_sequence(sequence, ensemble, forvard_lag=0):\n",
        "  # sequence = df.values - это массив из данных\n",
        "  # trend = число баров в прошлом для анализа\n",
        "  X = list()\n",
        "  for i in range(len(sequence)):\n",
        "    end_ix = i + ensemble # находим конечный индекс строки\n",
        "    if end_ix + (forvard_lag-1) > len(sequence)-1: # cпроверем чтобы не выйти за пределы массива\n",
        "      break \n",
        "    # получаем X и y\n",
        "    seq_x = sequence[i:end_ix]\n",
        "    X.append(seq_x)\n",
        "\n",
        "  return array(X)"
      ],
      "execution_count": null,
      "outputs": []
    },
    {
      "cell_type": "markdown",
      "metadata": {
        "id": "nN2xF9VfA0xs"
      },
      "source": [
        "## Prediction"
      ]
    },
    {
      "cell_type": "markdown",
      "metadata": {
        "id": "MbwFb0VAS0lp"
      },
      "source": [
        "### Подготовка данных для подачи в модель для предикта"
      ]
    },
    {
      "cell_type": "code",
      "metadata": {
        "colab": {
          "base_uri": "https://localhost:8080/"
        },
        "id": "Xp7fsp7vJ2iZ",
        "outputId": "8a62b630-e293-4c42-ed6a-04708d19511a"
      },
      "source": [
        "xTrain = data_X.values\n",
        "print('xTrain.shape: ', xTrain.shape)"
      ],
      "execution_count": null,
      "outputs": [
        {
          "output_type": "stream",
          "text": [
            "xTrain.shape:  (2652, 3)\n"
          ],
          "name": "stdout"
        }
      ]
    },
    {
      "cell_type": "code",
      "metadata": {
        "colab": {
          "base_uri": "https://localhost:8080/"
        },
        "id": "9tNSOXzST2z1",
        "outputId": "3416b056-3fa4-4536-ce76-fc598a5cfd88"
      },
      "source": [
        "xScaler = StandardScaler()\n",
        "#xScaler = RobustScaler()\n",
        "#xScaler = MinMaxScaler()\n",
        "xScaler.fit(xTrain)\n",
        "xTrain = xScaler.transform(xTrain)\n",
        "print('xTrain[-1]: ', xTrain[-1])\n",
        "print('xScaler.inverse_transform(xTrain[-1:]):', xScaler.inverse_transform(xTrain[-1:]))"
      ],
      "execution_count": null,
      "outputs": [
        {
          "output_type": "stream",
          "text": [
            "xTrain[-1]:  [0.39518643 0.03130969 0.21344575]\n",
            "xScaler.inverse_transform(xTrain[-1:]): [[936. 857. 805.]]\n"
          ],
          "name": "stdout"
        }
      ]
    },
    {
      "cell_type": "code",
      "metadata": {
        "colab": {
          "base_uri": "https://localhost:8080/"
        },
        "id": "x8qfYCQ2PKdX",
        "outputId": "8a587c80-2fec-43d8-97b6-4dbd1cba4b5e"
      },
      "source": [
        "# Формируем выборки для обучения нейросети\n",
        "xTrain = split_sequence(xTrain, ensemble, forvard_lag=0)\n",
        "print(xTrain.shape)\n",
        "print('xTrain[-1]:\\n', xTrain[-1])\n",
        "print('xScaler.inverse_transform(xTrain[-1]):\\n', xScaler.inverse_transform(xTrain[-1]))"
      ],
      "execution_count": null,
      "outputs": [
        {
          "output_type": "stream",
          "text": [
            "(2648, 5, 3)\n",
            "xTrain[-1]:\n",
            " [[ 0.32480807 -0.09972126 -0.02974415]\n",
            " [ 0.30972699 -0.06444369  0.03234689]\n",
            " [ 0.36502428 -0.00396787  0.07374091]\n",
            " [ 0.35497022 -0.01908683  0.05821815]\n",
            " [ 0.39518643  0.03130969  0.21344575]]\n",
            "xScaler.inverse_transform(xTrain[-1]):\n",
            " [[922. 831. 758.]\n",
            " [919. 838. 770.]\n",
            " [930. 850. 778.]\n",
            " [928. 847. 775.]\n",
            " [936. 857. 805.]]\n"
          ],
          "name": "stdout"
        }
      ]
    },
    {
      "cell_type": "markdown",
      "metadata": {
        "id": "nTwLGIjsS9IY"
      },
      "source": [
        "### Предикт по трем сохраненным моделям и отгрисовка графика"
      ]
    },
    {
      "cell_type": "code",
      "metadata": {
        "id": "YZ-Ei6ZSp-LG",
        "colab": {
          "base_uri": "https://localhost:8080/",
          "height": 426
        },
        "outputId": "392b1983-d795-419a-f516-d02e56dab4c8"
      },
      "source": [
        "df_pred = pd.DataFrame()\n",
        "\n",
        "for model_name in models_list:\n",
        "  # Загружаем модель и расшифровываем настройки ансамблей\n",
        "  #ensemble = int(model_name[12:14])\n",
        "# ---------------------------------------------------------------------------\n",
        "\n",
        "  file = model_name\n",
        "  os.chdir(path_models)\n",
        "  model = load_model(file)\n",
        "\n",
        "  predictions = model.predict(xTrain)\n",
        "  #print(model_name, predictions.shape, '\\n', predictions[-3:], '\\n')\n",
        "\n",
        "  # Преоразования дляг рафика\n",
        "  predictions[:-30] = np.NaN\n",
        "  predictions = predictions.reshape(predictions.shape[0])\n",
        "  df_pred[model_name[:-3]] = predictions\n",
        "\n",
        "#df_pred\n",
        "# Добавляем в датасет Y_fact\n",
        "# Удалим из датафрейма Y начало из 34 элементов\n",
        "data_Y_modify = data_Y[34:]   #берем последние 2618 элементов\n",
        "#Запишем колонку date в другой датафрейм, а Y оставим без него\n",
        "index_data_Y = pd.DataFrame(data_Y_modify.index)\n",
        "Y_1 = data_Y_modify.values\n",
        "#Теперь допишем нулями 30 значений вперед\n",
        "for x in range(30):\n",
        "    Y_1 = np.append(Y_1, [np.nan])\n",
        "\n",
        "#Запишем данные Y в основной датафрейм предсказания\n",
        "df_pred['Y_fact'] = Y_1\n",
        "#df_pred[-35:]\n",
        "\n",
        "# ---------------- график --------------------\n",
        "\n",
        "col_names = ','.join(df_pred.columns)\n",
        "col_names = col_names.split(',')\n",
        "\n",
        "fig,axes = plt.subplots(nrows=1, ncols=1, figsize=(20,6)) \n",
        "#  Методы, отображающие данные:\n",
        "axes.plot(df_pred[-360:]) # вывведем последний год цен на масло\n",
        "axes.legend(col_names, fontsize=24)\n",
        "axes.grid()\n",
        "#ax.legend([\"AAA\", \"BBB\"]);\n",
        "plt.show()"
      ],
      "execution_count": null,
      "outputs": [
        {
          "output_type": "stream",
          "text": [
            "WARNING:tensorflow:Layer lstm will not use cuDNN kernel since it doesn't meet the cuDNN kernel criteria. It will use generic GPU kernel as fallback when running on GPU\n",
            "WARNING:tensorflow:Layer lstm_1 will not use cuDNN kernel since it doesn't meet the cuDNN kernel criteria. It will use generic GPU kernel as fallback when running on GPU\n"
          ],
          "name": "stdout"
        },
        {
          "output_type": "display_data",
          "data": {
            "image/png": "[encoded data removed]",
            "text/plain": [
              "<Figure size 1440x432 with 1 Axes>"
            ]
          },
          "metadata": {
            "tags": [],
            "needs_background": "light"
          }
        }
      ]
    },
    {
      "cell_type": "markdown",
      "metadata": {
        "id": "maGH-ggcZ-c2"
      },
      "source": [
        "# Пути улучшения продукта:\n",
        "1. Подбор архитектуры нейронной сети\n",
        "2. Подбор ансамблей (пакетор данных)\n",
        "3. Более глубокий анализ влияния факторов и осообености их учета в прогнозировании цены. К сожалению, сейчас анализ выявил \"неприятную\" особенность: факторы меняют влияние на цену от сильного положительного влияния до сильного отрицательного в зависимости от периода (см файл подготовки датасета)\n",
        "4. Проведение форвардного анализа (чтобы понять необходимость и частоту переобучения нейронки)"
      ]
    },
    {
      "cell_type": "code",
      "metadata": {
        "id": "pCTktZQq_5Ah"
      },
      "source": [
        ""
      ],
      "execution_count": null,
      "outputs": []
    }
  ]
}