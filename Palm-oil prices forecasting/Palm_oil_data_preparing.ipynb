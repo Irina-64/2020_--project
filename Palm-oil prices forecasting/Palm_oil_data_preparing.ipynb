{
 "nbformat": 4,
 "nbformat_minor": 0,
 "metadata": {
  "colab": {
   "name": "Palm_oil_data_preparing.ipynb",
   "provenance": [],
   "collapsed_sections": [],
   "mount_file_id": "1MGm5dLP4_kSXLjdwg_MxdfDJ0pzmlhzo",
   "authorship_tag": "ABX9TyPFuVeK+B5oxG+GAVeBBWRq"
  },
  "kernelspec": {
   "name": "python3",
   "language": "python",
   "display_name": "Python 3"
  }
 },
 "cells": [
  {
   "cell_type": "code",
   "metadata": {
    "id": "W9rjADdubSVB"
   },
   "source": [
    "import numpy as np                                                              #подгружаем модули\n",
    "import pandas as pd\n",
    "import matplotlib.pyplot as plt\n",
    "import seaborn as sns\n",
    "import io\n",
    "%matplotlib inline\n",
    "\n"
   ],
   "execution_count": 4,
   "outputs": []
  },
  {
   "cell_type": "code",
   "metadata": {
    "id": "D8y7mXRZdjyj",
    "colab": {
     "base_uri": "https://localhost:8080/",
     "height": 282
    },
    "executionInfo": {
     "status": "ok",
     "timestamp": 1608276231302,
     "user_tz": -180,
     "elapsed": 3770,
     "user": {
      "displayName": "Ilia Konushok",
      "photoUrl": "https://lh3.googleusercontent.com/a-/AOh14GjgUrzLbotAvEh6mMq5H6nX20COBH_r_qBrlpfSYQ=s64",
      "userId": "00607095919891895402"
     }
    },
    "outputId": "990e6834-8e4d-44ea-b26b-e5b87a4c804b"
   },
   "source": [
    "# загружаем базу данных\n",
    "df = pd.read_excel('data/Tseny_2010-20.xlsx')\n",
    "\n",
    "df.head(5)\n",
    "df1 = df.drop([0])                                                              #удалим нулевую строку\n",
    "df1 = df1[:-2]                                                                  #удалим нижние две строки\n",
    "df1.rename(columns=lambda x: df1.iloc[0][x], inplace=True)                      #переименуем колонки\n",
    "df1.drop([1],inplace=True)                                                      #удалить строку дубликат\n",
    "df1.reset_index(drop=True)                                                      #переустановить индексы\n",
    "df1.head(3)"
   ],
   "execution_count": 6,
   "outputs": [
    {
     "ename": "XLRDError",
     "evalue": "Excel xlsx file; not supported",
     "output_type": "error",
     "traceback": [
      "\u001B[0;31m---------------------------------------------------------------------------\u001B[0m",
      "\u001B[0;31mXLRDError\u001B[0m                                 Traceback (most recent call last)",
      "\u001B[0;32m<ipython-input-6-84bcbb15ed7c>\u001B[0m in \u001B[0;36m<module>\u001B[0;34m\u001B[0m\n\u001B[1;32m      1\u001B[0m \u001B[0;31m# загружаем базу данных\u001B[0m\u001B[0;34m\u001B[0m\u001B[0;34m\u001B[0m\u001B[0;34m\u001B[0m\u001B[0m\n\u001B[0;32m----> 2\u001B[0;31m \u001B[0mdf\u001B[0m \u001B[0;34m=\u001B[0m \u001B[0mpd\u001B[0m\u001B[0;34m.\u001B[0m\u001B[0mread_excel\u001B[0m\u001B[0;34m(\u001B[0m\u001B[0;34m'data/Tseny_2010-20.xlsx'\u001B[0m\u001B[0;34m)\u001B[0m\u001B[0;34m\u001B[0m\u001B[0;34m\u001B[0m\u001B[0m\n\u001B[0m\u001B[1;32m      3\u001B[0m \u001B[0;34m\u001B[0m\u001B[0m\n\u001B[1;32m      4\u001B[0m \u001B[0mdf\u001B[0m\u001B[0;34m.\u001B[0m\u001B[0mhead\u001B[0m\u001B[0;34m(\u001B[0m\u001B[0;36m5\u001B[0m\u001B[0;34m)\u001B[0m\u001B[0;34m\u001B[0m\u001B[0;34m\u001B[0m\u001B[0m\n\u001B[1;32m      5\u001B[0m \u001B[0mdf1\u001B[0m \u001B[0;34m=\u001B[0m \u001B[0mdf\u001B[0m\u001B[0;34m.\u001B[0m\u001B[0mdrop\u001B[0m\u001B[0;34m(\u001B[0m\u001B[0;34m[\u001B[0m\u001B[0;36m0\u001B[0m\u001B[0;34m]\u001B[0m\u001B[0;34m)\u001B[0m                                                              \u001B[0;31m#удалим нулевую строку\u001B[0m\u001B[0;34m\u001B[0m\u001B[0;34m\u001B[0m\u001B[0m\n",
      "\u001B[0;32m~/venv/lib/python3.8/site-packages/pandas/util/_decorators.py\u001B[0m in \u001B[0;36mwrapper\u001B[0;34m(*args, **kwargs)\u001B[0m\n\u001B[1;32m    294\u001B[0m                 )\n\u001B[1;32m    295\u001B[0m                 \u001B[0mwarnings\u001B[0m\u001B[0;34m.\u001B[0m\u001B[0mwarn\u001B[0m\u001B[0;34m(\u001B[0m\u001B[0mmsg\u001B[0m\u001B[0;34m,\u001B[0m \u001B[0mFutureWarning\u001B[0m\u001B[0;34m,\u001B[0m \u001B[0mstacklevel\u001B[0m\u001B[0;34m=\u001B[0m\u001B[0mstacklevel\u001B[0m\u001B[0;34m)\u001B[0m\u001B[0;34m\u001B[0m\u001B[0;34m\u001B[0m\u001B[0m\n\u001B[0;32m--> 296\u001B[0;31m             \u001B[0;32mreturn\u001B[0m \u001B[0mfunc\u001B[0m\u001B[0;34m(\u001B[0m\u001B[0;34m*\u001B[0m\u001B[0margs\u001B[0m\u001B[0;34m,\u001B[0m \u001B[0;34m**\u001B[0m\u001B[0mkwargs\u001B[0m\u001B[0;34m)\u001B[0m\u001B[0;34m\u001B[0m\u001B[0;34m\u001B[0m\u001B[0m\n\u001B[0m\u001B[1;32m    297\u001B[0m \u001B[0;34m\u001B[0m\u001B[0m\n\u001B[1;32m    298\u001B[0m         \u001B[0;32mreturn\u001B[0m \u001B[0mwrapper\u001B[0m\u001B[0;34m\u001B[0m\u001B[0;34m\u001B[0m\u001B[0m\n",
      "\u001B[0;32m~/venv/lib/python3.8/site-packages/pandas/io/excel/_base.py\u001B[0m in \u001B[0;36mread_excel\u001B[0;34m(io, sheet_name, header, names, index_col, usecols, squeeze, dtype, engine, converters, true_values, false_values, skiprows, nrows, na_values, keep_default_na, na_filter, verbose, parse_dates, date_parser, thousands, comment, skipfooter, convert_float, mangle_dupe_cols)\u001B[0m\n\u001B[1;32m    302\u001B[0m \u001B[0;34m\u001B[0m\u001B[0m\n\u001B[1;32m    303\u001B[0m     \u001B[0;32mif\u001B[0m \u001B[0;32mnot\u001B[0m \u001B[0misinstance\u001B[0m\u001B[0;34m(\u001B[0m\u001B[0mio\u001B[0m\u001B[0;34m,\u001B[0m \u001B[0mExcelFile\u001B[0m\u001B[0;34m)\u001B[0m\u001B[0;34m:\u001B[0m\u001B[0;34m\u001B[0m\u001B[0;34m\u001B[0m\u001B[0m\n\u001B[0;32m--> 304\u001B[0;31m         \u001B[0mio\u001B[0m \u001B[0;34m=\u001B[0m \u001B[0mExcelFile\u001B[0m\u001B[0;34m(\u001B[0m\u001B[0mio\u001B[0m\u001B[0;34m,\u001B[0m \u001B[0mengine\u001B[0m\u001B[0;34m=\u001B[0m\u001B[0mengine\u001B[0m\u001B[0;34m)\u001B[0m\u001B[0;34m\u001B[0m\u001B[0;34m\u001B[0m\u001B[0m\n\u001B[0m\u001B[1;32m    305\u001B[0m     \u001B[0;32melif\u001B[0m \u001B[0mengine\u001B[0m \u001B[0;32mand\u001B[0m \u001B[0mengine\u001B[0m \u001B[0;34m!=\u001B[0m \u001B[0mio\u001B[0m\u001B[0;34m.\u001B[0m\u001B[0mengine\u001B[0m\u001B[0;34m:\u001B[0m\u001B[0;34m\u001B[0m\u001B[0;34m\u001B[0m\u001B[0m\n\u001B[1;32m    306\u001B[0m         raise ValueError(\n",
      "\u001B[0;32m~/venv/lib/python3.8/site-packages/pandas/io/excel/_base.py\u001B[0m in \u001B[0;36m__init__\u001B[0;34m(self, path_or_buffer, engine)\u001B[0m\n\u001B[1;32m    865\u001B[0m         \u001B[0mself\u001B[0m\u001B[0;34m.\u001B[0m\u001B[0m_io\u001B[0m \u001B[0;34m=\u001B[0m \u001B[0mstringify_path\u001B[0m\u001B[0;34m(\u001B[0m\u001B[0mpath_or_buffer\u001B[0m\u001B[0;34m)\u001B[0m\u001B[0;34m\u001B[0m\u001B[0;34m\u001B[0m\u001B[0m\n\u001B[1;32m    866\u001B[0m \u001B[0;34m\u001B[0m\u001B[0m\n\u001B[0;32m--> 867\u001B[0;31m         \u001B[0mself\u001B[0m\u001B[0;34m.\u001B[0m\u001B[0m_reader\u001B[0m \u001B[0;34m=\u001B[0m \u001B[0mself\u001B[0m\u001B[0;34m.\u001B[0m\u001B[0m_engines\u001B[0m\u001B[0;34m[\u001B[0m\u001B[0mengine\u001B[0m\u001B[0;34m]\u001B[0m\u001B[0;34m(\u001B[0m\u001B[0mself\u001B[0m\u001B[0;34m.\u001B[0m\u001B[0m_io\u001B[0m\u001B[0;34m)\u001B[0m\u001B[0;34m\u001B[0m\u001B[0;34m\u001B[0m\u001B[0m\n\u001B[0m\u001B[1;32m    868\u001B[0m \u001B[0;34m\u001B[0m\u001B[0m\n\u001B[1;32m    869\u001B[0m     \u001B[0;32mdef\u001B[0m \u001B[0m__fspath__\u001B[0m\u001B[0;34m(\u001B[0m\u001B[0mself\u001B[0m\u001B[0;34m)\u001B[0m\u001B[0;34m:\u001B[0m\u001B[0;34m\u001B[0m\u001B[0;34m\u001B[0m\u001B[0m\n",
      "\u001B[0;32m~/venv/lib/python3.8/site-packages/pandas/io/excel/_xlrd.py\u001B[0m in \u001B[0;36m__init__\u001B[0;34m(self, filepath_or_buffer)\u001B[0m\n\u001B[1;32m     20\u001B[0m         \u001B[0merr_msg\u001B[0m \u001B[0;34m=\u001B[0m \u001B[0;34m\"Install xlrd >= 1.0.0 for Excel support\"\u001B[0m\u001B[0;34m\u001B[0m\u001B[0;34m\u001B[0m\u001B[0m\n\u001B[1;32m     21\u001B[0m         \u001B[0mimport_optional_dependency\u001B[0m\u001B[0;34m(\u001B[0m\u001B[0;34m\"xlrd\"\u001B[0m\u001B[0;34m,\u001B[0m \u001B[0mextra\u001B[0m\u001B[0;34m=\u001B[0m\u001B[0merr_msg\u001B[0m\u001B[0;34m)\u001B[0m\u001B[0;34m\u001B[0m\u001B[0;34m\u001B[0m\u001B[0m\n\u001B[0;32m---> 22\u001B[0;31m         \u001B[0msuper\u001B[0m\u001B[0;34m(\u001B[0m\u001B[0;34m)\u001B[0m\u001B[0;34m.\u001B[0m\u001B[0m__init__\u001B[0m\u001B[0;34m(\u001B[0m\u001B[0mfilepath_or_buffer\u001B[0m\u001B[0;34m)\u001B[0m\u001B[0;34m\u001B[0m\u001B[0;34m\u001B[0m\u001B[0m\n\u001B[0m\u001B[1;32m     23\u001B[0m \u001B[0;34m\u001B[0m\u001B[0m\n\u001B[1;32m     24\u001B[0m     \u001B[0;34m@\u001B[0m\u001B[0mproperty\u001B[0m\u001B[0;34m\u001B[0m\u001B[0;34m\u001B[0m\u001B[0m\n",
      "\u001B[0;32m~/venv/lib/python3.8/site-packages/pandas/io/excel/_base.py\u001B[0m in \u001B[0;36m__init__\u001B[0;34m(self, filepath_or_buffer)\u001B[0m\n\u001B[1;32m    351\u001B[0m             \u001B[0mself\u001B[0m\u001B[0;34m.\u001B[0m\u001B[0mbook\u001B[0m \u001B[0;34m=\u001B[0m \u001B[0mself\u001B[0m\u001B[0;34m.\u001B[0m\u001B[0mload_workbook\u001B[0m\u001B[0;34m(\u001B[0m\u001B[0mfilepath_or_buffer\u001B[0m\u001B[0;34m)\u001B[0m\u001B[0;34m\u001B[0m\u001B[0;34m\u001B[0m\u001B[0m\n\u001B[1;32m    352\u001B[0m         \u001B[0;32melif\u001B[0m \u001B[0misinstance\u001B[0m\u001B[0;34m(\u001B[0m\u001B[0mfilepath_or_buffer\u001B[0m\u001B[0;34m,\u001B[0m \u001B[0mstr\u001B[0m\u001B[0;34m)\u001B[0m\u001B[0;34m:\u001B[0m\u001B[0;34m\u001B[0m\u001B[0;34m\u001B[0m\u001B[0m\n\u001B[0;32m--> 353\u001B[0;31m             \u001B[0mself\u001B[0m\u001B[0;34m.\u001B[0m\u001B[0mbook\u001B[0m \u001B[0;34m=\u001B[0m \u001B[0mself\u001B[0m\u001B[0;34m.\u001B[0m\u001B[0mload_workbook\u001B[0m\u001B[0;34m(\u001B[0m\u001B[0mfilepath_or_buffer\u001B[0m\u001B[0;34m)\u001B[0m\u001B[0;34m\u001B[0m\u001B[0;34m\u001B[0m\u001B[0m\n\u001B[0m\u001B[1;32m    354\u001B[0m         \u001B[0;32melif\u001B[0m \u001B[0misinstance\u001B[0m\u001B[0;34m(\u001B[0m\u001B[0mfilepath_or_buffer\u001B[0m\u001B[0;34m,\u001B[0m \u001B[0mbytes\u001B[0m\u001B[0;34m)\u001B[0m\u001B[0;34m:\u001B[0m\u001B[0;34m\u001B[0m\u001B[0;34m\u001B[0m\u001B[0m\n\u001B[1;32m    355\u001B[0m             \u001B[0mself\u001B[0m\u001B[0;34m.\u001B[0m\u001B[0mbook\u001B[0m \u001B[0;34m=\u001B[0m \u001B[0mself\u001B[0m\u001B[0;34m.\u001B[0m\u001B[0mload_workbook\u001B[0m\u001B[0;34m(\u001B[0m\u001B[0mBytesIO\u001B[0m\u001B[0;34m(\u001B[0m\u001B[0mfilepath_or_buffer\u001B[0m\u001B[0;34m)\u001B[0m\u001B[0;34m)\u001B[0m\u001B[0;34m\u001B[0m\u001B[0;34m\u001B[0m\u001B[0m\n",
      "\u001B[0;32m~/venv/lib/python3.8/site-packages/pandas/io/excel/_xlrd.py\u001B[0m in \u001B[0;36mload_workbook\u001B[0;34m(self, filepath_or_buffer)\u001B[0m\n\u001B[1;32m     35\u001B[0m             \u001B[0;32mreturn\u001B[0m \u001B[0mopen_workbook\u001B[0m\u001B[0;34m(\u001B[0m\u001B[0mfile_contents\u001B[0m\u001B[0;34m=\u001B[0m\u001B[0mdata\u001B[0m\u001B[0;34m)\u001B[0m\u001B[0;34m\u001B[0m\u001B[0;34m\u001B[0m\u001B[0m\n\u001B[1;32m     36\u001B[0m         \u001B[0;32melse\u001B[0m\u001B[0;34m:\u001B[0m\u001B[0;34m\u001B[0m\u001B[0;34m\u001B[0m\u001B[0m\n\u001B[0;32m---> 37\u001B[0;31m             \u001B[0;32mreturn\u001B[0m \u001B[0mopen_workbook\u001B[0m\u001B[0;34m(\u001B[0m\u001B[0mfilepath_or_buffer\u001B[0m\u001B[0;34m)\u001B[0m\u001B[0;34m\u001B[0m\u001B[0;34m\u001B[0m\u001B[0m\n\u001B[0m\u001B[1;32m     38\u001B[0m \u001B[0;34m\u001B[0m\u001B[0m\n\u001B[1;32m     39\u001B[0m     \u001B[0;34m@\u001B[0m\u001B[0mproperty\u001B[0m\u001B[0;34m\u001B[0m\u001B[0;34m\u001B[0m\u001B[0m\n",
      "\u001B[0;32m~/venv/lib/python3.8/site-packages/xlrd/__init__.py\u001B[0m in \u001B[0;36mopen_workbook\u001B[0;34m(filename, logfile, verbosity, use_mmap, file_contents, encoding_override, formatting_info, on_demand, ragged_rows, ignore_workbook_corruption)\u001B[0m\n\u001B[1;32m    168\u001B[0m     \u001B[0;31m# files that xlrd can parse don't start with the expected signature.\u001B[0m\u001B[0;34m\u001B[0m\u001B[0;34m\u001B[0m\u001B[0;34m\u001B[0m\u001B[0m\n\u001B[1;32m    169\u001B[0m     \u001B[0;32mif\u001B[0m \u001B[0mfile_format\u001B[0m \u001B[0;32mand\u001B[0m \u001B[0mfile_format\u001B[0m \u001B[0;34m!=\u001B[0m \u001B[0;34m'xls'\u001B[0m\u001B[0;34m:\u001B[0m\u001B[0;34m\u001B[0m\u001B[0;34m\u001B[0m\u001B[0m\n\u001B[0;32m--> 170\u001B[0;31m         \u001B[0;32mraise\u001B[0m \u001B[0mXLRDError\u001B[0m\u001B[0;34m(\u001B[0m\u001B[0mFILE_FORMAT_DESCRIPTIONS\u001B[0m\u001B[0;34m[\u001B[0m\u001B[0mfile_format\u001B[0m\u001B[0;34m]\u001B[0m\u001B[0;34m+\u001B[0m\u001B[0;34m'; not supported'\u001B[0m\u001B[0;34m)\u001B[0m\u001B[0;34m\u001B[0m\u001B[0;34m\u001B[0m\u001B[0m\n\u001B[0m\u001B[1;32m    171\u001B[0m \u001B[0;34m\u001B[0m\u001B[0m\n\u001B[1;32m    172\u001B[0m     bk = open_workbook_xls(\n",
      "\u001B[0;31mXLRDError\u001B[0m: Excel xlsx file; not supported"
     ]
    }
   ]
  },
  {
   "cell_type": "code",
   "metadata": {
    "colab": {
     "base_uri": "https://localhost:8080/",
     "height": 1000
    },
    "id": "Tdqgx7ENa_OL",
    "executionInfo": {
     "status": "ok",
     "timestamp": 1608276235499,
     "user_tz": -180,
     "elapsed": 1594,
     "user": {
      "displayName": "Ilia Konushok",
      "photoUrl": "https://lh3.googleusercontent.com/a-/AOh14GjgUrzLbotAvEh6mMq5H6nX20COBH_r_qBrlpfSYQ=s64",
      "userId": "00607095919891895402"
     }
    },
    "outputId": "b155536f-2de6-491b-fbd2-80b93c0cd1af"
   },
   "source": [
    "fig, ax = plt.subplots(figsize=(20,40)) # Создаем область под график\r\n",
    "sns_heatmap = sns.heatmap(df1.isnull(), yticklabels=False, cbar=False, cmap='viridis') # Визуализируем пропуски\r\n",
    "plt.show() # Отображаем график"
   ],
   "execution_count": null,
   "outputs": []
  },
  {
   "cell_type": "code",
   "metadata": {
    "id": "PV9s0pQkeMz2"
   },
   "source": [
    "df1 = df1.fillna(method='ffill')\n",
    "#fig, ax = plt.subplots(figsize=(20,40)) # Создаем область под график\n",
    "#sns_heatmap = sns.heatmap(df1.isnull(), yticklabels=False, cbar=False, cmap='viridis') # Визуализируем пропуски\n",
    "#plt.show() # Отображаем график"
   ],
   "execution_count": null,
   "outputs": []
  },
  {
   "cell_type": "code",
   "metadata": {
    "id": "TO3pb2QvDYh3",
    "colab": {
     "base_uri": "https://localhost:8080/",
     "height": 230
    },
    "executionInfo": {
     "status": "ok",
     "timestamp": 1608276253831,
     "user_tz": -180,
     "elapsed": 672,
     "user": {
      "displayName": "Ilia Konushok",
      "photoUrl": "https://lh3.googleusercontent.com/a-/AOh14GjgUrzLbotAvEh6mMq5H6nX20COBH_r_qBrlpfSYQ=s64",
      "userId": "00607095919891895402"
     }
    },
    "outputId": "0fe65cb2-60cd-47f0-f220-4056959f90c6"
   },
   "source": [
    "df1['дата'] = pd.to_datetime(df1['дата'])                                       #преобразуем столбец 'дата' в тип данных datetime\n",
    "df1.at[2, 'Sunoil, Arg., fob'] = round(df1['Sunoil, Arg., fob'].mean(),1)       #Заменяем NaNиты на средние в ряду значения\n",
    "df1.at[2, 'Sunoil, Ukraine, fob'] = round(df1['Sunoil, Ukraine, fob'].mean(),1)\n",
    "df1.at[3, 'Sunoil, Ukraine, fob'] = round(df1['Sunoil, Ukraine, fob'].mean(),1)\n",
    "df1.at[4, 'Sunoil, Ukraine, fob'] = round(df1['Sunoil, Ukraine, fob'].mean(),1)\n",
    "df1.at[5, 'Sunoil, Ukraine, fob'] = round(df1['Sunoil, Ukraine, fob'].mean(),1)\n",
    "df1.head(3)"
   ],
   "execution_count": null,
   "outputs": []
  },
  {
   "cell_type": "code",
   "metadata": {
    "id": "aQW4uqKMrlVx",
    "colab": {
     "base_uri": "https://localhost:8080/",
     "height": 662
    },
    "executionInfo": {
     "status": "ok",
     "timestamp": 1608276270210,
     "user_tz": -180,
     "elapsed": 624,
     "user": {
      "displayName": "Ilia Konushok",
      "photoUrl": "https://lh3.googleusercontent.com/a-/AOh14GjgUrzLbotAvEh6mMq5H6nX20COBH_r_qBrlpfSYQ=s64",
      "userId": "00607095919891895402"
     }
    },
    "outputId": "e73f1c68-915f-4379-8e9e-30ec50b7a546"
   },
   "source": [
    "df1.rename(columns={'дата': 'date'}, inplace=True)                              #Переименуем колонку 'дата'в 'date'\r\n",
    "df1.index = df1['date']                                                         #Преобразуем индексы в даты. Теперь вместо индексов стоят даты\r\n",
    "df1.drop(df1.columns[[0]], axis='columns', inplace=True)                        #Удалим старый столбец 'date' . Часто нажимать нельзя, иначе всю таблицу удалит\r\n",
    "#Сдвинуть на 30 назад\r\n",
    "df1['Пальмовое масло   RBD, FOB Малайзия , usd/тн '] = df1['Пальмовое масло   RBD, FOB Малайзия , usd/тн '].shift(-30)\r\n",
    "df1 = df1[:-30]                                                                  #Удалим последние 30 строк так как там NaNиты\r\n",
    "df1 "
   ],
   "execution_count": null,
   "outputs": []
  },
  {
   "cell_type": "markdown",
   "metadata": {
    "id": "nmYjQOzaviLG"
   },
   "source": [
    "# Анализ взаимосвязи БУДУЩЕЙ цены и остальных факторов\n"
   ]
  },
  {
   "cell_type": "markdown",
   "metadata": {
    "id": "difJypXvvywL"
   },
   "source": [
    "----\n",
    "Видно, что, как минимум два фактора периодически выиваются из общей динамики движенияцен\n"
   ]
  },
  {
   "cell_type": "code",
   "metadata": {
    "colab": {
     "base_uri": "https://localhost:8080/",
     "height": 482
    },
    "id": "79CTINk65kQN",
    "executionInfo": {
     "status": "ok",
     "timestamp": 1608276292442,
     "user_tz": -180,
     "elapsed": 2007,
     "user": {
      "displayName": "Ilia Konushok",
      "photoUrl": "https://lh3.googleusercontent.com/a-/AOh14GjgUrzLbotAvEh6mMq5H6nX20COBH_r_qBrlpfSYQ=s64",
      "userId": "00607095919891895402"
     }
    },
    "outputId": "9a156116-3b8f-44dc-c10f-3d3f7b7357d1"
   },
   "source": [
    "fig,axes = plt.subplots(nrows=1, ncols=1, figsize=(25,8))                      #создаем полотно графика\r\n",
    "axes.plot(df1.index, df1['Пальмовое масло   RBD, FOB Малайзия , usd/тн '], label=df1.columns[9])\r\n",
    "axes.plot(df1.index, df1['Coconut oil, Phil., cif Rot.'], label=df1.columns[8])\r\n",
    "axes.plot(df1.index, df1['Palmkernel oil, Mal., cif Rot.'], label=df1.columns[7])\r\n",
    "axes.plot(df1.index, df1['Palm olein RBD, Mal., fob'], label=df1.columns[6])\r\n",
    "axes.plot(df1.index, df1['Rape oil, Dutch, fob ex-mill'], label=df1.columns[5])\r\n",
    "axes.plot(df1.index, df1['Sunoil, Ukraine, fob'], label=df1.columns[4])\r\n",
    "axes.plot(df1.index, df1['Sunoil, Arg., fob'], label=df1.columns[3])\r\n",
    "axes.plot(df1.index, df1['Sunoil, EU, fob N.W.Eur. ports'], label=df1.columns[2])\r\n",
    "axes.plot(df1.index, df1['Soybean oil, Argentina, fob'], label = df1.columns[1])\r\n",
    "axes.plot(df1.index, df1['Soybean oil, Brazil, fob'], label=df1.columns[0])\r\n",
    "axes.legend()\r\n",
    "plt.grid(linewidth=0.4)\r\n",
    "plt.show()"
   ],
   "execution_count": null,
   "outputs": []
  },
  {
   "cell_type": "markdown",
   "metadata": {
    "id": "s-qF577Pv93z"
   },
   "source": [
    "## Анализ скользящей корреляцией\n",
    "----\n",
    "1. Взаимосвязь факторов с ценой на пальмовое масло не постоянна на длительных периодах (в 2-3 года)\n",
    "2. Уменьшив период анализо до 1-23х месяцев видим, наблдаем сильнейшиеизменения в корреляции факторов с ценой."
   ]
  },
  {
   "cell_type": "markdown",
   "metadata": {
    "id": "z9q6vlIrv9es"
   },
   "source": [
    "**Проблема:** пока мы будем обучать сеть на одной комбинации факторов, при использовании в продакшн их комбинация изменится и обученная модель устареет\n",
    "\n",
    "**Вывод:** необходио найти способ использовать факторы, имеющие сильную корреляцию с ценой на пальмовое масло, но при этом исключать те, которые перестали влиять, или, наоборот, изменили влияние на отрицательное."
   ]
  },
  {
   "cell_type": "code",
   "metadata": {
    "id": "iPqZkEtJmih0"
   },
   "source": [
    "#monthChange = df1.pct_change()\n",
    "monthChange = df1"
   ],
   "execution_count": null,
   "outputs": []
  },
  {
   "cell_type": "code",
   "metadata": {
    "colab": {
     "base_uri": "https://localhost:8080/",
     "height": 465
    },
    "id": "L9PEHechkp-v",
    "executionInfo": {
     "status": "ok",
     "timestamp": 1608276368414,
     "user_tz": -180,
     "elapsed": 1465,
     "user": {
      "displayName": "Ilia Konushok",
      "photoUrl": "https://lh3.googleusercontent.com/a-/AOh14GjgUrzLbotAvEh6mMq5H6nX20COBH_r_qBrlpfSYQ=s64",
      "userId": "00607095919891895402"
     }
    },
    "outputId": "f8da7108-21da-4e90-e862-5a2f3af402eb"
   },
   "source": [
    "period = 360*3\r\n",
    "rollCorr = monthChange.rolling(window=period).corr(monthChange['Пальмовое масло   RBD, FOB Малайзия , usd/тн '])\r\n",
    "# Строю график\r\n",
    "rollCorr.plot(figsize=(25, 8))\r\n",
    "plt.grid(linewidth=0.4)\r\n",
    "plt.show()"
   ],
   "execution_count": null,
   "outputs": []
  },
  {
   "cell_type": "code",
   "metadata": {
    "colab": {
     "base_uri": "https://localhost:8080/",
     "height": 465
    },
    "id": "IzjmqScWvahZ",
    "executionInfo": {
     "status": "ok",
     "timestamp": 1608276364397,
     "user_tz": -180,
     "elapsed": 1940,
     "user": {
      "displayName": "Ilia Konushok",
      "photoUrl": "https://lh3.googleusercontent.com/a-/AOh14GjgUrzLbotAvEh6mMq5H6nX20COBH_r_qBrlpfSYQ=s64",
      "userId": "00607095919891895402"
     }
    },
    "outputId": "e09fad11-c459-44d7-9ca3-cbd0afd1fd1c"
   },
   "source": [
    "period = 60\n",
    "rollCorr = monthChange.rolling(window=period).corr(monthChange['Пальмовое масло   RBD, FOB Малайзия , usd/тн '])\n",
    "# Строю график\n",
    "rollCorr.plot(figsize=(25, 8))\n",
    "plt.grid(linewidth=0.4)\n",
    "plt.show()"
   ],
   "execution_count": null,
   "outputs": []
  },
  {
   "cell_type": "markdown",
   "metadata": {
    "id": "1CveQjQf6HCi"
   },
   "source": [
    "## Анализ STD\n",
    "---\n",
    "Ряд факторов \"живет своей жизнью\" - лишний повод с осторожностью обучать модель \"на всех имеющихся исторических данных\"\n"
   ]
  },
  {
   "cell_type": "code",
   "metadata": {
    "colab": {
     "base_uri": "https://localhost:8080/",
     "height": 465
    },
    "id": "avlghuSVlC9B",
    "executionInfo": {
     "status": "ok",
     "timestamp": 1608230831372,
     "user_tz": -180,
     "elapsed": 4879,
     "user": {
      "displayName": "Ilia Konushok",
      "photoUrl": "https://lh3.googleusercontent.com/a-/AOh14GjgUrzLbotAvEh6mMq5H6nX20COBH_r_qBrlpfSYQ=s64",
      "userId": "00607095919891895402"
     }
    },
    "outputId": "56823b61-8a8c-458e-e959-3b915f90c35d"
   },
   "source": [
    "period = 90                                                                     # Определяю рассматриваемый период\r\n",
    "                                                                                # Вычисляю волатильность колебаний за месяц\r\n",
    "vol = monthChange.rolling(period).std() * np.sqrt(period)\r\n",
    "# Строю график\r\n",
    "vol.plot(figsize=(25, 8))\r\n",
    "plt.grid(linewidth=0.4)\r\n",
    "plt.show()"
   ],
   "execution_count": null,
   "outputs": []
  },
  {
   "cell_type": "markdown",
   "metadata": {
    "id": "TPIAVCH5yD_U"
   },
   "source": [
    "## Теплограммы \n",
    "---\n",
    "еще одна проверка гипотезы об изменении влияния факторов на искомую цен"
   ]
  },
  {
   "cell_type": "markdown",
   "metadata": {
    "id": "yBH_HydBzBFX"
   },
   "source": [
    "Интервал в 2 месяца"
   ]
  },
  {
   "cell_type": "code",
   "metadata": {
    "colab": {
     "base_uri": "https://localhost:8080/",
     "height": 781
    },
    "id": "bj32I81QlYnH",
    "executionInfo": {
     "status": "ok",
     "timestamp": 1608277194002,
     "user_tz": -180,
     "elapsed": 1520,
     "user": {
      "displayName": "Ilia Konushok",
      "photoUrl": "https://lh3.googleusercontent.com/a-/AOh14GjgUrzLbotAvEh6mMq5H6nX20COBH_r_qBrlpfSYQ=s64",
      "userId": "00607095919891895402"
     }
    },
    "outputId": "7c3569fc-60a0-4a1e-bd12-6d25f5bdb794"
   },
   "source": [
    "xxx = monthChange[-60:]\r\n",
    "corrs = xxx.corr()\r\n",
    "# строим теплокарту корреляционной матрицы\r\n",
    "plt.imshow(corrs, cmap='hot', interpolation='none')\r\n",
    "plt.colorbar()\r\n",
    "plt.xticks(range(len(corrs)), corrs.columns , rotation=90)\r\n",
    "plt.yticks(range(len(corrs)), corrs.columns)\r\n",
    "plt.gcf().set_size_inches(12,9)"
   ],
   "execution_count": null,
   "outputs": []
  },
  {
   "cell_type": "markdown",
   "metadata": {
    "id": "wTRE5IsMywA7"
   },
   "source": [
    "Обучать на интервале 1 год (360 дней) не имеет смысла, тк корреляция факторов с ценой менее 50% (лучше уж монетку подбросить)"
   ]
  },
  {
   "cell_type": "code",
   "metadata": {
    "colab": {
     "base_uri": "https://localhost:8080/",
     "height": 781
    },
    "id": "L5Kt-_mzyqZD",
    "executionInfo": {
     "status": "ok",
     "timestamp": 1608277225259,
     "user_tz": -180,
     "elapsed": 1397,
     "user": {
      "displayName": "Ilia Konushok",
      "photoUrl": "https://lh3.googleusercontent.com/a-/AOh14GjgUrzLbotAvEh6mMq5H6nX20COBH_r_qBrlpfSYQ=s64",
      "userId": "00607095919891895402"
     }
    },
    "outputId": "e21ebb19-d653-4365-94b4-a86fa017e338"
   },
   "source": [
    "xxx = monthChange[-360:]\n",
    "corrs = xxx.corr()\n",
    "# строим теплокарту корреляционной матрицы\n",
    "plt.imshow(corrs, cmap='hot', interpolation='none')\n",
    "plt.colorbar()\n",
    "plt.xticks(range(len(corrs)), corrs.columns , rotation=90)\n",
    "plt.yticks(range(len(corrs)), corrs.columns)\n",
    "plt.gcf().set_size_inches(12,9)"
   ],
   "execution_count": null,
   "outputs": []
  },
  {
   "cell_type": "markdown",
   "metadata": {
    "id": "hYhOVJ1dz-0Z"
   },
   "source": [
    "## Возможное решение проблемы обучения на изменяемых факторах\n",
    "---\n",
    "это:\n",
    "1. удаление из обучающей выборки \"слабых\" факторов\n",
    "2. подбор оптимального временного интервала"
   ]
  },
  {
   "cell_type": "code",
   "metadata": {
    "colab": {
     "base_uri": "https://localhost:8080/"
    },
    "id": "Vzd0fP3Ol0G8",
    "executionInfo": {
     "status": "ok",
     "timestamp": 1608277403419,
     "user_tz": -180,
     "elapsed": 598,
     "user": {
      "displayName": "Ilia Konushok",
      "photoUrl": "https://lh3.googleusercontent.com/a-/AOh14GjgUrzLbotAvEh6mMq5H6nX20COBH_r_qBrlpfSYQ=s64",
      "userId": "00607095919891895402"
     }
    },
    "outputId": "9f85e192-801b-4d00-b21f-8b59416117f8"
   },
   "source": [
    "correlations = np.abs(df1.corrwith(df1['Пальмовое масло   RBD, FOB Малайзия , usd/тн ']))\r\n",
    "print(correlations.sort_values(ascending=True))\r\n",
    "\"\"\"\r\n",
    "lim = 0.6 # удалим те факторы, влияние которых слабее 0.6\r\n",
    "for i in range(len(correlations)):\r\n",
    "    if correlations[i] <= lim:\r\n",
    "        print('Удален: ', correlations[i], ' \\t', correlations.index[i])\r\n",
    "        del df1[correlations.index[i]]\r\n",
    "\r\n",
    "print(df1.shape)\r\n",
    "data[:3]"
   ],
   "execution_count": null,
   "outputs": []
  },
  {
   "cell_type": "markdown",
   "metadata": {
    "id": "flPO2jVJ0_-L"
   },
   "source": [
    "# Сохранение датасетов для нейронки\n"
   ]
  },
  {
   "cell_type": "code",
   "metadata": {
    "id": "Z6UlYvFy1Kdg"
   },
   "source": [
    "#\n",
    "file_name1 = 'dataframe_1.csv'\n",
    "df1.to_csv(file_name1)"
   ],
   "execution_count": null,
   "outputs": []
  },
  {
   "cell_type": "code",
   "metadata": {
    "colab": {
     "base_uri": "https://localhost:8080/"
    },
    "id": "BJydN8MaB7TC",
    "executionInfo": {
     "status": "ok",
     "timestamp": 1608231878502,
     "user_tz": -180,
     "elapsed": 605,
     "user": {
      "displayName": "Nikolas Lisin",
      "photoUrl": "https://lh3.googleusercontent.com/a-/AOh14GglBcUQQP3bI3m2AUOHwIb_P2r1uLvHzvowIYH1=s64",
      "userId": "10718378555749373306"
     }
    },
    "outputId": "a130dfc9-496b-46db-af21-4bbeb51a70dd"
   },
   "source": [
    "df1.shape"
   ],
   "execution_count": null,
   "outputs": []
  },
  {
   "cell_type": "code",
   "metadata": {
    "id": "6FeprMO_1PTo"
   },
   "source": [
    "#\n",
    "monthChange = df1.pct_change()\n",
    "file_name2 = 'dataframe_pct_change.csv'\n",
    "monthChange.to_csv(file_name2)"
   ],
   "execution_count": null,
   "outputs": []
  },
  {
   "cell_type": "code",
   "metadata": {
    "colab": {
     "base_uri": "https://localhost:8080/"
    },
    "id": "GjAOwrO1CG8T",
    "executionInfo": {
     "status": "ok",
     "timestamp": 1608231892782,
     "user_tz": -180,
     "elapsed": 578,
     "user": {
      "displayName": "Nikolas Lisin",
      "photoUrl": "https://lh3.googleusercontent.com/a-/AOh14GglBcUQQP3bI3m2AUOHwIb_P2r1uLvHzvowIYH1=s64",
      "userId": "10718378555749373306"
     }
    },
    "outputId": "efcd0bf1-2a53-4325-b8e0-830a24be5fe9"
   },
   "source": [
    "# Сохранение Y\n",
    "df1.drop(df1.columns[[0,1,2,3,4,5,6,7,8]], axis='columns', inplace=True)"
   ],
   "execution_count": null,
   "outputs": []
  },
  {
   "cell_type": "code",
   "metadata": {
    "colab": {
     "base_uri": "https://localhost:8080/",
     "height": 431
    },
    "id": "8H6sZakcCR66",
    "executionInfo": {
     "status": "ok",
     "timestamp": 1608231894955,
     "user_tz": -180,
     "elapsed": 601,
     "user": {
      "displayName": "Nikolas Lisin",
      "photoUrl": "https://lh3.googleusercontent.com/a-/AOh14GglBcUQQP3bI3m2AUOHwIb_P2r1uLvHzvowIYH1=s64",
      "userId": "10718378555749373306"
     }
    },
    "outputId": "4052e970-d610-4e0d-9835-764e2483947d"
   },
   "source": [
    "file_name3 = 'dataframe_Y.csv'\n",
    "df1.to_csv(file_name3)\n",
    "df1"
   ],
   "execution_count": null,
   "outputs": []
  },
  {
   "cell_type": "code",
   "metadata": {
    "id": "-cBW8mtWA4O_"
   },
   "source": [
    ""
   ],
   "execution_count": null,
   "outputs": []
  }
 ]
}