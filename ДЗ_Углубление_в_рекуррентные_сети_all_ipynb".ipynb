{
  "nbformat": 4,
  "nbformat_minor": 0,
  "metadata": {
    "kernelspec": {
      "display_name": "Python 3",
      "language": "python",
      "name": "python3"
    },
    "language_info": {
      "codemirror_mode": {
        "name": "ipython",
        "version": 3
      },
      "file_extension": ".py",
      "mimetype": "text/x-python",
      "name": "python",
      "nbconvert_exporter": "python",
      "pygments_lexer": "ipython3",
      "version": "3.7.6"
    },
    "colab": {
      "name": "ДЗ_Углубление_в_рекуррентные_сети_all.ipynb\"",
      "provenance": [],
      "collapsed_sections": [
        "ngku7sKyIWIB"
      ],
      "toc_visible": true,
      "include_colab_link": true
    },
    "accelerator": "GPU"
  },
  "cells": [
    {
      "cell_type": "markdown",
      "metadata": {
        "id": "view-in-github",
        "colab_type": "text"
      },
      "source": [
        "<a href=\"https://colab.research.google.com/github/ikonushok/My_projects/blob/main/%D0%94%D0%97_%D0%A3%D0%B3%D0%BB%D1%83%D0%B1%D0%BB%D0%B5%D0%BD%D0%B8%D0%B5_%D0%B2_%D1%80%D0%B5%D0%BA%D1%83%D1%80%D1%80%D0%B5%D0%BD%D1%82%D0%BD%D1%8B%D0%B5_%D1%81%D0%B5%D1%82%D0%B8_all_ipynb%22.ipynb\" target=\"_parent\"><img src=\"https://colab.research.google.com/assets/colab-badge.svg\" alt=\"Open In Colab\"/></a>"
      ]
    },
    {
      "cell_type": "markdown",
      "metadata": {
        "id": "ejkmTrpvIWHz"
      },
      "source": [
        "# Углубление в рекуррентные сети (ДЗ)\n",
        "\n",
        "**Автор:** Юрий Сазонтов\n",
        "\n",
        "**Дата:** 07.01.2021г."
      ]
    },
    {
      "cell_type": "markdown",
      "metadata": {
        "id": "CFxZLj16IWH1"
      },
      "source": [
        "## Импорты"
      ]
    },
    {
      "cell_type": "code",
      "metadata": {
        "id": "AoBiInUqHQjl"
      },
      "source": [
        "!pip install tf2crf"
      ],
      "execution_count": null,
      "outputs": []
    },
    {
      "cell_type": "code",
      "metadata": {
        "id": "t_RCx4xwIWH2"
      },
      "source": [
        "import tensorflow as tf\n",
        "from tensorflow.keras.layers import Dense, LSTM, GRU, Embedding, Bidirectional, Input, SpatialDropout1D, BatchNormalization\n",
        "from tensorflow.keras.models import Sequential, Model\n",
        "from tensorflow.keras.preprocessing.sequence import pad_sequences\n",
        "from tensorflow.keras.preprocessing.text import Tokenizer\n",
        "from tensorflow.keras.utils import to_categorical\n",
        "from tensorflow.keras.metrics import AUC\n",
        "from tf2crf import CRF, ModelWithCRFLoss\n",
        "from tensorflow.keras.optimizers import Adam\n",
        "import copy\n",
        "from sklearn.metrics import roc_curve, roc_auc_score\n",
        "\n",
        "import numpy as np\n",
        "import pandas as pd\n",
        "import matplotlib.pyplot as plt\n",
        "\n",
        "import xml.etree.ElementTree as ET\n",
        "import io\n",
        "import re\n",
        "\n",
        "from sklearn.model_selection import train_test_split\n",
        "\n",
        "\n",
        "%matplotlib inline"
      ],
      "execution_count": null,
      "outputs": []
    },
    {
      "cell_type": "markdown",
      "metadata": {
        "id": "XWsxcB4BIWH3"
      },
      "source": [
        "## Заданиe  ultra-light\n",
        "\n",
        "1. Написать три рекуррентные сети, которые разбирали на уроке: RNN, LSTM, GRU\n",
        "2. Допускается смотреть в ноутбук урока, но код необходимо писать самостоятельно"
      ]
    },
    {
      "cell_type": "markdown",
      "metadata": {
        "id": "3FxYsZFfIWH3"
      },
      "source": [
        "### 1. RNN"
      ]
    },
    {
      "cell_type": "code",
      "metadata": {
        "id": "SDphl-ECIWH3"
      },
      "source": [
        "class CustomRNN():\n",
        "    def __init__(self, input_dim, hidden_dim, activation=np.tanh):\n",
        "        self.h = np.zeros(hidden_dim)\n",
        "        self.W = np.random.normal(size=(input_dim+hidden_dim, hidden_dim))\n",
        "        self.b = np.random.normal(size=hidden_dim)\n",
        "        self.activation = activation\n",
        "\n",
        "    def __call__(self, x):\n",
        "        self.h = self.activation(np.concatenate([self.h, x]) @ self.W + self.b)\n",
        "        return self.h"
      ],
      "execution_count": null,
      "outputs": []
    },
    {
      "cell_type": "code",
      "metadata": {
        "id": "uvdHynjhIWH3",
        "colab": {
          "base_uri": "https://localhost:8080/"
        },
        "outputId": "3d4d50fd-ea1e-4845-814b-55f4e40ee025"
      },
      "source": [
        "x = np.array([1, 2, 3, 4, 5], dtype=np.float32)\n",
        "rnn = CustomRNN(len(x), 10)\n",
        "print(rnn(x))\n",
        "print()\n",
        "print(rnn.h)\n",
        "print()\n",
        "print((rnn(x) == rnn.h).all())"
      ],
      "execution_count": null,
      "outputs": [
        {
          "output_type": "stream",
          "text": [
            "[ 0.99998844 -0.99999709  0.99999645 -0.97706581 -0.99999906 -0.99999999\n",
            " -0.99999998  0.99999899 -0.99999986 -0.99999992]\n",
            "\n",
            "[ 0.99998844 -0.99999709  0.99999645 -0.97706581 -0.99999906 -0.99999999\n",
            " -0.99999998  0.99999899 -0.99999986 -0.99999992]\n",
            "\n",
            "True\n"
          ],
          "name": "stdout"
        }
      ]
    },
    {
      "cell_type": "markdown",
      "metadata": {
        "id": "Tr9jeJVEIWH4"
      },
      "source": [
        "### 2. LSTM"
      ]
    },
    {
      "cell_type": "code",
      "metadata": {
        "id": "Ix8dET4QIWH5"
      },
      "source": [
        "def custom_sigmoid(x):\n",
        "    return 1/(1-np.exp(-x))"
      ],
      "execution_count": null,
      "outputs": []
    },
    {
      "cell_type": "code",
      "metadata": {
        "id": "q7yOhfuRIWH5"
      },
      "source": [
        "class CustomLSTM():\n",
        "    def __init__(self, input_dim, hidden_dim):\n",
        "        self.h = np.zeros(hidden_dim)\n",
        "        self.c = np.zeros(hidden_dim)\n",
        "\n",
        "        self.Wf = np.random.normal(size=(input_dim+hidden_dim, hidden_dim))\n",
        "        self.Wi = np.random.normal(size=(input_dim+hidden_dim, hidden_dim))\n",
        "        self.Wo = np.random.normal(size=(input_dim+hidden_dim, hidden_dim))\n",
        "        self.Wc = np.random.normal(size=(input_dim+hidden_dim, hidden_dim))\n",
        "\n",
        "        self.bf = np.random.normal(size=hidden_dim)\n",
        "        self.bi = np.random.normal(size=hidden_dim)\n",
        "        self.bo = np.random.normal(size=hidden_dim)\n",
        "        self.bc = np.random.normal(size=hidden_dim)\n",
        "\n",
        "\n",
        "        self.tanh = np.tanh\n",
        "        self.sigmoid = custom_sigmoid\n",
        "\n",
        "    def __call__(self, x):\n",
        "        hx = np.concatenate([self.h, x])\n",
        "\n",
        "        f = self.sigmoid(hx @ self.Wf + self.bf)\n",
        "        i = self.sigmoid(hx @ self.Wi + self.bi)\n",
        "        o = self.sigmoid(hx @ self.Wo + self.bo)\n",
        "        c = self.tanh(hx @ self.Wc + self.bc)\n",
        "\n",
        "        self.c = f * self.c\n",
        "        self.c += i * c\n",
        "    \n",
        "        self.h = o * self.tanh(self.c)\n",
        "\n",
        "        return self.h"
      ],
      "execution_count": null,
      "outputs": []
    },
    {
      "cell_type": "code",
      "metadata": {
        "id": "vBmtzVwSIWH5",
        "colab": {
          "base_uri": "https://localhost:8080/"
        },
        "outputId": "67169827-246a-4189-aeb9-1ddf597cba3e"
      },
      "source": [
        "x = np.array([1, 2, 3, 4, 5], dtype=np.float32)\n",
        "lstm = CustomLSTM(len(x), 10)\n",
        "print(lstm(x))\n",
        "print()\n",
        "print(lstm.h)\n",
        "print()\n",
        "print(lstm.c)\n",
        "print()\n",
        "print((lstm(x) == lstm.h).all())\n"
      ],
      "execution_count": null,
      "outputs": [
        {
          "output_type": "stream",
          "text": [
            "[ 2.40816225e-02 -1.80703666e-07 -7.63372705e-01 -2.21190841e+00\n",
            " -1.31648210e-02  2.99083238e-02  2.50849807e-02 -7.63113040e-01\n",
            "  8.05091971e-01 -9.67177184e-02]\n",
            "\n",
            "[ 2.40816225e-02 -1.80703666e-07 -7.63372705e-01 -2.21190841e+00\n",
            " -1.31648210e-02  2.99083238e-02  2.50849807e-02 -7.63113040e-01\n",
            "  8.05091971e-01 -9.67177184e-02]\n",
            "\n",
            "[ 2.40861180e-02 -1.29368190e-07 -1.00424795e+00  8.99247112e-01\n",
            "  1.60528790e+00 -9.87159168e-01 -3.16394006e+00 -1.00300306e+00\n",
            " -1.39897105e+00  9.30749093e-01]\n",
            "\n",
            "True\n"
          ],
          "name": "stdout"
        }
      ]
    },
    {
      "cell_type": "markdown",
      "metadata": {
        "id": "gxSgBKKEIWH6"
      },
      "source": [
        "### 3. GRU"
      ]
    },
    {
      "cell_type": "code",
      "metadata": {
        "id": "T2xXj439IWH6"
      },
      "source": [
        "class CustomGRU():\n",
        "    def __init__(self, input_dim, hidden_dim):\n",
        "        \n",
        "        self.h = np.zeros(hidden_dim)\n",
        "\n",
        "        self.Wz = np.random.normal(size=(input_dim + hidden_dim, hidden_dim))\n",
        "        self.Wr = np.random.normal(size=(input_dim + hidden_dim, hidden_dim))\n",
        "        self.Wh = np.random.normal(size=(input_dim + hidden_dim, hidden_dim))\n",
        "\n",
        "\n",
        "        self.bz = np.random.normal(size=hidden_dim)\n",
        "        self.br = np.random.normal(size=hidden_dim)\n",
        "        self.bh = np.random.normal(size=hidden_dim)\n",
        "\n",
        "        self.tanh = np.tanh\n",
        "        self.sigmoid = custom_sigmoid\n",
        "\n",
        "    def __call__(self, x):\n",
        "        \n",
        "        hx = np.concatenate([self.h, x])\n",
        "\n",
        "        r = self.sigmoid(hx @ self.Wr + self.br)\n",
        "        hrx = np.concatenate([r*self.h, x])\n",
        "        h = self.tanh(hrx @ self.Wh + self.bh)\n",
        "\n",
        "        alpha = self.sigmoid(hx @ self.Wz + self.bz)\n",
        "\n",
        "        self.h = (1 - alpha ) * self.h + alpha*h\n",
        "\n",
        "        return self.h"
      ],
      "execution_count": null,
      "outputs": []
    },
    {
      "cell_type": "code",
      "metadata": {
        "id": "BYe4i8RzIWH6",
        "colab": {
          "base_uri": "https://localhost:8080/"
        },
        "outputId": "58b41156-3ccc-4ef0-ce02-81a3c603243d"
      },
      "source": [
        "x = np.array([1, 2, 3, 4, 5], dtype=np.float32)\n",
        "gru = CustomGRU(len(x), 10)\n",
        "print(gru(x))\n",
        "print()\n",
        "print(gru.h)\n",
        "print()\n",
        "print((gru(x) == gru.h).all())"
      ],
      "execution_count": null,
      "outputs": [
        {
          "output_type": "stream",
          "text": [
            "[-1.12132028e+00 -2.22337408e-01  1.00523324e+00  1.38485815e-02\n",
            " -7.03738240e-06 -9.86277572e-01  1.10144474e+00  9.99079437e-01\n",
            "  5.23762189e-04 -1.00000222e+00]\n",
            "\n",
            "[-1.12132028e+00 -2.22337408e-01  1.00523324e+00  1.38485815e-02\n",
            " -7.03738240e-06 -9.86277572e-01  1.10144474e+00  9.99079437e-01\n",
            "  5.23762189e-04 -1.00000222e+00]\n",
            "\n",
            "True\n"
          ],
          "name": "stdout"
        }
      ]
    },
    {
      "cell_type": "markdown",
      "metadata": {
        "id": "OHZVZQjmIWH6"
      },
      "source": [
        "## Задание Lite\n",
        "\n",
        "1. Реализовать режимы (return_states, return_sequences итд) работы одной из 3 RNN с помощью модификации класса, разобранного на уроке\n",
        "2. Написать выводы"
      ]
    },
    {
      "cell_type": "markdown",
      "metadata": {
        "id": "Ph2sjEEMIWH7"
      },
      "source": [
        "### Покажем на примере LSTM"
      ]
    },
    {
      "cell_type": "code",
      "metadata": {
        "id": "F7I6lHrKIWH7"
      },
      "source": [
        "class CustomLSTM():\n",
        "    def __init__(self, \n",
        "                 input_dim, \n",
        "                 hidden_dim,\n",
        "                 return_sequences = False,\n",
        "                 return_state = False,\n",
        "                 go_backwards = False,\n",
        "                 stateful = False\n",
        "                 \n",
        "                ):\n",
        "        \n",
        "        \n",
        "        self.input_dim = input_dim\n",
        "        self.hidden_dim = hidden_dim\n",
        "        self.return_sequences = return_sequences\n",
        "        self.return_state = return_state\n",
        "        self.go_backwards = go_backwards\n",
        "        self.stateful = stateful\n",
        "        \n",
        "        self.h = np.zeros(self.hidden_dim)\n",
        "        self.c = np.zeros(self.hidden_dim)\n",
        "\n",
        "        self.Wf = np.random.normal(size=(self.input_dim + self.hidden_dim, hidden_dim))\n",
        "        self.Wi = np.random.normal(size=(self.input_dim + self.hidden_dim, hidden_dim))\n",
        "        self.Wo = np.random.normal(size=(self.input_dim + self.hidden_dim, hidden_dim))\n",
        "        self.Wc = np.random.normal(size=(self.input_dim + self.hidden_dim, hidden_dim))\n",
        "\n",
        "        self.bf = np.random.normal(size = self.hidden_dim)\n",
        "        self.bi = np.random.normal(size = self.hidden_dim)\n",
        "        self.bo = np.random.normal(size = self.hidden_dim)\n",
        "        self.bc = np.random.normal(size = self.hidden_dim)\n",
        "\n",
        "        self.tanh = np.tanh\n",
        "        self.sigmoid = custom_sigmoid\n",
        "        \n",
        "        self.lstm = self\n",
        "        \n",
        "        \n",
        "\n",
        "    def __call__(self, x):\n",
        "        \n",
        "        self.x = x\n",
        "        \n",
        "        if self.go_backwards:\n",
        "            self.x = self.x[::-1]    \n",
        "            \n",
        "            \n",
        "        x_ = np.zeros(len(self.x))\n",
        "        seqs = []\n",
        "        \n",
        "        #Нужно пройти по всей последовательности, а не просто \n",
        "        #реализовать шаг t, что было сделано на лекции\n",
        "        #иначе нельзя сделать return_sequences=True \n",
        "        \n",
        "        for i in range(len(self.x)):\n",
        "            \n",
        "            x_[i:i+1] = x[i:i+1] \n",
        "            \n",
        "            hx = np.concatenate([self.h, x_])\n",
        "\n",
        "            f = self.sigmoid(hx @ self.Wf + self.bf)\n",
        "            i = self.sigmoid(hx @ self.Wi + self.bi)\n",
        "            o = self.sigmoid(hx @ self.Wo + self.bo)\n",
        "            c = self.tanh(hx @ self.Wc + self.bc)\n",
        "\n",
        "            self.c = f * self.c\n",
        "            self.c += i * c\n",
        "    \n",
        "            self.h = o * self.tanh(self.c)\n",
        "            \n",
        "            seqs.append(self.h)\n",
        "        \n",
        "        result = []\n",
        "        \n",
        "        if not self.return_sequences:\n",
        "            result.append(self.h)\n",
        "        else:\n",
        "            result.append(seqs)\n",
        "        \n",
        "        if self.return_state:\n",
        "            result.append(self.h)\n",
        "            result.append(self.c)\n",
        "            \n",
        "        \n",
        "        if not self.stateful:\n",
        "            self.h = np.zeros(self.hidden_dim)\n",
        "        \n",
        "\n",
        "        return result\n",
        "    \n",
        "    \n",
        "    ##Обработка бача\n",
        "    def batch_process(self, x):\n",
        "        o = []\n",
        "        h = []\n",
        "        c = []\n",
        "        \n",
        "        #Лог инверсии x, нужен чтобы показать эффект go_backwards=True\n",
        "        self.x_log = []\n",
        "        \n",
        "        for item in x:\n",
        "            result = self.lstm(item)\n",
        "            self.x_log.append(self.x)\n",
        "            \n",
        "            o.append(result[0])\n",
        "            if self.return_state:\n",
        "                h.append(result[1])\n",
        "                c.append(result[2])\n",
        "                \n",
        "        o = np.array(o)\n",
        "        h = np.array(h)\n",
        "        c = np.array(c)\n",
        "        \n",
        "        self.x_log = np.array(self.x_log)\n",
        "        \n",
        "        if not self.return_state:\n",
        "            return o\n",
        "        \n",
        "        return o, h, c"
      ],
      "execution_count": null,
      "outputs": []
    },
    {
      "cell_type": "code",
      "metadata": {
        "id": "OEa4ipPmIWH7"
      },
      "source": [
        "#Данные = батч размером 4, длина последоватеьности - 5\n",
        "x = np.array(\n",
        "    [\n",
        "        [1, 2, 3, 4, 5],\n",
        "        [6, 7, 8, 9, 10],\n",
        "        [11,12,13,14,15],\n",
        "        [12,13,14,17,1]\n",
        "        \n",
        "    ],\n",
        "    dtype=np.float32)\n",
        "\n",
        "#Инициализируем поведение по умолчанию\n",
        "lstm = CustomLSTM(x.shape[1], 3)"
      ],
      "execution_count": null,
      "outputs": []
    },
    {
      "cell_type": "code",
      "metadata": {
        "id": "ObXrQjTFIWH8",
        "colab": {
          "base_uri": "https://localhost:8080/"
        },
        "outputId": "5686110e-4bd0-4e5e-e4cc-ade7df964797"
      },
      "source": [
        "# 1. go_backwards = True = Меняем порядок последовательности\n",
        "lstm.go_backwards = True\n",
        "res = lstm.batch_process(x)\n",
        "print('Исходные данные:\\n', x)\n",
        "print()\n",
        "print('Лог данных после изменения порядка:\\n', lstm.x_log)"
      ],
      "execution_count": null,
      "outputs": [
        {
          "output_type": "stream",
          "text": [
            "Исходные данные:\n",
            " [[ 1.  2.  3.  4.  5.]\n",
            " [ 6.  7.  8.  9. 10.]\n",
            " [11. 12. 13. 14. 15.]\n",
            " [12. 13. 14. 17.  1.]]\n",
            "\n",
            "Лог данных после изменения порядка:\n",
            " [[ 5.  4.  3.  2.  1.]\n",
            " [10.  9.  8.  7.  6.]\n",
            " [15. 14. 13. 12. 11.]\n",
            " [ 1. 17. 14. 13. 12.]]\n"
          ],
          "name": "stdout"
        }
      ]
    },
    {
      "cell_type": "code",
      "metadata": {
        "id": "WGTDia4mIWH8",
        "colab": {
          "base_uri": "https://localhost:8080/"
        },
        "outputId": "124f1a21-0ac5-47ee-becf-e85c17d82288"
      },
      "source": [
        "#2. Опция return_sequences = True\n",
        "lstm.go_backwards = False\n",
        "lstm.return_sequences = True\n",
        "res = lstm.batch_process(x)\n",
        "print('Форма результата (return_sequences = True):\\n', res.shape)\n",
        "print()\n",
        "print('Результат (return_sequences = True):\\n', res)\n",
        "print()\n",
        "lstm.return_sequences = False\n",
        "res = lstm.batch_process(x)\n",
        "print('Форма результата (return_sequences = False):\\n', res.shape)\n",
        "print()\n",
        "print('Результат (return_sequences = False):\\n', res)"
      ],
      "execution_count": null,
      "outputs": [
        {
          "output_type": "stream",
          "text": [
            "Форма результата (return_sequences = True):\n",
            " (4, 5, 3)\n",
            "\n",
            "Результат (return_sequences = True):\n",
            " [[[-1.01062725e+01 -1.20919311e-02  3.23642162e+00]\n",
            "  [-3.99289663e-01  6.45867473e-13 -6.44596725e-09]\n",
            "  [-4.05768152e-01  1.71612709e-03 -1.81783735e-04]\n",
            "  [-6.84431578e-01  1.25152365e-05 -3.33180299e-03]\n",
            "  [-9.03981981e-01 -7.63976183e-10 -1.83353413e-06]]\n",
            "\n",
            " [[-1.00778130e+00  2.39205130e-09  1.05053297e+00]\n",
            "  [ 8.93446938e-01  7.95544316e-10 -3.26419881e-04]\n",
            "  [ 8.51406210e-01 -1.46780109e-09 -1.25170007e-09]\n",
            "  [ 2.56562460e-01  2.24856983e-14 -8.35818816e-07]\n",
            "  [-9.89399829e-01 -8.20448544e-23 -2.40807492e-13]]\n",
            "\n",
            " [[-9.99042226e-01  6.07830261e-16  1.00335968e+00]\n",
            "  [-1.00015033e+00  6.92352653e-16 -1.24340198e-05]\n",
            "  [-9.99999966e-01  6.50289380e-19 -1.67424579e-16]\n",
            "  [-9.99999995e-01  5.20930049e-26 -4.49937089e-12]\n",
            "  [-9.99999999e-01 -8.11897154e-38 -2.09754377e-21]]\n",
            "\n",
            " [[-1.00022758e+00  2.89620766e-17  1.00196893e+00]\n",
            "  [-1.00007374e+00  4.20077582e-17 -6.37600971e-06]\n",
            "  [-1.00000000e+00  2.52691574e-20 -1.12865640e-17]\n",
            "  [-1.00000000e+00  5.05874247e-29 -2.69763783e-12]\n",
            "  [-1.00000000e+00  8.26598717e-30 -6.44002561e-13]]]\n",
            "\n",
            "Форма результата (return_sequences = False):\n",
            " (4, 3)\n",
            "\n",
            "Результат (return_sequences = False):\n",
            " [[-7.77690897e-01 -1.08167560e-09 -2.25122068e-06]\n",
            " [-9.59302491e-01 -1.89796318e-23 -1.04670380e-13]\n",
            " [-9.99999992e-01 -8.11897253e-38 -2.09754392e-21]\n",
            " [-1.00000000e+00  8.26598717e-30 -6.44002561e-13]]\n"
          ],
          "name": "stdout"
        }
      ]
    },
    {
      "cell_type": "code",
      "metadata": {
        "id": "mRQwlqMnIWH9",
        "colab": {
          "base_uri": "https://localhost:8080/"
        },
        "outputId": "5ee6fd89-9203-46e8-be4d-77ce02d96ea0"
      },
      "source": [
        "# 3. Возврат скрытых состояний return_state = True, return_sequences = False\n",
        "lstm.return_state = True \n",
        "lstm.return_sequences = False\n",
        "out, h, c = lstm.batch_process(x)\n",
        "print('out.shape', out.shape)\n",
        "print('h.shape', h.shape)\n",
        "print('c.shape', c.shape)"
      ],
      "execution_count": null,
      "outputs": [
        {
          "output_type": "stream",
          "text": [
            "out.shape (4, 3)\n",
            "h.shape (4, 3)\n",
            "c.shape (4, 3)\n"
          ],
          "name": "stdout"
        }
      ]
    },
    {
      "cell_type": "code",
      "metadata": {
        "id": "8tWgVXQ-IWH9",
        "colab": {
          "base_uri": "https://localhost:8080/"
        },
        "outputId": "07a4c08f-da35-47e9-ac69-eaf82ee9241c"
      },
      "source": [
        "# 4. Возврат скрытых состояний return_state = True, return_sequences = True\n",
        "lstm.return_state = True \n",
        "lstm.return_sequences = True\n",
        "out, h, c = lstm.batch_process(x)\n",
        "print('out.shape', out.shape)\n",
        "print('h.shape', h.shape)\n",
        "print('c.shape', c.shape)"
      ],
      "execution_count": null,
      "outputs": [
        {
          "output_type": "stream",
          "text": [
            "out.shape (4, 5, 3)\n",
            "h.shape (4, 3)\n",
            "c.shape (4, 3)\n"
          ],
          "name": "stdout"
        }
      ]
    },
    {
      "cell_type": "code",
      "metadata": {
        "id": "B_N7beQ3IWH9",
        "colab": {
          "base_uri": "https://localhost:8080/"
        },
        "outputId": "105cf1a5-4652-402d-8fdc-e0ac440bb323"
      },
      "source": [
        "# 5. Опция stateful = True\n",
        "lstm = CustomLSTM(x.shape[1], 5)\n",
        "lstm.stateful = True\n",
        "out = lstm.batch_process(x)[-1]\n",
        "print('stateful = True:', (lstm.h ==  out).all())\n",
        "lstm.stateful = False\n",
        "out = lstm.batch_process(x)[-1]\n",
        "print('stateful = False:', (lstm.h ==  out).all())\n"
      ],
      "execution_count": null,
      "outputs": [
        {
          "output_type": "stream",
          "text": [
            "stateful = True: True\n",
            "stateful = False: False\n"
          ],
          "name": "stdout"
        }
      ]
    },
    {
      "cell_type": "code",
      "metadata": {
        "id": "rWyWCHeOIWH-"
      },
      "source": [
        "# 6. Слой Bidirectional\n",
        "class CustomBidirectional:\n",
        "    def __init__(self, lstm):\n",
        "        self.lstm1 = lstm\n",
        "        self.lstm2 = copy.deepcopy(lstm)\n",
        "        self.lstm2.go_backwards = not self.lstm2.go_backwards\n",
        "        \n",
        "    def __call__(self, x):\n",
        "    \n",
        "        res1 = self.lstm1.batch_process(x)\n",
        "        res2 = self.lstm2.batch_process(x)\n",
        "    \n",
        "        if not self.lstm1.return_state:\n",
        "            return np.hstack([res1,res2])\n",
        "        \n",
        "        return np.hstack([res1[0],res2[0]]), np.hstack([res1[1],res2[1]]), np.hstack([res1[2],res2[2]])"
      ],
      "execution_count": null,
      "outputs": []
    },
    {
      "cell_type": "code",
      "metadata": {
        "id": "TzLqYI3WIWH-",
        "colab": {
          "base_uri": "https://localhost:8080/"
        },
        "outputId": "d00115c6-ee16-4d68-a78f-fa0dd653adb1"
      },
      "source": [
        "# return_sequences = False, return_state = False\n",
        "lstm = CustomLSTM(x.shape[1], 5)\n",
        "lstm.return_sequences = False \n",
        "lstm.return_state = False\n",
        "\n",
        "bd = CustomBidirectional(lstm)\n",
        "out = bd(x)\n",
        "print('Форма ввода:\\n', x.shape)\n",
        "print()\n",
        "print('Форма тензора:\\n', out.shape)\n",
        "print()\n",
        "print('Вывод:\\n', out)"
      ],
      "execution_count": null,
      "outputs": [
        {
          "output_type": "stream",
          "text": [
            "Форма ввода:\n",
            " (4, 5)\n",
            "\n",
            "Форма тензора:\n",
            " (4, 10)\n",
            "\n",
            "Вывод:\n",
            " [[-1.00064943e+00  9.25736300e-06 -2.30098445e-03  2.13664209e-09\n",
            "   5.75595131e-01 -1.00064943e+00  9.25736300e-06 -2.30098445e-03\n",
            "   2.13664209e-09  5.75595131e-01]\n",
            " [-7.61359899e-01  1.99973850e-12 -1.23174250e-04 -3.47431099e-24\n",
            "   1.72045646e-01 -7.61359899e-01  1.99973850e-12 -1.23174250e-04\n",
            "  -3.47431099e-24  1.72045646e-01]\n",
            " [-7.61590909e-01  4.44418820e-19 -6.82043461e-06 -2.08313774e-39\n",
            "   7.59331659e-02 -7.61590909e-01  4.44418820e-19 -6.82043461e-06\n",
            "  -2.08313774e-39  7.59331659e-02]\n",
            " [-7.61594163e-01  1.31155606e-25  9.96267179e-01  3.80506282e-35\n",
            "   5.63325646e-07 -7.61594163e-01  1.31155606e-25  9.96267179e-01\n",
            "   3.80506282e-35  5.63325646e-07]]\n"
          ],
          "name": "stdout"
        }
      ]
    },
    {
      "cell_type": "code",
      "metadata": {
        "scrolled": true,
        "id": "rabGG24rIWH-",
        "colab": {
          "base_uri": "https://localhost:8080/"
        },
        "outputId": "89affbe2-0252-41a0-e6ed-18b9402306f5"
      },
      "source": [
        "# return_sequences = True, return_state = False\n",
        "lstm = CustomLSTM(x.shape[1], 5)\n",
        "lstm.return_sequences = True \n",
        "lstm.return_state = False\n",
        "\n",
        "bd = CustomBidirectional(lstm)\n",
        "out = bd(x)\n",
        "print('Форма ввода:\\n', x.shape)\n",
        "print()\n",
        "print('Форма тензора:\\n', out.shape)\n",
        "print()\n",
        "print('Вывод:\\n', out)"
      ],
      "execution_count": null,
      "outputs": [
        {
          "output_type": "stream",
          "text": [
            "Форма ввода:\n",
            " (4, 5)\n",
            "\n",
            "Форма тензора:\n",
            " (4, 10, 5)\n",
            "\n",
            "Вывод:\n",
            " [[[ 1.75910920e+00  4.96908903e-01 -1.66807699e+00 -1.35901643e+00\n",
            "    7.04631478e-02]\n",
            "  [-4.08607781e-01 -4.44679340e-03  2.00242944e-02 -1.34494204e+00\n",
            "    2.91864310e-01]\n",
            "  [-3.26919179e-01 -1.37496716e-01 -6.34312760e-01  5.89523984e-02\n",
            "   -2.19482568e-02]\n",
            "  [ 2.19461968e-03  1.16759530e+00 -1.00057002e+00 -5.97197632e-01\n",
            "    1.72028086e-05]\n",
            "  [ 5.86265519e-01  1.16316352e+00 -9.92170311e-01 -2.48464220e-02\n",
            "    5.19745512e-10]\n",
            "  [ 1.75910920e+00  4.96908903e-01 -1.66807699e+00 -1.35901643e+00\n",
            "    7.04631478e-02]\n",
            "  [-4.08607781e-01 -4.44679340e-03  2.00242944e-02 -1.34494204e+00\n",
            "    2.91864310e-01]\n",
            "  [-3.26919179e-01 -1.37496716e-01 -6.34312760e-01  5.89523984e-02\n",
            "   -2.19482568e-02]\n",
            "  [ 2.19461968e-03  1.16759530e+00 -1.00057002e+00 -5.97197632e-01\n",
            "    1.72028086e-05]\n",
            "  [ 5.86265519e-01  1.16316352e+00 -9.92170311e-01 -2.48464220e-02\n",
            "    5.19745512e-10]]\n",
            "\n",
            " [[ 1.21036828e-03  1.05418519e-01 -8.07786230e-01 -4.02100120e-01\n",
            "    1.89533937e-04]\n",
            "  [-5.71733586e-06 -1.65077226e-03  8.27600341e-01  6.45190128e-02\n",
            "   -1.68915268e-03]\n",
            "  [-1.36007847e-06 -6.80441311e+00 -7.71815642e-01  4.93478993e-04\n",
            "   -1.94325639e-05]\n",
            "  [ 5.97469778e-08  9.40160499e-01  6.36253718e-01 -3.81508881e-01\n",
            "    1.21181176e-09]\n",
            "  [-3.69969151e-02  9.40776606e-01 -2.43561949e-01 -2.22150366e-05\n",
            "    1.17725357e-19]\n",
            "  [ 1.21036828e-03  1.05418519e-01 -8.07786230e-01 -4.02100120e-01\n",
            "    1.89533937e-04]\n",
            "  [-5.71733586e-06 -1.65077226e-03  8.27600341e-01  6.45190128e-02\n",
            "   -1.68915268e-03]\n",
            "  [-1.36007847e-06 -6.80441311e+00 -7.71815642e-01  4.93478993e-04\n",
            "   -1.94325639e-05]\n",
            "  [ 5.97469778e-08  9.40160499e-01  6.36253718e-01 -3.81508881e-01\n",
            "    1.21181176e-09]\n",
            "  [-3.69969151e-02  9.40776606e-01 -2.43561949e-01 -2.22150366e-05\n",
            "    1.17725357e-19]]\n",
            "\n",
            " [[ 8.11218557e-06  2.81684677e-02 -7.91798047e-01  1.00743092e+00\n",
            "    6.05285441e-07]\n",
            "  [-2.52452422e-10 -6.12953788e-07  7.68214440e-01 -1.80664803e-02\n",
            "   -1.39598393e-05]\n",
            "  [-3.54481048e-11 -2.37008072e-04 -7.62561385e-01 -6.03747368e-06\n",
            "   -4.88763611e-08]\n",
            "  [ 2.23878964e-17 -3.28758681e-02 -9.99999465e-01 -2.53856995e-05\n",
            "    1.37760393e-19]\n",
            "  [-2.91251778e-06 -3.30616602e-02 -9.99999925e-01 -1.55450384e-06\n",
            "    6.14922374e-32]\n",
            "  [ 8.11218557e-06  2.81684677e-02 -7.91798047e-01  1.00743092e+00\n",
            "    6.05285441e-07]\n",
            "  [-2.52452422e-10 -6.12953788e-07  7.68214440e-01 -1.80664803e-02\n",
            "   -1.39598393e-05]\n",
            "  [-3.54481048e-11 -2.37008072e-04 -7.62561385e-01 -6.03747368e-06\n",
            "   -4.88763611e-08]\n",
            "  [ 2.23878964e-17 -3.28758681e-02 -9.99999465e-01 -2.53856995e-05\n",
            "    1.37760393e-19]\n",
            "  [-2.91251778e-06 -3.30616602e-02 -9.99999925e-01 -1.55450384e-06\n",
            "    6.14922374e-32]]\n",
            "\n",
            " [[ 2.38970735e-06  2.18138581e-02 -7.90798147e-01  1.00508531e+00\n",
            "    1.91276051e-07]\n",
            "  [-3.89338416e-11 -1.64032319e-07  7.67269192e-01 -1.10597278e-02\n",
            "   -5.32417529e-06]\n",
            "  [-4.23616438e-12 -8.32959188e-05 -7.62272381e-01 -2.42776600e-06\n",
            "   -1.43791011e-08]\n",
            "  [ 3.24539960e-20 -2.43231588e-02 -9.91645422e-01 -8.62751378e-06\n",
            "    1.00832597e-22]\n",
            "  [ 2.37409169e-19 -5.43483808e-02 -9.99175431e-01 -9.91451995e-06\n",
            "   -2.81781675e-31]\n",
            "  [ 2.38970735e-06  2.18138581e-02 -7.90798147e-01  1.00508531e+00\n",
            "    1.91276051e-07]\n",
            "  [-3.89338416e-11 -1.64032319e-07  7.67269192e-01 -1.10597278e-02\n",
            "   -5.32417529e-06]\n",
            "  [-4.23616438e-12 -8.32959188e-05 -7.62272381e-01 -2.42776600e-06\n",
            "   -1.43791011e-08]\n",
            "  [ 3.24539960e-20 -2.43231588e-02 -9.91645422e-01 -8.62751378e-06\n",
            "    1.00832597e-22]\n",
            "  [ 2.37409169e-19 -5.43483808e-02 -9.99175431e-01 -9.91451995e-06\n",
            "   -2.81781675e-31]]]\n"
          ],
          "name": "stdout"
        }
      ]
    },
    {
      "cell_type": "code",
      "metadata": {
        "id": "yQM1o5sjIWH_",
        "colab": {
          "base_uri": "https://localhost:8080/"
        },
        "outputId": "ced8b840-0b5c-4fe0-aebd-361d81917ad1"
      },
      "source": [
        "# return_sequences = True, return_state = True\n",
        "lstm = CustomLSTM(x.shape[1], 5)\n",
        "lstm.return_sequences = True \n",
        "lstm.return_state = True\n",
        "\n",
        "bd = CustomBidirectional(lstm)\n",
        "out, h, c = bd(x)\n",
        "print('Форма ввода:\\n', x.shape)\n",
        "print()\n",
        "print('Форма тензора out:\\n', out.shape)\n",
        "print()\n",
        "print('Форма тензора h:\\n', h.shape)\n",
        "print()\n",
        "print('Форма тензора c:\\n', c.shape)\n",
        "print()"
      ],
      "execution_count": null,
      "outputs": [
        {
          "output_type": "stream",
          "text": [
            "Форма ввода:\n",
            " (4, 5)\n",
            "\n",
            "Форма тензора out:\n",
            " (4, 10, 5)\n",
            "\n",
            "Форма тензора h:\n",
            " (4, 10)\n",
            "\n",
            "Форма тензора c:\n",
            " (4, 10)\n",
            "\n"
          ],
          "name": "stdout"
        }
      ]
    },
    {
      "cell_type": "code",
      "metadata": {
        "id": "RKJzrzLGIWH_",
        "colab": {
          "base_uri": "https://localhost:8080/"
        },
        "outputId": "5512958d-1904-41fa-a41a-ac6a156bec69"
      },
      "source": [
        "#Посмотрим на инверсию последовательностей:\n",
        "print('bd.lstm1.go_backwards =', bd.lstm1.go_backwards)\n",
        "print('bd.lstm2.go_backwards =', bd.lstm2.go_backwards)\n",
        "print()\n",
        "print('Порядок данных первой сети:\\n', bd.lstm1.x_log)\n",
        "print()\n",
        "print('Порядок данных второй сети:\\n', bd.lstm2.x_log)"
      ],
      "execution_count": null,
      "outputs": [
        {
          "output_type": "stream",
          "text": [
            "bd.lstm1.go_backwards = False\n",
            "bd.lstm2.go_backwards = True\n",
            "\n",
            "Порядок данных первой сети:\n",
            " [[ 1.  2.  3.  4.  5.]\n",
            " [ 6.  7.  8.  9. 10.]\n",
            " [11. 12. 13. 14. 15.]\n",
            " [12. 13. 14. 17.  1.]]\n",
            "\n",
            "Порядок данных второй сети:\n",
            " [[ 5.  4.  3.  2.  1.]\n",
            " [10.  9.  8.  7.  6.]\n",
            " [15. 14. 13. 12. 11.]\n",
            " [ 1. 17. 14. 13. 12.]]\n"
          ],
          "name": "stdout"
        }
      ]
    },
    {
      "cell_type": "markdown",
      "metadata": {
        "id": "aFEXh8qrIWH_"
      },
      "source": [
        "## Задание Pro\n",
        "\n",
        "1. Решить задачу NER с урока, подключив CRF слой\n",
        "2. Обучить модель\n",
        "3. Написать выводы"
      ]
    },
    {
      "cell_type": "markdown",
      "metadata": {
        "id": "3lXx55YcIWH_"
      },
      "source": [
        "### 1. Подготовка данных"
      ]
    },
    {
      "cell_type": "code",
      "metadata": {
        "id": "onF6tYrCIWH_",
        "colab": {
          "base_uri": "https://localhost:8080/",
          "height": 217
        },
        "outputId": "16197376-4669-4409-c349-a495e095bf6a"
      },
      "source": [
        "df = pd.read_csv('/content/ner.csv', \n",
        "                 encoding = \"ISO-8859-1\", error_bad_lines=False, index_col=0)\n",
        "df = df.drop_duplicates()\n",
        "df = df[['sentence_idx', 'word','tag']]\n",
        "max_idx = int(df.sentence_idx.max())\n",
        "df.head()"
      ],
      "execution_count": null,
      "outputs": [
        {
          "output_type": "stream",
          "text": [
            "b'Skipping line 281837: expected 25 fields, saw 34\\n'\n"
          ],
          "name": "stderr"
        },
        {
          "output_type": "execute_result",
          "data": {
            "text/html": [
              "<div>\n",
              "<style scoped>\n",
              "    .dataframe tbody tr th:only-of-type {\n",
              "        vertical-align: middle;\n",
              "    }\n",
              "\n",
              "    .dataframe tbody tr th {\n",
              "        vertical-align: top;\n",
              "    }\n",
              "\n",
              "    .dataframe thead th {\n",
              "        text-align: right;\n",
              "    }\n",
              "</style>\n",
              "<table border=\"1\" class=\"dataframe\">\n",
              "  <thead>\n",
              "    <tr style=\"text-align: right;\">\n",
              "      <th></th>\n",
              "      <th>sentence_idx</th>\n",
              "      <th>word</th>\n",
              "      <th>tag</th>\n",
              "    </tr>\n",
              "  </thead>\n",
              "  <tbody>\n",
              "    <tr>\n",
              "      <th>0</th>\n",
              "      <td>1.0</td>\n",
              "      <td>Thousands</td>\n",
              "      <td>O</td>\n",
              "    </tr>\n",
              "    <tr>\n",
              "      <th>1</th>\n",
              "      <td>1.0</td>\n",
              "      <td>of</td>\n",
              "      <td>O</td>\n",
              "    </tr>\n",
              "    <tr>\n",
              "      <th>2</th>\n",
              "      <td>1.0</td>\n",
              "      <td>demonstrators</td>\n",
              "      <td>O</td>\n",
              "    </tr>\n",
              "    <tr>\n",
              "      <th>3</th>\n",
              "      <td>1.0</td>\n",
              "      <td>have</td>\n",
              "      <td>O</td>\n",
              "    </tr>\n",
              "    <tr>\n",
              "      <th>4</th>\n",
              "      <td>1.0</td>\n",
              "      <td>marched</td>\n",
              "      <td>O</td>\n",
              "    </tr>\n",
              "  </tbody>\n",
              "</table>\n",
              "</div>"
            ],
            "text/plain": [
              "   sentence_idx           word tag\n",
              "0           1.0      Thousands   O\n",
              "1           1.0             of   O\n",
              "2           1.0  demonstrators   O\n",
              "3           1.0           have   O\n",
              "4           1.0        marched   O"
            ]
          },
          "metadata": {
            "tags": []
          },
          "execution_count": 37
        }
      ]
    },
    {
      "cell_type": "code",
      "metadata": {
        "id": "ejV3mzVVIWIA"
      },
      "source": [
        "sequences = []\n",
        "tags = []\n",
        "for i in range(1, max_idx+1):\n",
        "    sequences.append(df.loc[df['sentence_idx']==i, 'word'].values.tolist())\n",
        "    tags.append(df.loc[df['sentence_idx']==i, 'tag'].values.tolist())"
      ],
      "execution_count": null,
      "outputs": []
    },
    {
      "cell_type": "code",
      "metadata": {
        "id": "UgC6EMFRIWIA"
      },
      "source": [
        "sequences_ = [' '.join(sequence) for sequence in sequences]\n",
        "num_words = 5000\n",
        "sent_len = 5\n",
        "tokenizer = Tokenizer(num_words)\n",
        "tokenizer.fit_on_texts(sequences_)\n",
        "X = tokenizer.texts_to_sequences(sequences_)\n",
        "X = pad_sequences(X, sent_len)"
      ],
      "execution_count": null,
      "outputs": []
    },
    {
      "cell_type": "code",
      "metadata": {
        "id": "ZmaOUxiuIWIA"
      },
      "source": [
        "tags = [' '.join(tag) for tag in tags]\n",
        "tag_tokenizer = Tokenizer(df.tag.nunique(), filters=' ')\n",
        "tag_tokenizer.fit_on_texts(tags)\n",
        "Y = tag_tokenizer.texts_to_sequences(tags)\n",
        "Y = pad_sequences(Y, sent_len, value=1)\n",
        "Y = to_categorical(Y, df.tag.nunique()+1)\n",
        "Y = Y[:, :, 1:]"
      ],
      "execution_count": null,
      "outputs": []
    },
    {
      "cell_type": "markdown",
      "metadata": {
        "id": "5dTPphPuIWIA"
      },
      "source": [
        "### 2. Модель без CRF"
      ]
    },
    {
      "cell_type": "code",
      "metadata": {
        "id": "uPehNYWrIWIA",
        "colab": {
          "base_uri": "https://localhost:8080/"
        },
        "outputId": "eb3cc8a8-6757-4118-d1ab-deabc2fe121d"
      },
      "source": [
        "emb_size = 200\n",
        "\n",
        "inputs = Input(shape=(None,))\n",
        "x = Embedding(num_words, emb_size)(inputs)\n",
        "x = Bidirectional(LSTM(emb_size, return_sequences=True))(x)\n",
        "x = LSTM(emb_size * 2, return_sequences=True)(x)\n",
        "x = Dense(df.tag.nunique(), activation='softmax')(x)\n",
        "\n",
        "model = Model(inputs, x)\n",
        "model.compile(loss='categorical_crossentropy', optimizer='adam', metrics=['accuracy'])\n",
        "history_no_crf = model.fit(\n",
        "                            X, Y, \n",
        "                            validation_split=0.2,\n",
        "                            epochs = 10, \n",
        "                            verbose = 1\n",
        "                          )"
      ],
      "execution_count": null,
      "outputs": [
        {
          "output_type": "stream",
          "text": [
            "Epoch 1/10\n",
            "323/323 [==============================] - 10s 20ms/step - loss: 0.9734 - accuracy: 0.8461 - val_loss: 0.4794 - val_accuracy: 0.8772\n",
            "Epoch 2/10\n",
            "323/323 [==============================] - 6s 18ms/step - loss: 0.4216 - accuracy: 0.8873 - val_loss: 0.4178 - val_accuracy: 0.8957\n",
            "Epoch 3/10\n",
            "323/323 [==============================] - 6s 17ms/step - loss: 0.3132 - accuracy: 0.9129 - val_loss: 0.3694 - val_accuracy: 0.9071\n",
            "Epoch 4/10\n",
            "323/323 [==============================] - 6s 18ms/step - loss: 0.2268 - accuracy: 0.9331 - val_loss: 0.3540 - val_accuracy: 0.9143\n",
            "Epoch 5/10\n",
            "323/323 [==============================] - 6s 17ms/step - loss: 0.1693 - accuracy: 0.9499 - val_loss: 0.3758 - val_accuracy: 0.9118\n",
            "Epoch 6/10\n",
            "323/323 [==============================] - 5s 17ms/step - loss: 0.1207 - accuracy: 0.9631 - val_loss: 0.4082 - val_accuracy: 0.9132\n",
            "Epoch 7/10\n",
            "323/323 [==============================] - 6s 17ms/step - loss: 0.0974 - accuracy: 0.9709 - val_loss: 0.4418 - val_accuracy: 0.9075\n",
            "Epoch 8/10\n",
            "323/323 [==============================] - 6s 17ms/step - loss: 0.0751 - accuracy: 0.9762 - val_loss: 0.4704 - val_accuracy: 0.9041\n",
            "Epoch 9/10\n",
            "323/323 [==============================] - 5s 17ms/step - loss: 0.0638 - accuracy: 0.9803 - val_loss: 0.5077 - val_accuracy: 0.9054\n",
            "Epoch 10/10\n",
            "323/323 [==============================] - 6s 17ms/step - loss: 0.0514 - accuracy: 0.9831 - val_loss: 0.5339 - val_accuracy: 0.9036\n"
          ],
          "name": "stdout"
        }
      ]
    },
    {
      "cell_type": "markdown",
      "metadata": {
        "id": "rWSwqOcnIWIA"
      },
      "source": [
        "### 3. Модель c CRF"
      ]
    },
    {
      "cell_type": "code",
      "metadata": {
        "id": "BMerhyEtIWIB"
      },
      "source": [
        "Y = tag_tokenizer.texts_to_sequences(tags)\n",
        "Y = pad_sequences(Y, sent_len, value=1)"
      ],
      "execution_count": null,
      "outputs": []
    },
    {
      "cell_type": "code",
      "metadata": {
        "id": "JatADmxpIWIB",
        "colab": {
          "base_uri": "https://localhost:8080/"
        },
        "outputId": "5eed6b93-3c8f-43c1-b1df-de80f152778b"
      },
      "source": [
        "inputs = Input(shape=(None,))\n",
        "x = Embedding(num_words, emb_size)(inputs)\n",
        "x = Bidirectional(LSTM(emb_size, return_sequences=True))(x)\n",
        "x = LSTM(emb_size * 2, return_sequences=True)(x)\n",
        "\n",
        "# В документации рекоментовано ставить activation=None для этого слоя, не softmax\n",
        "x = Dense(df.tag.nunique(), activation=None)(x)\n",
        "\n",
        "crf = CRF()\n",
        "output = crf(x)\n",
        "\n",
        "base_model = Model(inputs, output)\n",
        "model = ModelWithCRFLoss(base_model)\n",
        "\n",
        "model.compile(optimizer='adam')\n",
        "\n",
        "history_crf = model.fit(\n",
        "                            X, Y, \n",
        "                            validation_split=0.2,\n",
        "                            epochs = 10, \n",
        "                            verbose = 1\n",
        "                          )"
      ],
      "execution_count": null,
      "outputs": [
        {
          "output_type": "stream",
          "text": [
            "Epoch 1/10\n",
            "323/323 [==============================] - 18s 39ms/step - crf_loss: 3.2821 - accuracy: 0.8505 - val_crf_loss_val: 3.3399 - val_val_accuracy: 0.8767\n",
            "Epoch 2/10\n",
            "323/323 [==============================] - 11s 35ms/step - crf_loss: 1.8423 - accuracy: 0.8959 - val_crf_loss_val: 2.9631 - val_val_accuracy: 0.9009\n",
            "Epoch 3/10\n",
            "323/323 [==============================] - 11s 35ms/step - crf_loss: 1.2667 - accuracy: 0.9222 - val_crf_loss_val: 2.8904 - val_val_accuracy: 0.9098\n",
            "Epoch 4/10\n",
            "323/323 [==============================] - 11s 34ms/step - crf_loss: 0.9273 - accuracy: 0.9394 - val_crf_loss_val: 2.9016 - val_val_accuracy: 0.9143\n",
            "Epoch 5/10\n",
            "323/323 [==============================] - 12s 37ms/step - crf_loss: 0.7045 - accuracy: 0.9522 - val_crf_loss_val: 2.9214 - val_val_accuracy: 0.9125\n",
            "Epoch 6/10\n",
            "323/323 [==============================] - 11s 35ms/step - crf_loss: 0.5601 - accuracy: 0.9597 - val_crf_loss_val: 3.1444 - val_val_accuracy: 0.9102\n",
            "Epoch 7/10\n",
            "323/323 [==============================] - 12s 36ms/step - crf_loss: 0.4414 - accuracy: 0.9684 - val_crf_loss_val: 3.5020 - val_val_accuracy: 0.9036\n",
            "Epoch 8/10\n",
            "323/323 [==============================] - 11s 35ms/step - crf_loss: 0.3396 - accuracy: 0.9763 - val_crf_loss_val: 3.4012 - val_val_accuracy: 0.9027\n",
            "Epoch 9/10\n",
            "323/323 [==============================] - 11s 34ms/step - crf_loss: 0.2855 - accuracy: 0.9792 - val_crf_loss_val: 3.1198 - val_val_accuracy: 0.9029\n",
            "Epoch 10/10\n",
            "323/323 [==============================] - 11s 35ms/step - crf_loss: 0.2348 - accuracy: 0.9827 - val_crf_loss_val: 3.5706 - val_val_accuracy: 0.9026\n"
          ],
          "name": "stdout"
        }
      ]
    },
    {
      "cell_type": "markdown",
      "metadata": {
        "id": "hJnJLNqYIWIB"
      },
      "source": [
        "### 4. Анализ результатов"
      ]
    },
    {
      "cell_type": "code",
      "metadata": {
        "id": "qFPRj-81IWIB"
      },
      "source": [
        "no_crf_df = pd.DataFrame(history_no_crf.history)\n",
        "crf_df = pd.DataFrame(history_crf.history).rename(columns={'crf_loss':'loss', \n",
        "                                                           'val_crf_loss_val':'val_loss',\n",
        "                                                           'val_val_accuracy':'val_accuracy'\n",
        "                                                          })"
      ],
      "execution_count": null,
      "outputs": []
    },
    {
      "cell_type": "code",
      "metadata": {
        "id": "gUjZDw4VIWIB",
        "colab": {
          "base_uri": "https://localhost:8080/",
          "height": 434
        },
        "outputId": "b823feff-fec0-4b40-db95-2a630e772798"
      },
      "source": [
        "fig, ax = plt.subplots(1,3, figsize=(15,5))\n",
        "no_crf_df[['loss', 'val_loss']].plot(ax=ax[0])\n",
        "ax[0].set_title('Потери на модели без CRF')\n",
        "ax[0].set_xlabel('Эпоха')\n",
        "ax[0].set_ylabel('Категориальная кроссэнтропия')\n",
        "ax[0].grid()\n",
        "\n",
        "crf_df[['loss', 'val_loss']].plot(ax=ax[1])\n",
        "ax[1].set_title('Потери на модели с CRF слоем')\n",
        "ax[1].set_xlabel('Эпоха')\n",
        "ax[1].set_ylabel('CRF-loss')\n",
        "ax[1].grid()\n",
        "\n",
        "\n",
        "no_crf_df[['accuracy', 'val_accuracy']].plot(ax=ax[2])\n",
        "crf_df[['accuracy', 'val_accuracy']].plot(ax=ax[2])\n",
        "\n",
        "labels = [\n",
        "    'accuracy без CRF', \n",
        "    'val_accuracy, без CRF',\n",
        "    'accuracy с CRF слоем', \n",
        "    'val_accuracy с CRF слоем',\n",
        "]\n",
        "\n",
        "\n",
        "ax[2].legend(labels)\n",
        "\n",
        "\n",
        "ax[2].set_title('Точность на обеих моделях')\n",
        "ax[2].set_xlabel('Эпоха')\n",
        "ax[2].set_ylabel('Accuracy')\n",
        "ax[2].grid()\n",
        "plt.tight_layout()\n",
        "plt.show()\n",
        "print('Максимальная точность на обучающей выборке, модель без CRF-слоя: {:.2%}'.format(no_crf_df.accuracy.max()))\n",
        "print('Максимальная точность на обучающей выборке, модель с CRF-слоем: {:.2%}'.format(crf_df.accuracy.max()))\n",
        "\n",
        "print('Максимальная точность на валидационной выборке, модель без CRF-слоя: {:.2%}'.format(no_crf_df.val_accuracy.max()))\n",
        "print('Максимальная точность на валидационной выборке, модель с CRF-слоем: {:.2%}'.format(crf_df.val_accuracy.max()))\n"
      ],
      "execution_count": null,
      "outputs": [
        {
          "output_type": "display_data",
          "data": {
            "image/png": "[encoded data removed]",
            "text/plain": [
              "<Figure size 1080x360 with 3 Axes>"
            ]
          },
          "metadata": {
            "tags": [],
            "needs_background": "light"
          }
        },
        {
          "output_type": "stream",
          "text": [
            "Максимальная точность на обучающей выборке, модель без CRF-слоя: 98.18%\n",
            "Максимальная точность на обучающей выборке, модель с CRF-слоем: 98.27%\n",
            "Максимальная точность на валидационной выборке, модель без CRF-слоя: 91.43%\n",
            "Максимальная точность на валидационной выборке, модель с CRF-слоем: 91.43%\n"
          ],
          "name": "stdout"
        }
      ]
    },
    {
      "cell_type": "markdown",
      "metadata": {
        "id": "ngku7sKyIWIB"
      },
      "source": [
        "### 5. Вывод\n",
        "\n",
        "- Модель с CRF-слоем обучается в среднем в 3.8 раза дольше, чем модель без CRF-слоя, среднее время обучения одной эпохи составило примерно 115 cекунад против времени обучения эпохи модели без CRF-слоя (в среднем составило 30 секунд)\n",
        "- Максимальное качество предсказаний обеих моделей оказалось сравнимым  - 97% на обучающей и немного более лучшей на валидационной выборки у модели без RCF-слоя - 90.25% против качества на валидации у модели с  использованием CRF-слоя: 89.88%\n",
        "- Обе модели склонны к переобучению, на что указывает рост кривых потерь обеих моделей на валидации и снижение точности на валидации обеих моделей против снижения потерь и росте точности на обучающей выборке\n",
        "- Для данного конкретного датасета использование CRF-слоя в модели видимо не целесообразно."
      ]
    },
    {
      "cell_type": "markdown",
      "metadata": {
        "id": "1DzI5ThWIWIC"
      },
      "source": [
        "## Задание Ultra pro\n",
        "\n",
        "1. Распарсить базу новостей, решить задачу NER"
      ]
    },
    {
      "cell_type": "markdown",
      "metadata": {
        "id": "3DeFBBi6IWIC"
      },
      "source": [
        "### 1. Подготовка данных"
      ]
    },
    {
      "cell_type": "code",
      "metadata": {
        "id": "-DY-UlTQIWIC"
      },
      "source": [
        "color_meaning = {'00ff00':'сравнение', '00ffff':'дальность', '9900ff':'эмоции', \n",
        "                 'ff00ff':'комфорт', 'ffff00':'скорость',\n",
        "                'green':'сравнение', 'yellow':'скорость', 'cyan':'дальность', 'magenta':'комфорт'\n",
        "                }\n",
        "\n",
        "meaning_token = {'сравнение':0, 'дальность':1, 'эмоции':2, 'комфорт':3, 'скорость':4}\n",
        "token_meaning = {value:key for key, value in meaning_token.items()}\n",
        "\n",
        "r = '{http://schemas.openxmlformats.org/wordprocessingml/2006/main}r'\n",
        "rpr = '{http://schemas.openxmlformats.org/wordprocessingml/2006/main}rPr'\n",
        "t = '{http://schemas.openxmlformats.org/wordprocessingml/2006/main}t'\n",
        "shd = '{http://schemas.openxmlformats.org/wordprocessingml/2006/main}shd'\n",
        "fill = '{http://schemas.openxmlformats.org/wordprocessingml/2006/main}fill'\n",
        "highlight = '{http://schemas.openxmlformats.org/wordprocessingml/2006/main}highlight'\n",
        "val = '{http://schemas.openxmlformats.org/wordprocessingml/2006/main}val'"
      ],
      "execution_count": null,
      "outputs": []
    },
    {
      "cell_type": "code",
      "metadata": {
        "id": "fQHe2UGWIWIC"
      },
      "source": [
        "def parse_xml(path, end_i):\n",
        "    tree = ET.parse(path)\n",
        "    root = tree.getroot()\n",
        "    body = root[0]\n",
        "    ps = list(iter(body))[:end_i]\n",
        "    \n",
        "    x = []\n",
        "    y = []\n",
        "\n",
        "    for i, paragraph in enumerate(ps):\n",
        "        phrases_list = paragraph.findall(r)\n",
        "        text='' \n",
        "        labels = [0, 0, 0, 0, 0]\n",
        "        \n",
        "        for phrase in phrases_list:\n",
        "            text += phrase.find(t).text\n",
        "            style = phrase.find(rpr)\n",
        "            if style.find(shd) is not None:\n",
        "                color = style.find(shd).attrib[fill]\n",
        "            elif style.find(highlight) is not None:\n",
        "                color = style.find(highlight).attrib[val]\n",
        "            else:\n",
        "                color = 'white'\n",
        "            color = color.lower()\n",
        "            meaning = color_meaning[color] if color in color_meaning else '' \n",
        "            \n",
        "            if meaning in meaning_token:\n",
        "                labels[meaning_token[meaning]] = 1\n",
        "        \n",
        "        x.append(text)\n",
        "        y.append(labels)\n",
        "    \n",
        "    return x, y"
      ],
      "execution_count": null,
      "outputs": []
    },
    {
      "cell_type": "code",
      "metadata": {
        "id": "FShs-g2MIWIC",
        "colab": {
          "base_uri": "https://localhost:8080/"
        },
        "outputId": "a50a7d2e-5e29-4010-83e7-acabdeeeef6b"
      },
      "source": [
        "x1, y1 = parse_xml('/content/Tesla_1.xml', 2497)\n",
        "x2, y2 = parse_xml('/content/Tesla_2.xml', 2481)\n",
        "x = x1+x2\n",
        "y = y1+y2\n",
        "\n",
        "len(x), len(y)"
      ],
      "execution_count": null,
      "outputs": [
        {
          "output_type": "execute_result",
          "data": {
            "text/plain": [
              "(2, 2)"
            ]
          },
          "metadata": {
            "tags": []
          },
          "execution_count": 14
        }
      ]
    },
    {
      "cell_type": "code",
      "metadata": {
        "id": "XpQRVlrHIWIC",
        "colab": {
          "base_uri": "https://localhost:8080/"
        },
        "outputId": "c666cb57-9cb3-4a6a-997c-ea8d0a0f4e5c"
      },
      "source": [
        "x[0], y[0]"
      ],
      "execution_count": null,
      "outputs": [
        {
          "output_type": "execute_result",
          "data": {
            "text/plain": [
              "('', [0, 0, 0, 0, 0])"
            ]
          },
          "metadata": {
            "tags": []
          },
          "execution_count": 15
        }
      ]
    },
    {
      "cell_type": "code",
      "metadata": {
        "id": "mFRtuyIDIWIE",
        "colab": {
          "base_uri": "https://localhost:8080/"
        },
        "outputId": "02adff38-caf0-4a37-d713-33b203b573c5"
      },
      "source": [
        "num_words = 10000\n",
        "sent_len = 50\n",
        "tokenizer = Tokenizer(num_words, oov_token='<UNK>')\n",
        "tokenizer.fit_on_texts(x)\n",
        "#tokenizer.index_word\n",
        "X = tokenizer.texts_to_sequences(x)\n",
        "X = pad_sequences(X, sent_len, padding='post', truncating='post')\n",
        "\n",
        "x_train, x_test, y_train, y_test = train_test_split(np.array(X), np.array(y), test_size=0.2, random_state=42)\n",
        "print(x_train.shape, y_train.shape)\n",
        "print(x_test.shape, y_test.shape)"
      ],
      "execution_count": null,
      "outputs": [
        {
          "output_type": "stream",
          "text": [
            "(1, 50) (1, 5)\n",
            "(1, 50) (1, 5)\n"
          ],
          "name": "stdout"
        }
      ]
    },
    {
      "cell_type": "markdown",
      "metadata": {
        "id": "eHV8cTs2IWIE"
      },
      "source": [
        "### 2. Балансировка данных"
      ]
    },
    {
      "cell_type": "code",
      "metadata": {
        "id": "jaZEQuNRIWIE",
        "colab": {
          "base_uri": "https://localhost:8080/",
          "height": 347
        },
        "outputId": "93cd25c7-06f8-4371-f41e-05b5c592d44a"
      },
      "source": [
        "labels_des = y_train.sum(axis=0) \n",
        "plt.bar(np.arange(5), labels_des)\n",
        "plt.grid()\n",
        "plt.title('Гистограмма распределения классов')\n",
        "plt.xlabel('Номер класса')\n",
        "plt.ylabel('Количество экземляров')\n",
        "plt.show()\n",
        "max_class = labels_des.argmax()\n",
        "max_values = labels_des.max()\n",
        "print('Класс, содержащий максимальное количество значений:', max_class)\n",
        "print('Максимальное количесво значений в классе:', max_values)\n",
        "y_train"
      ],
      "execution_count": null,
      "outputs": [
        {
          "output_type": "display_data",
          "data": {
            "image/png": "[encoded data removed]",
            "text/plain": [
              "<Figure size 432x288 with 1 Axes>"
            ]
          },
          "metadata": {
            "tags": [],
            "needs_background": "light"
          }
        },
        {
          "output_type": "stream",
          "text": [
            "Класс, содержащий максимальное количество значений: 0\n",
            "Максимальное количесво значений в классе: 0\n"
          ],
          "name": "stdout"
        },
        {
          "output_type": "execute_result",
          "data": {
            "text/plain": [
              "array([[0, 0, 0, 0, 0]])"
            ]
          },
          "metadata": {
            "tags": []
          },
          "execution_count": 11
        }
      ]
    },
    {
      "cell_type": "markdown",
      "metadata": {
        "id": "8p_LjH0OIWIE"
      },
      "source": [
        "Посмотрим на распределение чистых классов, будем обучающую выборку добивать ими "
      ]
    },
    {
      "cell_type": "code",
      "metadata": {
        "id": "W3Nyql2aIWIF"
      },
      "source": [
        "inds = np.where(y_train.sum(axis=1) == 1)[0]\n",
        "clear_x = x_train[inds]\n",
        "clear_y = y_train[inds]\n",
        "plt.bar(np.arange(5), clear_y.sum(axis=0))\n",
        "plt.grid()\n",
        "plt.title('Гистограмма распределения чистых классов')\n",
        "plt.xlabel('Номер класса')\n",
        "plt.ylabel('Количество экземляров')\n",
        "plt.show()\n",
        "plt.show()"
      ],
      "execution_count": null,
      "outputs": []
    },
    {
      "cell_type": "code",
      "metadata": {
        "id": "J--hgo8aIWIF"
      },
      "source": [
        "plsholder = [0,0,0,0,0]\n",
        "x_new = x_train.copy()\n",
        "y_new = y_train.copy()\n",
        "\n",
        "for i in range(5):\n",
        "    if i == max_class:\n",
        "        continue\n",
        "    \n",
        "    msk = plsholder.copy()\n",
        "    msk[i] = 1\n",
        "    idx = np.where((clear_y == msk).all(axis=1))[0]\n",
        "    sample = np.random.choice(idx, max_values - labels_des[i])\n",
        "    \n",
        "    x_new = np.vstack([x_new, clear_x[sample]])\n",
        "    y_new = np.vstack([y_new, clear_y[sample]])"
      ],
      "execution_count": null,
      "outputs": []
    },
    {
      "cell_type": "code",
      "metadata": {
        "id": "NKQC3byDIWIF"
      },
      "source": [
        "labels_des = y_new.sum(axis=0) \n",
        "plt.bar(np.arange(5), labels_des)\n",
        "plt.grid()\n",
        "plt.title('Гистограмма распределения классов')\n",
        "plt.xlabel('Номер класса')\n",
        "plt.ylabel('Количество экземляров')\n",
        "plt.show()\n",
        "max_class = labels_des.argmax()\n",
        "max_values = labels_des.max()\n",
        "print('Класс, содержащий максимальное количество значений:', max_class)\n",
        "print('Максимальное количесво значений в классе:', max_values)\n",
        "y_train"
      ],
      "execution_count": null,
      "outputs": []
    },
    {
      "cell_type": "markdown",
      "metadata": {
        "id": "aB_uYVDwIWIF"
      },
      "source": [
        "### 3. Модель"
      ]
    },
    {
      "cell_type": "code",
      "metadata": {
        "id": "FHwz3IH4IWIF"
      },
      "source": [
        "emb_size = 100\n",
        "hidden_state_1 = 50\n",
        "hidden_state_2 = 50\n",
        "\n",
        "inputs = Input((None,))\n",
        "emb = Embedding(num_words, emb_size)(inputs)\n",
        "x = SpatialDropout1D(0.2)(emb)\n",
        "x = BatchNormalization()(x)\n",
        "x = Bidirectional(GRU(hidden_state_1, return_sequences=True))(x)\n",
        "x = GRU(hidden_state_2)(x)\n",
        "output = Dense(5, activation='sigmoid')(x)\n",
        "model = Model(inputs, output)\n",
        "model.compile(loss='binary_crossentropy', metrics=['AUC'], optimizer=Adam(lr=1e-4))\n",
        "\n",
        "\n",
        "history = model.fit(x_new, y_new, \n",
        "          validation_data=(x_test, y_test), \n",
        "          batch_size=16, \n",
        "          epochs=10\n",
        "         )"
      ],
      "execution_count": null,
      "outputs": []
    },
    {
      "cell_type": "code",
      "metadata": {
        "id": "Va-Wf1dhIWIG"
      },
      "source": [
        "fig, ax = plt.subplots(1, 2, figsize=(10,5))\n",
        "pd.DataFrame(history.history)[['loss', 'val_loss']].plot(ax=ax[0])\n",
        "ax[0].set_xlabel('Эпоха')\n",
        "ax[0].set_ylabel('Биннарная кроссэньропия')\n",
        "ax[0].set_title('Потери')\n",
        "ax[0].grid()\n",
        "\n",
        "pd.DataFrame(history.history)[['auc', 'val_auc']].plot(ax=ax[1])\n",
        "ax[1].set_xlabel('Эпоха')\n",
        "ax[1].set_ylabel('ROC AUC')\n",
        "ax[1].set_title('Площадь под кривой AUC')\n",
        "ax[1].grid()\n",
        "\n",
        "plt.tight_layout()\n",
        "plt.show()"
      ],
      "execution_count": null,
      "outputs": []
    },
    {
      "cell_type": "code",
      "metadata": {
        "id": "4jc-6NRPIWIG"
      },
      "source": [
        "y_pred = model.predict(x_test)\n",
        "\n",
        "plt.figure(figsize=(10,10))\n",
        "num_classes = len(meaning_token)\n",
        "\n",
        "for i in range(num_classes):\n",
        "    fpr, tpr, thresholds = roc_curve(y_test[:, i], y_pred[:, i])\n",
        "    plt.plot(fpr, tpr, label='{} класс - {}, AUC={}'.format(i, token_meaning[i], AUC()(y_test[:, i], y_pred[:, i])))\n",
        "\n",
        "avg_fpr, avg_tpr, thresholds = roc_curve(y_test.flatten(), y_pred.flatten())\n",
        "plt.plot(avg_fpr, avg_tpr, label='micro-average, AUC={}'.format(AUC()(y_test, y_pred)))\n",
        "plt.plot([0,1], [0,1], 'b-.', label='random classifier')\n",
        "plt.ylabel('True positive rate')\n",
        "plt.xlabel('False positive rate')\n",
        "plt.title('ROC curve')\n",
        "\n",
        "plt.legend()\n",
        "plt.grid()\n",
        "plt.show()\n"
      ],
      "execution_count": null,
      "outputs": []
    },
    {
      "cell_type": "code",
      "metadata": {
        "id": "jqkDIa_tIWIG"
      },
      "source": [
        "n = 30\n",
        "print(tokenizer.sequences_to_texts(x_test[n:n+1]))\n",
        "print((y_pred[n]>=0.5).astype(int))\n",
        "print(y_test[n])"
      ],
      "execution_count": null,
      "outputs": []
    },
    {
      "cell_type": "code",
      "metadata": {
        "id": "lbHjLlO0IWIG"
      },
      "source": [
        ""
      ],
      "execution_count": null,
      "outputs": []
    }
  ]
}