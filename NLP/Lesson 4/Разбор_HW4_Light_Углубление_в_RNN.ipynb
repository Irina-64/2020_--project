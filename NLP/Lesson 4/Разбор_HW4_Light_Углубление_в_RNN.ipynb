{
 "nbformat": 4,
 "nbformat_minor": 0,
 "metadata": {
  "colab": {
   "name": "Разбор_HW4_Light_Углубление в RNN",
   "provenance": [],
   "collapsed_sections": [
    "DgGbTu37IdQD",
    "VwSknqHoJFqE",
    "ZQO7ORIdd69y"
   ]
  },
  "kernelspec": {
   "name": "python3",
   "display_name": "Python 3"
  }
 },
 "cells": [
  {
   "cell_type": "code",
   "metadata": {
    "id": "lABdO7TUG6Tb"
   },
   "source": [
    "import tensorflow as tf\n",
    "from tensorflow.keras.layers import Dense, LSTM, GRU, Embedding, Bidirectional, Input\n",
    "from tensorflow.keras.models import Sequential, Model\n",
    "from tensorflow.keras.preprocessing.sequence import pad_sequences\n",
    "from tensorflow.keras.preprocessing.text import Tokenizer\n",
    "from tensorflow.keras.utils import to_categorical\n",
    "\n",
    "import numpy as np\n",
    "import pandas as pd\n",
    "import matplotlib.pyplot as plt\n",
    "%matplotlib inline"
   ],
   "execution_count": null,
   "outputs": []
  },
  {
   "cell_type": "code",
   "metadata": {
    "colab": {
     "base_uri": "https://localhost:8080/"
    },
    "id": "_2tqnIGyTwcx",
    "outputId": "0bed4eb4-5bdd-4fa9-9e82-43c20a0191bd"
   },
   "source": [
    "from google.colab import drive\n",
    "drive.mount('/content/drive')"
   ],
   "execution_count": null,
   "outputs": [
    {
     "output_type": "stream",
     "text": [
      "Mounted at /content/drive\n"
     ],
     "name": "stdout"
    }
   ]
  },
  {
   "cell_type": "markdown",
   "metadata": {
    "id": "DgGbTu37IdQD"
   },
   "source": [
    "#RNN, LSTM, GRU"
   ]
  },
  {
   "cell_type": "markdown",
   "metadata": {
    "id": "eIoqSGh1L_kS"
   },
   "source": [
    "SimpleRNN"
   ]
  },
  {
   "cell_type": "code",
   "metadata": {
    "id": "iPqVXsZhJJh2"
   },
   "source": [
    "class custom_rnn():\n",
    "  def __init__(self, input_dim, hidden_dim, activation=np.tanh):\n",
    "    self.h = np.zeros(hidden_dim)\n",
    "    self.W = np.random.normal(size=(input_dim+hidden_dim, hidden_dim))\n",
    "    self.b = np.random.normal(size=hidden_dim)\n",
    "    self.activation = activation\n",
    "\n",
    "  def __call__(self, x):\n",
    "    self.h = self.activation(np.concatenate([self.h, x]) @ self.W + self.b)\n",
    "    return self.h"
   ],
   "execution_count": null,
   "outputs": []
  },
  {
   "cell_type": "code",
   "metadata": {
    "id": "rQLdIQT6N_tT"
   },
   "source": [
    "rnn = custom_rnn(5, 10)\n",
    "x = np.array([1.,2,3,4,5])"
   ],
   "execution_count": null,
   "outputs": []
  },
  {
   "cell_type": "code",
   "metadata": {
    "id": "fcioOIIlOF5U",
    "colab": {
     "base_uri": "https://localhost:8080/"
    },
    "outputId": "435ac008-cbd1-474e-c7fb-aeab81d5d56c"
   },
   "source": [
    "y = rnn(x)\n",
    "y"
   ],
   "execution_count": null,
   "outputs": [
    {
     "output_type": "execute_result",
     "data": {
      "text/plain": [
       "array([ 0.99999312,  0.99733949,  0.87679561,  0.99973466,  0.99997538,\n",
       "       -0.97106026, -0.99999998, -0.99999921,  0.98786393, -1.        ])"
      ]
     },
     "metadata": {
      "tags": []
     },
     "execution_count": 5
    }
   ]
  },
  {
   "cell_type": "code",
   "metadata": {
    "id": "v-AQiIJZ94YF",
    "colab": {
     "base_uri": "https://localhost:8080/"
    },
    "outputId": "9e11642d-c599-47fe-ac6b-1045951c1c60"
   },
   "source": [
    "rnn.h"
   ],
   "execution_count": null,
   "outputs": [
    {
     "output_type": "execute_result",
     "data": {
      "text/plain": [
       "array([ 0.99999312,  0.99733949,  0.87679561,  0.99973466,  0.99997538,\n",
       "       -0.97106026, -0.99999998, -0.99999921,  0.98786393, -1.        ])"
      ]
     },
     "metadata": {
      "tags": []
     },
     "execution_count": 6
    }
   ]
  },
  {
   "cell_type": "markdown",
   "metadata": {
    "id": "uEpV3pixMCEN"
   },
   "source": [
    "LSTM"
   ]
  },
  {
   "cell_type": "code",
   "metadata": {
    "id": "bG48OGwYPpzk"
   },
   "source": [
    "def custom_sigmoid(x):\n",
    "  return 1/(1-np.exp(-x))"
   ],
   "execution_count": null,
   "outputs": []
  },
  {
   "cell_type": "code",
   "metadata": {
    "id": "-GQGpP9CPx9p",
    "colab": {
     "base_uri": "https://localhost:8080/"
    },
    "outputId": "35b5648d-2d17-4256-f477-8d970bb8a421"
   },
   "source": [
    "custom_sigmoid(-np.inf), custom_sigmoid(np.inf)"
   ],
   "execution_count": null,
   "outputs": [
    {
     "output_type": "execute_result",
     "data": {
      "text/plain": [
       "(-0.0, 1.0)"
      ]
     },
     "metadata": {
      "tags": []
     },
     "execution_count": 8
    }
   ]
  },
  {
   "cell_type": "code",
   "metadata": {
    "id": "P48HGlxHMEE6"
   },
   "source": [
    "class custom_lstm():\n",
    "  def __init__(self, input_dim, hidden_dim):\n",
    "    self.h = np.zeros(hidden_dim)\n",
    "    self.c = np.zeros(hidden_dim)\n",
    "\n",
    "    self.Wf = np.random.normal(size=(input_dim+hidden_dim, hidden_dim))\n",
    "    self.Wi = np.random.normal(size=(input_dim+hidden_dim, hidden_dim))\n",
    "    self.Wo = np.random.normal(size=(input_dim+hidden_dim, hidden_dim))\n",
    "    self.Wc = np.random.normal(size=(input_dim+hidden_dim, hidden_dim))\n",
    "\n",
    "    self.bf = np.random.normal(size=hidden_dim)\n",
    "    self.bi = np.random.normal(size=hidden_dim)\n",
    "    self.bo = np.random.normal(size=hidden_dim)\n",
    "    self.bc = np.random.normal(size=hidden_dim)\n",
    "\n",
    "\n",
    "    self.tanh = np.tanh\n",
    "    self.sigmoid = custom_sigmoid\n",
    "\n",
    "  def __call__(self, x):\n",
    "    hx = np.concatenate([self.h, x])\n",
    "\n",
    "    f = self.sigmoid(hx @ self.Wf + self.bf)\n",
    "    i = self.sigmoid(hx @ self.Wi + self.bi)\n",
    "    o = self.sigmoid(hx @ self.Wo + self.bo)\n",
    "    c = self.tanh(hx @ self.Wc + self.bc)\n",
    "\n",
    "    self.c = f*self.c\n",
    "    self.c += i*c\n",
    "    \n",
    "    self.h = o*self.tanh(self.c)\n",
    "\n",
    "    return self.h"
   ],
   "execution_count": null,
   "outputs": []
  },
  {
   "cell_type": "code",
   "metadata": {
    "id": "x8f66tH6TW_K"
   },
   "source": [
    "lstm = custom_lstm(5, 10)\n",
    "x = np.array([1.,2,3,4,5])"
   ],
   "execution_count": null,
   "outputs": []
  },
  {
   "cell_type": "code",
   "metadata": {
    "id": "SldS66txTcH9",
    "colab": {
     "base_uri": "https://localhost:8080/"
    },
    "outputId": "bcfa1f48-dda8-4bde-8605-f8d0b5a255b5"
   },
   "source": [
    "y = lstm(x)\n",
    "y"
   ],
   "execution_count": null,
   "outputs": [
    {
     "output_type": "execute_result",
     "data": {
      "text/plain": [
       "array([-4.42237987e-06, -7.21581977e-05,  3.93592704e-04, -8.02153050e-03,\n",
       "        3.43115778e-02, -1.14421989e-02,  2.72993866e-02,  2.23411770e-03,\n",
       "       -1.27461831e-03,  8.14326685e-04])"
      ]
     },
     "metadata": {
      "tags": []
     },
     "execution_count": 11
    }
   ]
  },
  {
   "cell_type": "markdown",
   "metadata": {
    "id": "b7wuMFd4MCyj"
   },
   "source": [
    "GRU"
   ]
  },
  {
   "cell_type": "code",
   "metadata": {
    "id": "LvbjIDKyPjZF"
   },
   "source": [
    "class custom_gru():\n",
    "  def __init__(self, input_dim, hidden_dim):\n",
    "    self.h = np.zeros(hidden_dim)\n",
    "\n",
    "    self.Wz = np.random.normal(size=(input_dim+hidden_dim, hidden_dim))\n",
    "    self.Wr = np.random.normal(size=(input_dim+hidden_dim, hidden_dim))\n",
    "    self.Wh = np.random.normal(size=(input_dim+hidden_dim, hidden_dim))\n",
    "\n",
    "\n",
    "    self.bz = np.random.normal(size=hidden_dim)\n",
    "    self.br = np.random.normal(size=hidden_dim)\n",
    "    self.bh = np.random.normal(size=hidden_dim)\n",
    "\n",
    "\n",
    "    self.tanh = np.tanh\n",
    "    self.sigmoid = custom_sigmoid\n",
    "\n",
    "  def __call__(self, x):\n",
    "    hx = np.concatenate([self.h, x])\n",
    "\n",
    "    \n",
    "    r = self.sigmoid(hx @ self.Wr + self.br)\n",
    "    hrx = np.concatenate([r*self.h, x])\n",
    "\n",
    "    h = self.tanh(hrx @ self.Wh + self.bh)\n",
    "\n",
    "    alpha = self.sigmoid(hx @ self.Wz + self.bz)\n",
    "\n",
    "    self.h = (1-alpha)*self.h + alpha*h\n",
    "\n",
    "    return self.h"
   ],
   "execution_count": null,
   "outputs": []
  },
  {
   "cell_type": "code",
   "metadata": {
    "id": "uWqSs5OiWDry"
   },
   "source": [
    "gru = custom_gru(5, 10)\n",
    "x = np.array([1.,2,3,4,5])"
   ],
   "execution_count": null,
   "outputs": []
  },
  {
   "cell_type": "code",
   "metadata": {
    "id": "5CzND_TrWDr1",
    "colab": {
     "base_uri": "https://localhost:8080/"
    },
    "outputId": "80c86faf-8949-4268-f0c1-48a5f3ed824e"
   },
   "source": [
    "y = gru(x)\n",
    "y"
   ],
   "execution_count": null,
   "outputs": [
    {
     "output_type": "execute_result",
     "data": {
      "text/plain": [
       "array([ 5.21105252e-04, -1.03642916e+00, -8.81214775e-01, -4.48960456e-05,\n",
       "        9.97953757e-01,  1.20364390e-04,  1.74507097e+00,  1.81285700e+00,\n",
       "        1.00175174e+00,  1.04907587e+00])"
      ]
     },
     "metadata": {
      "tags": []
     },
     "execution_count": 14
    }
   ]
  },
  {
   "cell_type": "markdown",
   "metadata": {
    "id": "VwSknqHoJFqE"
   },
   "source": [
    "#Режимы работы RNN"
   ]
  },
  {
   "cell_type": "code",
   "metadata": {
    "id": "KdZ155AJaV5t"
   },
   "source": [
    "num_words = 100"
   ],
   "execution_count": null,
   "outputs": []
  },
  {
   "cell_type": "code",
   "metadata": {
    "id": "zkIZOOI-aBDw"
   },
   "source": [
    "x = np.random.randint(0, 100, [3, 10]) #3 предложения по 10 токенов каждый"
   ],
   "execution_count": null,
   "outputs": []
  },
  {
   "cell_type": "code",
   "metadata": {
    "id": "Ql5NFE3YaHfj"
   },
   "source": [
    "emb = Embedding(100, 5) #для словаря из 100 слов. длина вектора - 5"
   ],
   "execution_count": null,
   "outputs": []
  },
  {
   "cell_type": "code",
   "metadata": {
    "id": "Ev9nMQgKaiQQ",
    "colab": {
     "base_uri": "https://localhost:8080/"
    },
    "outputId": "16ce4e79-0fe3-40a6-c99f-84757fd2fac2"
   },
   "source": [
    "x_ = emb(x)\n",
    "x_.shape #3 предложения по 10 слов, на каждое слово эмбеддинг длиной 5"
   ],
   "execution_count": null,
   "outputs": [
    {
     "output_type": "execute_result",
     "data": {
      "text/plain": [
       "TensorShape([3, 10, 5])"
      ]
     },
     "metadata": {
      "tags": []
     },
     "execution_count": 18
    }
   ]
  },
  {
   "cell_type": "markdown",
   "metadata": {
    "id": "Y8NnGxS-Z4fV"
   },
   "source": [
    "стандартный (выход после обработки всей последовательности)"
   ]
  },
  {
   "cell_type": "code",
   "metadata": {
    "id": "3exPSXPQJKVT",
    "colab": {
     "base_uri": "https://localhost:8080/"
    },
    "outputId": "174c11a2-25ec-4728-bdcb-50572dab3158"
   },
   "source": [
    "lstm = LSTM(10)\n",
    "y = lstm(x_)\n",
    "y.shape #3 предложения, финальное состояние длиной 10"
   ],
   "execution_count": null,
   "outputs": [
    {
     "output_type": "execute_result",
     "data": {
      "text/plain": [
       "TensorShape([3, 10])"
      ]
     },
     "metadata": {
      "tags": []
     },
     "execution_count": 19
    }
   ]
  },
  {
   "cell_type": "markdown",
   "metadata": {
    "id": "loNHWFIibBzT"
   },
   "source": [
    "return_sequences = True"
   ]
  },
  {
   "cell_type": "code",
   "metadata": {
    "id": "autjUIb5bDqe",
    "colab": {
     "base_uri": "https://localhost:8080/"
    },
    "outputId": "096cb9df-e4c6-46e7-cce0-ebcb066a2536"
   },
   "source": [
    "lstm = LSTM(10, return_sequences=True)\n",
    "y = lstm(x_)\n",
    "y.shape #3 предложения по 10 слов, входу каждого слова соответствует выход слоя размером 10"
   ],
   "execution_count": null,
   "outputs": [
    {
     "output_type": "execute_result",
     "data": {
      "text/plain": [
       "TensorShape([3, 10, 10])"
      ]
     },
     "metadata": {
      "tags": []
     },
     "execution_count": 20
    }
   ]
  },
  {
   "cell_type": "markdown",
   "metadata": {
    "id": "0MuTAxN1bhYc"
   },
   "source": [
    "return_state = True"
   ]
  },
  {
   "cell_type": "code",
   "metadata": {
    "id": "0HWUbRnJbgWw",
    "colab": {
     "base_uri": "https://localhost:8080/"
    },
    "outputId": "f2393588-46a7-4e1d-ebf0-81d9679c16d4"
   },
   "source": [
    "lstm = LSTM(10, return_state=True)\n",
    "y, h, c = lstm(x_)\n",
    "y.shape, h.shape, c.shape #список из трех состояний y, h, c, (y==h), для 3 предложений с финальным состоянием длиной 10"
   ],
   "execution_count": null,
   "outputs": [
    {
     "output_type": "execute_result",
     "data": {
      "text/plain": [
       "(TensorShape([3, 10]), TensorShape([3, 10]), TensorShape([3, 10]))"
      ]
     },
     "metadata": {
      "tags": []
     },
     "execution_count": 21
    }
   ]
  },
  {
   "cell_type": "code",
   "metadata": {
    "id": "G2GOB2_FcALr",
    "colab": {
     "base_uri": "https://localhost:8080/"
    },
    "outputId": "e008656b-cf57-4d44-bbe9-f22132525343"
   },
   "source": [
    "(y == h).numpy().all()"
   ],
   "execution_count": null,
   "outputs": [
    {
     "output_type": "execute_result",
     "data": {
      "text/plain": [
       "True"
      ]
     },
     "metadata": {
      "tags": []
     },
     "execution_count": 22
    }
   ]
  },
  {
   "cell_type": "code",
   "metadata": {
    "id": "3fPPKKR_cmXK",
    "colab": {
     "base_uri": "https://localhost:8080/"
    },
    "outputId": "83984aad-26a2-4cf4-f064-397fa692a75e"
   },
   "source": [
    "gru = GRU(10, return_state=True)\n",
    "y, h = gru(x_)\n",
    "y.shape, h.shape #список из двух состояний y, h, (y==h). для 3 предложений с финальным состоянием длиной 10"
   ],
   "execution_count": null,
   "outputs": [
    {
     "output_type": "execute_result",
     "data": {
      "text/plain": [
       "(TensorShape([3, 10]), TensorShape([3, 10]))"
      ]
     },
     "metadata": {
      "tags": []
     },
     "execution_count": 23
    }
   ]
  },
  {
   "cell_type": "code",
   "metadata": {
    "id": "UvVXAg3Scuz1",
    "colab": {
     "base_uri": "https://localhost:8080/"
    },
    "outputId": "38a6e4d7-5c16-4389-e7f4-cb3909c22030"
   },
   "source": [
    "(y == h).numpy().all()"
   ],
   "execution_count": null,
   "outputs": [
    {
     "output_type": "execute_result",
     "data": {
      "text/plain": [
       "True"
      ]
     },
     "metadata": {
      "tags": []
     },
     "execution_count": 24
    }
   ]
  },
  {
   "cell_type": "markdown",
   "metadata": {
    "id": "j13-71eNcaIk"
   },
   "source": [
    "go_backwards = True"
   ]
  },
  {
   "cell_type": "code",
   "metadata": {
    "id": "APQ5gjy1chbd",
    "colab": {
     "base_uri": "https://localhost:8080/"
    },
    "outputId": "5675b09a-76f5-44fc-dc8d-c13a3f521a00"
   },
   "source": [
    "lstm = LSTM(10, go_backwards=True) #перед обработкой переворачивать последовательность\n",
    "y = lstm(x_)\n",
    "y.shape #3 предложения, финальное состояние каждого длиной 10"
   ],
   "execution_count": null,
   "outputs": [
    {
     "output_type": "execute_result",
     "data": {
      "text/plain": [
       "TensorShape([3, 10])"
      ]
     },
     "metadata": {
      "tags": []
     },
     "execution_count": 25
    }
   ]
  },
  {
   "cell_type": "markdown",
   "metadata": {
    "id": "ZQO7ORIdd69y"
   },
   "source": [
    "## Stateful RNN"
   ]
  },
  {
   "cell_type": "markdown",
   "metadata": {
    "id": "yhJEJ_rxc6Q0"
   },
   "source": [
    "stateful = False"
   ]
  },
  {
   "cell_type": "code",
   "metadata": {
    "id": "pch4bo-Wc6eo",
    "colab": {
     "base_uri": "https://localhost:8080/"
    },
    "outputId": "cc676754-d46f-41a2-ed5e-2b0d78223b53"
   },
   "source": [
    "lstm = LSTM(10)\n",
    "a = lstm(x_) #после выполнения состояния обнулились\n",
    "b = lstm(x_) #после выполнения состояния обнулились\n",
    "(a==b).numpy().all()"
   ],
   "execution_count": null,
   "outputs": [
    {
     "output_type": "execute_result",
     "data": {
      "text/plain": [
       "True"
      ]
     },
     "metadata": {
      "tags": []
     },
     "execution_count": 26
    }
   ]
  },
  {
   "cell_type": "markdown",
   "metadata": {
    "id": "Tm8VRyzOdby_"
   },
   "source": [
    "stateful = True"
   ]
  },
  {
   "cell_type": "code",
   "metadata": {
    "id": "Rgc7asuNdc7T",
    "colab": {
     "base_uri": "https://localhost:8080/"
    },
    "outputId": "8c37959f-e17e-4a5a-c509-eb9e80a1da5e"
   },
   "source": [
    "lstm = LSTM(10, stateful=True) #изначально состояния нулевые (если не указан другой initializer)\n",
    "a = lstm(x_) #после выполнения изначельное состояния сохранились\n",
    "b = lstm(x_) #этот слой возьмет состояния, изменившиеся после предыдущего прохода\n",
    "(a==b).numpy().all()"
   ],
   "execution_count": null,
   "outputs": [
    {
     "output_type": "execute_result",
     "data": {
      "text/plain": [
       "False"
      ]
     },
     "metadata": {
      "tags": []
     },
     "execution_count": 27
    }
   ]
  },
  {
   "cell_type": "markdown",
   "metadata": {
    "id": "mU8H_K2TciEN"
   },
   "source": [
    "##bidirectional = True. (lstm1 & lstm2(go_backwards))"
   ]
  },
  {
   "cell_type": "code",
   "metadata": {
    "id": "434vNTLGcYsY",
    "colab": {
     "base_uri": "https://localhost:8080/"
    },
    "outputId": "f4df496b-140a-498b-80c9-4a2ab63ba181"
   },
   "source": [
    "lstm =  Bidirectional(LSTM(10))\n",
    "y = lstm(x_)\n",
    "y.shape #3 предложения, финальное состояние каждого длиной 20 (10 от прямой последовательности, 10 от перевернутой)"
   ],
   "execution_count": null,
   "outputs": [
    {
     "output_type": "execute_result",
     "data": {
      "text/plain": [
       "TensorShape([3, 20])"
      ]
     },
     "metadata": {
      "tags": []
     },
     "execution_count": 28
    }
   ]
  },
  {
   "cell_type": "code",
   "metadata": {
    "id": "HZyMRJ3DfFD-",
    "colab": {
     "base_uri": "https://localhost:8080/"
    },
    "outputId": "9ec3aa9a-3f17-42f8-a07f-18ebfa2bc5cd"
   },
   "source": [
    "lstm =  Bidirectional(LSTM(10, return_sequences=True))\n",
    "y = lstm(x_)\n",
    "y.shape #3 предложения по 10 слов состояние каждого длиной 20 (10 от прямой последовательности, 10 от перевернутой)"
   ],
   "execution_count": null,
   "outputs": [
    {
     "output_type": "execute_result",
     "data": {
      "text/plain": [
       "TensorShape([3, 10, 20])"
      ]
     },
     "metadata": {
      "tags": []
     },
     "execution_count": 29
    }
   ]
  }
 ]
}