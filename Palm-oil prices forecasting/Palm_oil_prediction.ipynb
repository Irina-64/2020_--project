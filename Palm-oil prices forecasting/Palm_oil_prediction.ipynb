{
 "nbformat": 4,
 "nbformat_minor": 0,
 "metadata": {
  "colab": {
   "name": "Palm_oil_prediction.ipynb",
   "provenance": [],
   "collapsed_sections": [
    "MrqJ6ke2JMRn",
    "FvpRx5EOArid",
    "MbwFb0VAS0lp"
   ],
   "machine_shape": "hm"
  },
  "kernelspec": {
   "name": "python3",
   "language": "python",
   "display_name": "Python 3"
  },
  "accelerator": "GPU"
 },
 "cells": [
  {
   "cell_type": "code",
   "metadata": {
    "id": "Y7AQo_OOnEse"
   },
   "source": [
    "from IPython.display import clear_output\n",
    "from tensorflow.keras.models import load_model\n",
    "from sklearn.preprocessing import StandardScaler, RobustScaler, MinMaxScaler # проверить все"
   ],
   "execution_count": 6,
   "outputs": []
  },
  {
   "cell_type": "code",
   "metadata": {
    "id": "fBKjsauNo5ub"
   },
   "source": [
    "import pandas as pd\n",
    "import numpy as np\n",
    "from numpy import array\n",
    "import matplotlib.pyplot as plt\n",
    "%matplotlib inline\n",
    "\n",
    "import os, time\n",
    "import warnings\n",
    "warnings.filterwarnings(\"ignore\")"
   ],
   "execution_count": 7,
   "outputs": []
  },
  {
   "cell_type": "code",
   "metadata": {
    "id": "wQpegdSOFAzM"
   },
   "source": [
    "analyze_period = 10000    # Сколько баров в прошлое берем для тренировки модели\n",
    "ensemble = 5\n",
    "forvard_lag = 0"
   ],
   "execution_count": 8,
   "outputs": []
  },
  {
   "cell_type": "code",
   "metadata": {
    "colab": {
     "base_uri": "https://localhost:8080/"
    },
    "id": "3dAiT1DjE9Dc",
    "outputId": "32dea3c1-d145-4aac-a476-85912b302159"
   },
   "source": [
    "path_data = 'Palm-oil prices forecasting/data/'\n",
    "path_models = 'Palm-oil prices forecasting/models/'\n",
    "file_X = 'dataframe_1.csv'\n",
    "file_Y = 'dataframe_Y.csv'\n",
    "#os.chdir(path_data)\n",
    "print(os.listdir('Palm-oil prices forecasting/models/'))"
   ],
   "execution_count": 13,
   "outputs": [
    {
     "ename": "FileNotFoundError",
     "evalue": "[Errno 2] No such file or directory: 'Palm-oil prices forecasting/models/'",
     "output_type": "error",
     "traceback": [
      "\u001B[0;31m---------------------------------------------------------------------------\u001B[0m",
      "\u001B[0;31mFileNotFoundError\u001B[0m                         Traceback (most recent call last)",
      "\u001B[0;32m<ipython-input-13-5500f71fd5d1>\u001B[0m in \u001B[0;36m<module>\u001B[0;34m\u001B[0m\n\u001B[1;32m      4\u001B[0m \u001B[0mfile_Y\u001B[0m \u001B[0;34m=\u001B[0m \u001B[0;34m'dataframe_Y.csv'\u001B[0m\u001B[0;34m\u001B[0m\u001B[0;34m\u001B[0m\u001B[0m\n\u001B[1;32m      5\u001B[0m \u001B[0;31m#os.chdir(path_data)\u001B[0m\u001B[0;34m\u001B[0m\u001B[0;34m\u001B[0m\u001B[0;34m\u001B[0m\u001B[0m\n\u001B[0;32m----> 6\u001B[0;31m \u001B[0mprint\u001B[0m\u001B[0;34m(\u001B[0m\u001B[0mos\u001B[0m\u001B[0;34m.\u001B[0m\u001B[0mlistdir\u001B[0m\u001B[0;34m(\u001B[0m\u001B[0;34m'Palm-oil prices forecasting/models/'\u001B[0m\u001B[0;34m)\u001B[0m\u001B[0;34m)\u001B[0m\u001B[0;34m\u001B[0m\u001B[0;34m\u001B[0m\u001B[0m\n\u001B[0m\u001B[1;32m      7\u001B[0m \u001B[0;34m\u001B[0m\u001B[0m\n",
      "\u001B[0;31mFileNotFoundError\u001B[0m: [Errno 2] No such file or directory: 'Palm-oil prices forecasting/models/'"
     ]
    }
   ]
  },
  {
   "cell_type": "code",
   "metadata": {
    "colab": {
     "base_uri": "https://localhost:8080/"
    },
    "id": "JXNugZuWFfWZ",
    "outputId": "d17e4815-7c92-4044-87c2-6e9a2f2d566c"
   },
   "source": [
    "# Получим список факторов, которые нужно удалить из Х\n",
    "os.chdir(path_data)\n",
    "with open('spisok_factors_for_del.txt', 'r') as f:\n",
    "    spisok_factors_for_del = f.read()\n",
    "spisok_factors_for_del = spisok_factors_for_del.split(\"\\n\")\n",
    "spisok_factors_for_del"
   ],
   "execution_count": null,
   "outputs": []
  },
  {
   "cell_type": "code",
   "metadata": {
    "colab": {
     "base_uri": "https://localhost:8080/"
    },
    "id": "exH_kgM-IqED",
    "outputId": "0827798c-75fb-4960-9b03-23f06e337581"
   },
   "source": [
    "os.chdir(path_models)\n",
    "models_list = os.listdir()\n",
    "models_list"
   ],
   "execution_count": null,
   "outputs": []
  },
  {
   "cell_type": "markdown",
   "metadata": {
    "id": "MrqJ6ke2JMRn"
   },
   "source": [
    "### Dataset loading"
   ]
  },
  {
   "cell_type": "code",
   "metadata": {
    "id": "p_Tw5K24OUFB"
   },
   "source": [
    "os.chdir(path_data)"
   ],
   "execution_count": null,
   "outputs": []
  },
  {
   "cell_type": "code",
   "metadata": {
    "colab": {
     "base_uri": "https://localhost:8080/",
     "height": 302
    },
    "id": "PCzSlS1FF_QQ",
    "outputId": "84a88c13-c220-4689-dcb1-48b774d5326c"
   },
   "source": [
    "#Загрузка данных\n",
    "data_X = pd.read_csv(file_X, sep=\",\", index_col=['date'])\n",
    "data_X = data_X[-analyze_period:] # Убрали устаревшую информацию\n",
    "print(data_X.shape)\n",
    "data_X[-3:]"
   ],
   "execution_count": null,
   "outputs": []
  },
  {
   "cell_type": "code",
   "metadata": {
    "colab": {
     "base_uri": "https://localhost:8080/",
     "height": 167
    },
    "id": "WXGe_lHiHMNZ",
    "outputId": "8c7a2aa8-4602-4b3c-b3bd-2068188a0bc1"
   },
   "source": [
    "del data_X['Пальмовое масло   RBD, FOB Малайзия , usd/тн ']\n",
    "for i in spisok_factors_for_del: del data_X[i]\n",
    "data_X[-3:]"
   ],
   "execution_count": null,
   "outputs": []
  },
  {
   "cell_type": "code",
   "metadata": {
    "colab": {
     "base_uri": "https://localhost:8080/",
     "height": 185
    },
    "id": "WDDlphl8G6Nw",
    "outputId": "9c63413b-a037-42ed-927a-bd163d4df269"
   },
   "source": [
    "# Загрузка Y\n",
    "data_Y = pd.read_csv(file_Y, sep=\",\", index_col=['date'])\n",
    "data_Y.rename(columns={'Пальмовое масло   RBD, FOB Малайзия , usd/тн ': 'Y'}, inplace=True)\n",
    "data_Y = data_Y[-analyze_period:] # Убрали устаревшую информацию\n",
    "print(data_Y.shape)\n",
    "data_Y[-3:]"
   ],
   "execution_count": null,
   "outputs": []
  },
  {
   "cell_type": "markdown",
   "metadata": {
    "id": "FvpRx5EOArid"
   },
   "source": [
    "### Функции разделения массива на ансамбли"
   ]
  },
  {
   "cell_type": "code",
   "metadata": {
    "id": "TKuSaooHE6c9"
   },
   "source": [
    "\"\"\"\n",
    "#### Функция разделения массива на выборки для обучения нейросети \n",
    "\"\"\"\n",
    "# sequence = строка массива df\n",
    "# trend = число баров в прошлом для анализа - необходимо найти оптимальный!!\n",
    "# forvard_lag = предсказание какого бара в будущем делаем \n",
    "\n",
    "def split_sequence(sequence, ensemble, forvard_lag=0):\n",
    "  # sequence = df.values - это массив из данных\n",
    "  # trend = число баров в прошлом для анализа\n",
    "  X = list()\n",
    "  for i in range(len(sequence)):\n",
    "    end_ix = i + ensemble # находим конечный индекс строки\n",
    "    if end_ix + (forvard_lag-1) > len(sequence)-1: # cпроверем чтобы не выйти за пределы массива\n",
    "      break \n",
    "    # получаем X и y\n",
    "    seq_x = sequence[i:end_ix]\n",
    "    X.append(seq_x)\n",
    "\n",
    "  return array(X)"
   ],
   "execution_count": null,
   "outputs": []
  },
  {
   "cell_type": "markdown",
   "metadata": {
    "id": "nN2xF9VfA0xs"
   },
   "source": [
    "## Prediction"
   ]
  },
  {
   "cell_type": "markdown",
   "metadata": {
    "id": "MbwFb0VAS0lp"
   },
   "source": [
    "### Подготовка данных для подачи в модель для предикта"
   ]
  },
  {
   "cell_type": "code",
   "metadata": {
    "colab": {
     "base_uri": "https://localhost:8080/"
    },
    "id": "Xp7fsp7vJ2iZ",
    "outputId": "c6bf8a08-b57e-4fa1-d492-17b673dc05d0"
   },
   "source": [
    "xTrain = data_X.values\n",
    "print('xTrain.shape: ', xTrain.shape)"
   ],
   "execution_count": null,
   "outputs": []
  },
  {
   "cell_type": "code",
   "metadata": {
    "colab": {
     "base_uri": "https://localhost:8080/"
    },
    "id": "9tNSOXzST2z1",
    "outputId": "20520303-121b-4b1d-9731-46f439e21915"
   },
   "source": [
    "xScaler = StandardScaler()\n",
    "#xScaler = RobustScaler()\n",
    "#xScaler = MinMaxScaler()\n",
    "xScaler.fit(xTrain)\n",
    "xTrain = xScaler.transform(xTrain)\n",
    "print('xTrain[-1]: ', xTrain[-1])\n",
    "print('xScaler.inverse_transform(xTrain[-1:]):', xScaler.inverse_transform(xTrain[-1:]))"
   ],
   "execution_count": null,
   "outputs": []
  },
  {
   "cell_type": "code",
   "metadata": {
    "colab": {
     "base_uri": "https://localhost:8080/"
    },
    "id": "x8qfYCQ2PKdX",
    "outputId": "f4b24b39-e885-421c-db0f-89e432b4bddd"
   },
   "source": [
    "# Формируем выборки для обучения нейросети\n",
    "xTrain = split_sequence(xTrain, ensemble)\n",
    "print(xTrain.shape)\n",
    "print('xTrain[-1]:\\n', xTrain[-1])\n",
    "print('xScaler.inverse_transform(xTrain[-1]):\\n', xScaler.inverse_transform(xTrain[-1]))"
   ],
   "execution_count": 5,
   "outputs": [
    {
     "ename": "NameError",
     "evalue": "name 'split_sequence' is not defined",
     "output_type": "error",
     "traceback": [
      "\u001B[0;31m---------------------------------------------------------------------------\u001B[0m",
      "\u001B[0;31mNameError\u001B[0m                                 Traceback (most recent call last)",
      "\u001B[0;32m<ipython-input-5-f8c518c0a6b4>\u001B[0m in \u001B[0;36m<module>\u001B[0;34m\u001B[0m\n\u001B[1;32m      1\u001B[0m \u001B[0;31m# Формируем выборки для обучения нейросети\u001B[0m\u001B[0;34m\u001B[0m\u001B[0;34m\u001B[0m\u001B[0;34m\u001B[0m\u001B[0m\n\u001B[0;32m----> 2\u001B[0;31m \u001B[0mxTrain\u001B[0m \u001B[0;34m=\u001B[0m \u001B[0msplit_sequence\u001B[0m\u001B[0;34m(\u001B[0m\u001B[0mxTrain\u001B[0m\u001B[0;34m,\u001B[0m \u001B[0mensemble\u001B[0m\u001B[0;34m)\u001B[0m\u001B[0;34m\u001B[0m\u001B[0;34m\u001B[0m\u001B[0m\n\u001B[0m\u001B[1;32m      3\u001B[0m \u001B[0mprint\u001B[0m\u001B[0;34m(\u001B[0m\u001B[0mxTrain\u001B[0m\u001B[0;34m.\u001B[0m\u001B[0mshape\u001B[0m\u001B[0;34m)\u001B[0m\u001B[0;34m\u001B[0m\u001B[0;34m\u001B[0m\u001B[0m\n\u001B[1;32m      4\u001B[0m \u001B[0mprint\u001B[0m\u001B[0;34m(\u001B[0m\u001B[0;34m'xTrain[-1]:\\n'\u001B[0m\u001B[0;34m,\u001B[0m \u001B[0mxTrain\u001B[0m\u001B[0;34m[\u001B[0m\u001B[0;34m-\u001B[0m\u001B[0;36m1\u001B[0m\u001B[0;34m]\u001B[0m\u001B[0;34m)\u001B[0m\u001B[0;34m\u001B[0m\u001B[0;34m\u001B[0m\u001B[0m\n\u001B[1;32m      5\u001B[0m \u001B[0mprint\u001B[0m\u001B[0;34m(\u001B[0m\u001B[0;34m'xScaler.inverse_transform(xTrain[-1]):\\n'\u001B[0m\u001B[0;34m,\u001B[0m \u001B[0mxScaler\u001B[0m\u001B[0;34m.\u001B[0m\u001B[0minverse_transform\u001B[0m\u001B[0;34m(\u001B[0m\u001B[0mxTrain\u001B[0m\u001B[0;34m[\u001B[0m\u001B[0;34m-\u001B[0m\u001B[0;36m1\u001B[0m\u001B[0;34m]\u001B[0m\u001B[0;34m)\u001B[0m\u001B[0;34m)\u001B[0m\u001B[0;34m\u001B[0m\u001B[0;34m\u001B[0m\u001B[0m\n",
      "\u001B[0;31mNameError\u001B[0m: name 'split_sequence' is not defined"
     ]
    }
   ]
  },
  {
   "cell_type": "markdown",
   "metadata": {
    "id": "nTwLGIjsS9IY"
   },
   "source": [
    "### Предикт по трем сохраненным моделям и отрисовка графика"
   ]
  },
  {
   "cell_type": "code",
   "metadata": {
    "id": "YZ-Ei6ZSp-LG",
    "colab": {
     "base_uri": "https://localhost:8080/",
     "height": 384
    },
    "outputId": "ac31a839-bda8-4f67-ce1a-580efaa94e9f"
   },
   "source": [
    "df_pred = pd.DataFrame()\n",
    "\n",
    "for model_name in models_list:\n",
    "  # Загружаем модель и расшифровываем настройки ансамблей\n",
    "  #ensemble = int(model_name[12:14])\n",
    "# ---------------------------------------------------------------------------\n",
    "\n",
    "  file = model_name\n",
    "  os.chdir(path_models)\n",
    "  model = load_model(file)\n",
    "\n",
    "  predictions = model.predict(xTrain)\n",
    "  #print(model_name, predictions.shape, '\\n', predictions[-3:], '\\n')\n",
    "\n",
    "  # Преоразования дляг рафика\n",
    "  predictions[:-30] = np.NaN\n",
    "  predictions = predictions.reshape(predictions.shape[0])\n",
    "  df_pred[model_name[:-3]] = predictions\n",
    "\n",
    "#df_pred\n",
    "# Добавляем в датасет Y_fact\n",
    "# Удалим из датафрейма Y начало из 34 элементов\n",
    "data_Y_modify = data_Y[34:]   #берем последние 2618 элементов\n",
    "#Запишем колонку date в другой датафрейм, а Y оставим без него\n",
    "index_data_Y = pd.DataFrame(data_Y_modify.index)\n",
    "Y_1 = data_Y_modify.values\n",
    "#Теперь допишем нулями 30 значений вперед\n",
    "for x in range(30):\n",
    "    Y_1 = np.append(Y_1, [np.nan])\n",
    "\n",
    "#Запишем данные Y в основной датафрейм предсказания\n",
    "df_pred['Y_fact'] = Y_1\n",
    "#df_pred[-35:]\n",
    "\n",
    "# ---------------- график --------------------\n",
    "\n",
    "col_names = ','.join(df_pred.columns)\n",
    "col_names = col_names.split(',')\n",
    "\n",
    "fig,axes = plt.subplots(nrows=1, ncols=1, figsize=(20,6)) \n",
    "#  Методы, отображающие данные:\n",
    "axes.plot(df_pred[-360:]) # вывведем последний год цен на масло\n",
    "axes.legend(col_names,fontsize=24)\n",
    "axes.grid()\n",
    "#ax.legend([\"AAA\", \"BBB\"]);\n",
    "plt.show()"
   ],
   "execution_count": null,
   "outputs": []
  },
  {
   "cell_type": "code",
   "metadata": {
    "id": "pCTktZQq_5Ah"
   },
   "source": [
    ""
   ],
   "execution_count": null,
   "outputs": []
  }
 ]
}