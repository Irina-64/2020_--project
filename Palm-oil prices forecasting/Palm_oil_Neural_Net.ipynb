{
 "nbformat": 4,
 "nbformat_minor": 0,
 "metadata": {
  "colab": {
   "name": "Palm_oil_Neural_Net.ipynb",
   "provenance": [],
   "collapsed_sections": [
    "Nr9mYgKjh8p5",
    "nt56ZgM3pDEQ",
    "x4vpVY3icFZD",
    "H5pwceY0behd",
    "SZDAQd4O-Rt7",
    "qMk_wJXS56r9",
    "w91PK07Upqjm",
    "C-dGT14NpwWu",
    "OBsDperQr-yL"
   ]
  },
  "kernelspec": {
   "name": "python3",
   "language": "python",
   "display_name": "Python 3"
  },
  "accelerator": "GPU"
 },
 "cells": [
  {
   "cell_type": "code",
   "metadata": {
    "id": "1yafBI0IPpxg"
   },
   "source": [
    "import pandas as pd\n",
    "import numpy as np\n",
    "from numpy import array\n",
    "import matplotlib.pyplot as plt\n",
    "%matplotlib inline\n",
    "import os\n",
    "import warnings\n",
    "warnings.filterwarnings(\"ignore\")"
   ],
   "execution_count": 41,
   "outputs": []
  },
  {
   "cell_type": "code",
   "metadata": {
    "colab": {
     "base_uri": "https://localhost:8080/"
    },
    "id": "5v2_NMKdSYHf",
    "outputId": "65000bb9-1af6-4c19-d959-9253e56dbebb"
   },
   "source": [
    "path_data = 'data/'\n",
    "path_models = 'models/'\n",
    "file_X = 'dataframe_1.csv'\n",
    "file_Y = 'dataframe_Y.csv'\n",
    "#os.chdir(path_data)\n",
    "print(os.listdir())"
   ],
   "execution_count": 64,
   "outputs": [
    {
     "name": "stdout",
     "output_type": "stream",
     "text": [
      "['dataframe_Y.csv', 'dataframe_1.csv', 'Tseny_2010-20.xlsx', 'dataframe_pct_change.csv', 'spisok_factors_for_del.txt']\n"
     ]
    }
   ]
  },
  {
   "cell_type": "code",
   "metadata": {
    "id": "uU15cmw0Zfje"
   },
   "source": [
    "analyze_period = 10000    # Сколько баров в прошлое берем для тренировки модели\n",
    "#valX = 100    # Сколько баров оставляем для проверки обучения\n",
    "\n",
    "ensemble = 5\n",
    "forvard_lag = 0\n",
    "test_lvl = .2             # Обьем выборки, уходящей в xTest"
   ],
   "execution_count": 43,
   "outputs": []
  },
  {
   "cell_type": "markdown",
   "metadata": {
    "id": "Nr9mYgKjh8p5"
   },
   "source": [
    "## Загрузка данных"
   ]
  },
  {
   "cell_type": "code",
   "metadata": {
    "colab": {
     "base_uri": "https://localhost:8080/"
    },
    "id": "zSSNHnrQ34m0",
    "outputId": "d4ceb0bd-e15b-4269-cba8-3218872714f2"
   },
   "source": [
    "# Удаляем данные, не имеющие связи с ценой на пальмовое масло на Train периоде\n",
    "data = pd.read_csv(file_X, sep=\",\", index_col=['date'])\n",
    "data = data[-analyze_period:] # Убрали устаревшую информацию\n",
    "correlations = np.abs(data.corrwith(data['Пальмовое масло   RBD, FOB Малайзия , usd/тн ']))\n",
    "print(data.shape)\n",
    "print(correlations.sort_values(ascending=True))\n",
    "print('-'*90)\n",
    "\n",
    "spisok_factors_for_del = []\n",
    "lim = 0.87 # удалим те факторы, влияние которых слабее 0.8\n",
    "for i in range(len(correlations)):\n",
    "    if correlations[i] <= lim:\n",
    "        print('Удален: ', correlations[i], ' \\t', correlations.index[i])\n",
    "        spisok_factors_for_del.append(correlations.index[i])\n",
    "        del data[correlations.index[i]]\n",
    "\n",
    "with open('spisok_factors_for_del.txt', 'w') as f: # запишем в файл те факторы, которые удалили\n",
    "    f.write(\"\\n\".join(spisok_factors_for_del))\n",
    "\n",
    "print('-'*90)\n",
    "print(spisok_factors_for_del)\n",
    "print(data.shape)\n",
    "data[:3]"
   ],
   "execution_count": 44,
   "outputs": [
    {
     "name": "stdout",
     "output_type": "stream",
     "text": [
      "(2652, 10)\n",
      "Coconut oil, Phil., cif Rot.                     0.519043\n",
      "Palmkernel oil, Mal., cif Rot.                   0.674752\n",
      "Sunoil, Arg., fob                                0.854962\n",
      "Sunoil, Ukraine, fob                             0.857016\n",
      "Rape oil, Dutch, fob ex-mill                     0.864449\n",
      "Sunoil, EU, fob N.W.Eur. ports                   0.869170\n",
      "Soybean oil, Argentina, fob                      0.875860\n",
      "Soybean oil, Brazil, fob                         0.881398\n",
      "Palm olein RBD, Mal., fob                        0.941436\n",
      "Пальмовое масло   RBD, FOB Малайзия , usd/тн     1.000000\n",
      "dtype: float64\n",
      "------------------------------------------------------------------------------------------\n",
      "Удален:  0.8691698585984332  \t Sunoil, EU, fob N.W.Eur. ports\n",
      "Удален:  0.8549622602108576  \t Sunoil, Arg., fob\n",
      "Удален:  0.8570159314353231  \t Sunoil, Ukraine, fob\n",
      "Удален:  0.864448915712343  \t Rape oil, Dutch, fob ex-mill\n",
      "Удален:  0.6747523922997528  \t Palmkernel oil, Mal., cif Rot.\n",
      "Удален:  0.5190427843988554  \t Coconut oil, Phil., cif Rot.\n",
      "------------------------------------------------------------------------------------------\n",
      "['Sunoil, EU, fob N.W.Eur. ports', 'Sunoil, Arg., fob', 'Sunoil, Ukraine, fob', 'Rape oil, Dutch, fob ex-mill', 'Palmkernel oil, Mal., cif Rot.', 'Coconut oil, Phil., cif Rot.']\n",
      "(2652, 4)\n"
     ]
    },
    {
     "data": {
      "text/plain": "            Soybean oil, Brazil, fob  Soybean oil, Argentina, fob  \\\ndate                                                                \n2010-01-04                       896                          891   \n2010-01-05                       895                          890   \n2010-01-06                       891                          887   \n\n            Palm olein RBD, Mal., fob  \\\ndate                                    \n2010-01-04                        822   \n2010-01-05                        830   \n2010-01-06                        830   \n\n            Пальмовое масло   RBD, FOB Малайзия , usd/тн   \ndate                                                       \n2010-01-04                                          775.0  \n2010-01-05                                          775.0  \n2010-01-06                                          797.5  ",
      "text/html": "<div>\n<style scoped>\n    .dataframe tbody tr th:only-of-type {\n        vertical-align: middle;\n    }\n\n    .dataframe tbody tr th {\n        vertical-align: top;\n    }\n\n    .dataframe thead th {\n        text-align: right;\n    }\n</style>\n<table border=\"1\" class=\"dataframe\">\n  <thead>\n    <tr style=\"text-align: right;\">\n      <th></th>\n      <th>Soybean oil, Brazil, fob</th>\n      <th>Soybean oil, Argentina, fob</th>\n      <th>Palm olein RBD, Mal., fob</th>\n      <th>Пальмовое масло   RBD, FOB Малайзия , usd/тн</th>\n    </tr>\n    <tr>\n      <th>date</th>\n      <th></th>\n      <th></th>\n      <th></th>\n      <th></th>\n    </tr>\n  </thead>\n  <tbody>\n    <tr>\n      <th>2010-01-04</th>\n      <td>896</td>\n      <td>891</td>\n      <td>822</td>\n      <td>775.0</td>\n    </tr>\n    <tr>\n      <th>2010-01-05</th>\n      <td>895</td>\n      <td>890</td>\n      <td>830</td>\n      <td>775.0</td>\n    </tr>\n    <tr>\n      <th>2010-01-06</th>\n      <td>891</td>\n      <td>887</td>\n      <td>830</td>\n      <td>797.5</td>\n    </tr>\n  </tbody>\n</table>\n</div>"
     },
     "execution_count": 44,
     "metadata": {},
     "output_type": "execute_result"
    }
   ]
  },
  {
   "cell_type": "code",
   "metadata": {
    "colab": {
     "base_uri": "https://localhost:8080/"
    },
    "id": "fc1vRAzJmokt",
    "outputId": "d26a7d6b-811c-4c4b-a910-4d01d9146665"
   },
   "source": [
    "del data['Пальмовое масло   RBD, FOB Малайзия , usd/тн ']\n",
    "data[:3]"
   ],
   "execution_count": 45,
   "outputs": [
    {
     "data": {
      "text/plain": "            Soybean oil, Brazil, fob  Soybean oil, Argentina, fob  \\\ndate                                                                \n2010-01-04                       896                          891   \n2010-01-05                       895                          890   \n2010-01-06                       891                          887   \n\n            Palm olein RBD, Mal., fob  \ndate                                   \n2010-01-04                        822  \n2010-01-05                        830  \n2010-01-06                        830  ",
      "text/html": "<div>\n<style scoped>\n    .dataframe tbody tr th:only-of-type {\n        vertical-align: middle;\n    }\n\n    .dataframe tbody tr th {\n        vertical-align: top;\n    }\n\n    .dataframe thead th {\n        text-align: right;\n    }\n</style>\n<table border=\"1\" class=\"dataframe\">\n  <thead>\n    <tr style=\"text-align: right;\">\n      <th></th>\n      <th>Soybean oil, Brazil, fob</th>\n      <th>Soybean oil, Argentina, fob</th>\n      <th>Palm olein RBD, Mal., fob</th>\n    </tr>\n    <tr>\n      <th>date</th>\n      <th></th>\n      <th></th>\n      <th></th>\n    </tr>\n  </thead>\n  <tbody>\n    <tr>\n      <th>2010-01-04</th>\n      <td>896</td>\n      <td>891</td>\n      <td>822</td>\n    </tr>\n    <tr>\n      <th>2010-01-05</th>\n      <td>895</td>\n      <td>890</td>\n      <td>830</td>\n    </tr>\n    <tr>\n      <th>2010-01-06</th>\n      <td>891</td>\n      <td>887</td>\n      <td>830</td>\n    </tr>\n  </tbody>\n</table>\n</div>"
     },
     "execution_count": 45,
     "metadata": {},
     "output_type": "execute_result"
    }
   ]
  },
  {
   "cell_type": "code",
   "metadata": {
    "colab": {
     "base_uri": "https://localhost:8080/"
    },
    "id": "zA7mJcuYSxWs",
    "outputId": "321e33f1-b06f-4978-f607-40371edce912"
   },
   "source": [
    "# Загрузка Y\n",
    "data_Y = pd.read_csv(file_Y, sep=\",\", index_col=['date'])\n",
    "data_Y.rename(columns={'Пальмовое масло   RBD, FOB Малайзия , usd/тн ': 'Y'}, inplace=True)\n",
    "data_Y = data_Y[-analyze_period:] # Убрали устаревшую информацию\n",
    "print(data_Y.shape)\n",
    "data_Y[-3:]"
   ],
   "execution_count": 46,
   "outputs": [
    {
     "name": "stdout",
     "output_type": "stream",
     "text": [
      "(2652, 1)\n"
     ]
    },
    {
     "data": {
      "text/plain": "                Y\ndate             \n2020-10-22  920.0\n2020-10-23  917.5\n2020-10-26  912.5",
      "text/html": "<div>\n<style scoped>\n    .dataframe tbody tr th:only-of-type {\n        vertical-align: middle;\n    }\n\n    .dataframe tbody tr th {\n        vertical-align: top;\n    }\n\n    .dataframe thead th {\n        text-align: right;\n    }\n</style>\n<table border=\"1\" class=\"dataframe\">\n  <thead>\n    <tr style=\"text-align: right;\">\n      <th></th>\n      <th>Y</th>\n    </tr>\n    <tr>\n      <th>date</th>\n      <th></th>\n    </tr>\n  </thead>\n  <tbody>\n    <tr>\n      <th>2020-10-22</th>\n      <td>920.0</td>\n    </tr>\n    <tr>\n      <th>2020-10-23</th>\n      <td>917.5</td>\n    </tr>\n    <tr>\n      <th>2020-10-26</th>\n      <td>912.5</td>\n    </tr>\n  </tbody>\n</table>\n</div>"
     },
     "execution_count": 46,
     "metadata": {},
     "output_type": "execute_result"
    }
   ]
  },
  {
   "cell_type": "code",
   "metadata": {
    "colab": {
     "base_uri": "https://localhost:8080/"
    },
    "id": "pEWCBKTWSxUN",
    "outputId": "85e8d646-0f23-4c4c-826c-9f7c4537a4d9"
   },
   "source": [
    "plt.figure(figsize=(10,4))\n",
    "ax0 = plt.subplot2grid((4,4), (0, 0), rowspan=3, colspan=4)\n",
    "data_Y['Y'].plot(ax = ax0)\n",
    "plt.title('Пальмовое масло   RBD, FOB Малайзия , usd/тн')\n",
    "plt.grid()"
   ],
   "execution_count": 47,
   "outputs": [
    {
     "data": {
      "text/plain": "<Figure size 720x288 with 1 Axes>",
      "image/png": "[encoded data removed]"
     },
     "metadata": {
      "needs_background": "light"
     },
     "output_type": "display_data"
    }
   ]
  },
  {
   "cell_type": "markdown",
   "metadata": {
    "id": "nt56ZgM3pDEQ"
   },
   "source": [
    "## Подготовка данных"
   ]
  },
  {
   "cell_type": "markdown",
   "metadata": {
    "id": "x4vpVY3icFZD"
   },
   "source": [
    "### Делим на обучающую, тестовую и валидационную выборки"
   ]
  },
  {
   "cell_type": "code",
   "metadata": {
    "colab": {
     "base_uri": "https://localhost:8080/"
    },
    "id": "FUSOZC73je1S",
    "outputId": "7086831c-419f-4675-de1f-4351899d1c88"
   },
   "source": [
    "type(data), type(data_Y)"
   ],
   "execution_count": 48,
   "outputs": [
    {
     "data": {
      "text/plain": "(pandas.core.frame.DataFrame, pandas.core.frame.DataFrame)"
     },
     "execution_count": 48,
     "metadata": {},
     "output_type": "execute_result"
    }
   ]
  },
  {
   "cell_type": "code",
   "metadata": {
    "colab": {
     "base_uri": "https://localhost:8080/"
    },
    "id": "EvmVCPGMjWc0",
    "outputId": "5b523711-ebe1-4c03-b6b5-bbd12db3836d"
   },
   "source": [
    "data = data.values\n",
    "data_Y = data_Y.values\n",
    "xTrain = data\n",
    "yTrain = data_Y\n",
    "type(data), type(data_Y)"
   ],
   "execution_count": 49,
   "outputs": [
    {
     "data": {
      "text/plain": "(numpy.ndarray, numpy.ndarray)"
     },
     "execution_count": 49,
     "metadata": {},
     "output_type": "execute_result"
    }
   ]
  },
  {
   "cell_type": "code",
   "metadata": {
    "colab": {
     "base_uri": "https://localhost:8080/"
    },
    "id": "-QuOz8xySxPF",
    "outputId": "8427051e-2180-4936-bd26-0e34b961963e"
   },
   "source": [
    "# берем для xTest последние 20% значений, но кратно ensemble\n",
    "n_train = int(len(data)*test_lvl// ensemble * ensemble) #  то, что уходит в train \n",
    "xTrain = data[:-n_train]\n",
    "xTest = data[-n_train:]\n",
    "yTrain = data_Y[:-n_train]\n",
    "yTest = data_Y[-n_train:]\n",
    "\n",
    "print('xTrain: ', xTrain.shape, '\\tyTrain:', yTrain.shape,\n",
    "      '\\nxTest:  ', xTest.shape, '\\tyTest: ', yTest.shape)\n",
    "xTrain.shape[0]+xTest.shape[0]"
   ],
   "execution_count": 50,
   "outputs": [
    {
     "name": "stdout",
     "output_type": "stream",
     "text": [
      "xTrain:  (2122, 3) \tyTrain: (2122, 1) \n",
      "xTest:   (530, 3) \tyTest:  (530, 1)\n"
     ]
    },
    {
     "data": {
      "text/plain": "2652"
     },
     "execution_count": 50,
     "metadata": {},
     "output_type": "execute_result"
    }
   ]
  },
  {
   "cell_type": "markdown",
   "metadata": {
    "id": "H5pwceY0behd"
   },
   "source": [
    "### Скалирование Х"
   ]
  },
  {
   "cell_type": "code",
   "metadata": {
    "id": "A5NcdirrTnC1",
    "colab": {
     "base_uri": "https://localhost:8080/"
    },
    "outputId": "de7638f1-e920-4838-dabc-a5554f4d12e8"
   },
   "source": [
    "from sklearn.preprocessing import StandardScaler, RobustScaler, MinMaxScaler # проверить все\n",
    "\"\"\" \n",
    "# Масштабируем только X\n",
    "\"\"\"\n",
    "xScaler = StandardScaler()\n",
    "#xScaler = RobustScaler()\n",
    "#xScaler = MinMaxScaler()\n",
    "xScaler.fit(xTrain)\n",
    "xTrain = xScaler.transform(xTrain)\n",
    "xTest = xScaler.transform(xTest)\n",
    "\n",
    "print(xTrain.shape, xTest.shape, type(xTrain))\n",
    "xTest[-1:]"
   ],
   "execution_count": 51,
   "outputs": [
    {
     "name": "stdout",
     "output_type": "stream",
     "text": [
      "(2122, 3) (530, 3) <class 'numpy.ndarray'>\n"
     ]
    },
    {
     "data": {
      "text/plain": "array([[ 0.18667895, -0.19201303, -0.01632612]])"
     },
     "execution_count": 51,
     "metadata": {},
     "output_type": "execute_result"
    }
   ]
  },
  {
   "cell_type": "code",
   "metadata": {
    "id": "7Aia51QS41m-",
    "colab": {
     "base_uri": "https://localhost:8080/"
    },
    "outputId": "0176aa52-34c7-45de-dad1-cbe4589327a8"
   },
   "source": [
    "# проверяю обратную трансформацию\n",
    "xScaler.inverse_transform(xTest[-1:])"
   ],
   "execution_count": 52,
   "outputs": [
    {
     "data": {
      "text/plain": "array([[936., 857., 805.]])"
     },
     "execution_count": 52,
     "metadata": {},
     "output_type": "execute_result"
    }
   ]
  },
  {
   "cell_type": "markdown",
   "metadata": {
    "id": "SZDAQd4O-Rt7"
   },
   "source": [
    "### Превращение в TimeSeries"
   ]
  },
  {
   "cell_type": "code",
   "metadata": {
    "id": "TKuSaooHE6c9"
   },
   "source": [
    "\"\"\"\n",
    "#### Функция разделения массива на выборки для обучения нейросети \n",
    "\"\"\"\n",
    "# sequence = строка массива df\n",
    "# trend = число баров в прошлом для анализа - необходимо найти оптимальный!!\n",
    "# forvard_lag = предсказание какого бара в будущем делаем \n",
    "\n",
    "def split_sequence(sequence, Y, ensemble, forvard_lag):\n",
    "  # sequence = df.values - это массив из данных\n",
    "  # trend = число баров в прошлом для анализа\n",
    "  X, y = list(), list()\n",
    "  for i in range(len(sequence)):\n",
    "    end_ix = i + ensemble # находим конечный индекс строки\n",
    "    if end_ix + (forvard_lag-1) > len(sequence)-1: # cпроверем чтобы не выйти за пределы массива\n",
    "      break \n",
    "    # получаем X и y\n",
    "    seq_x, seq_y = sequence[i:end_ix], Y[end_ix + (forvard_lag - 1)]\n",
    "    X.append(seq_x)\n",
    "    y.append(seq_y) # тк предсказываем только Close\n",
    "  return array(X), array(y)"
   ],
   "execution_count": 53,
   "outputs": []
  },
  {
   "cell_type": "code",
   "metadata": {
    "id": "cUjS937BE6dB",
    "colab": {
     "base_uri": "https://localhost:8080/"
    },
    "outputId": "f86616be-befe-4bc3-a0ac-8093b21bdee7"
   },
   "source": [
    "# Формируем выборки для обучения нейросети\n",
    "xTrain, yTrain = split_sequence(xTrain, yTrain, ensemble, forvard_lag)\n",
    "print('Массивы xTrain и yTrain:\\t', xTrain.shape, yTrain.shape)"
   ],
   "execution_count": 54,
   "outputs": [
    {
     "name": "stdout",
     "output_type": "stream",
     "text": [
      "Массивы xTrain и yTrain:\t (2118, 5, 3) (2118, 1)\n"
     ]
    }
   ]
  },
  {
   "cell_type": "code",
   "metadata": {
    "id": "6cBzpRuDcDax",
    "colab": {
     "base_uri": "https://localhost:8080/"
    },
    "outputId": "5fbc2371-1be0-4f82-fbc4-c5a88f3df26f"
   },
   "source": [
    "# Формируем выборки для обучения нейросети\n",
    "xTest, yTest = split_sequence(xTest, yTest, ensemble, forvard_lag)\n",
    "print('Массивы xTest и yTest:\\t', xTest.shape, yTest.shape)"
   ],
   "execution_count": 55,
   "outputs": [
    {
     "name": "stdout",
     "output_type": "stream",
     "text": [
      "Массивы xTest и yTest:\t (526, 5, 3) (526, 1)\n"
     ]
    }
   ]
  },
  {
   "cell_type": "code",
   "metadata": {
    "id": "lJP6TNNt3aU7",
    "colab": {
     "base_uri": "https://localhost:8080/"
    },
    "outputId": "67e8135f-202c-4468-f81d-dd5129a4ec3f"
   },
   "source": [
    "close = xScaler.inverse_transform(xTest[-1])\n",
    "close[-1][0], yTest[-1]"
   ],
   "execution_count": 56,
   "outputs": [
    {
     "data": {
      "text/plain": "(936.0, array([912.5]))"
     },
     "execution_count": 56,
     "metadata": {},
     "output_type": "execute_result"
    }
   ]
  },
  {
   "cell_type": "markdown",
   "metadata": {
    "id": "N_t4U7JSeJ6Q"
   },
   "source": [
    "# Нейросети"
   ]
  },
  {
   "cell_type": "markdown",
   "metadata": {
    "id": "qMk_wJXS56r9"
   },
   "source": [
    "### Загрузка библиотек и функция отрисовки графиков"
   ]
  },
  {
   "cell_type": "code",
   "metadata": {
    "id": "Rtv8xlC9dG_t"
   },
   "source": [
    "from tensorflow.keras.models import Sequential, Model, load_model\n",
    "from tensorflow.keras.layers import (concatenate, Input, Dense, Dropout, BatchNormalization, Flatten, \n",
    "                                     GRU, LSTM, Bidirectional, Conv1D, SeparableConv1D, MaxPooling1D,\n",
    "                                     Reshape, RepeatVector, SpatialDropout1D, LeakyReLU)\n",
    "from tensorflow.keras.optimizers import Adam, Nadam, RMSprop, Adamax\n",
    "from tensorflow.keras.callbacks import EarlyStopping, ReduceLROnPlateau, ModelCheckpoint\n",
    "from tensorflow.keras import utils\n",
    "from keras.utils import plot_model\n",
    "from IPython.display import clear_output"
   ],
   "execution_count": 57,
   "outputs": []
  },
  {
   "cell_type": "code",
   "metadata": {
    "id": "OOIzHXU35znj"
   },
   "source": [
    "def plotting(history):\n",
    "  clear_output()\n",
    "  print('Min al_loss = ', min(history.history['val_loss']))\n",
    "  plt.figure(figsize=(7,3))\n",
    "  plt.plot(history.history['loss'], label='loss')\n",
    "  plt.plot(history.history['val_loss'], label='val_loss')\n",
    "  plt.legend()\n",
    "  plt.grid()\n",
    "  plt.show()\n",
    "\n",
    "  plt.figure(figsize=(16,4))\n",
    "  plt.subplot(1,2,1)\n",
    "  plt.plot(model.predict(xTrain), label='yTrain_pred')\n",
    "  plt.plot(yTrain, label='yTrain')\n",
    "  plt.legend()\n",
    "  plt.grid()\n",
    "\n",
    "  plt.subplot(1,2,2)\n",
    "  plt.plot(model.predict(xTest), label='yTest_pred')\n",
    "  plt.plot(yTest, label='yTest')\n",
    "  plt.legend()\n",
    "  plt.grid()\n",
    "  plt.show()"
   ],
   "execution_count": 58,
   "outputs": []
  },
  {
   "cell_type": "markdown",
   "metadata": {
    "id": "w91PK07Upqjm"
   },
   "source": [
    "### Conv"
   ]
  },
  {
   "cell_type": "code",
   "metadata": {
    "id": "en1XYYLzknTV"
   },
   "source": [
    "# Гиперпараметры\n",
    "drop = 0"
   ],
   "execution_count": 59,
   "outputs": []
  },
  {
   "cell_type": "code",
   "metadata": {
    "id": "v9yb8O2uknQu"
   },
   "source": [
    "input = Input(shape=(xTrain.shape[1], xTrain.shape[2]))\n",
    "# xTrain.shape[1] - число шагов назад для обучения\n",
    "# xTrain.shape[2] - число столбцов в обучающей выборке\n",
    "\n",
    "x = Conv1D(200, 2, activation='relu')(input)\n",
    "x = BatchNormalization()(x)\n",
    "x = Flatten()(x)\n",
    "x = Dense(ensemble*200, activation='relu')(x)\n",
    "x = Dropout(drop)(x)\n",
    "x = Dense(yTrain.shape[1], activation='linear')(x)\n",
    "\n",
    "model = Model(input, x)\n",
    "\n",
    "#print(model.summary()) #Вывод структуры модели\n",
    "#plot_model(model, dpi=50, show_shapes=True, show_layer_names=True)"
   ],
   "execution_count": 60,
   "outputs": []
  },
  {
   "cell_type": "code",
   "metadata": {
    "colab": {
     "base_uri": "https://localhost:8080/",
     "height": 480
    },
    "id": "t5qAkNzSknNv",
    "outputId": "db388ea4-ba8f-4e78-f24e-7b0bf8a586aa"
   },
   "source": [
    "#xTrain , yTrain = X, y # если не используется TimeSeries\n",
    "model.compile(optimizer=Adam(lr=1e-3), loss='mse')\n",
    "#os.chdir(path_models)\n",
    "\n",
    "# коллбэки\n",
    "early_stopping = EarlyStopping(monitor = 'val_loss', patience = 12, verbose = 0, \n",
    "                               restore_best_weights = True)\n",
    "reduce_lr = ReduceLROnPlateau(monitor = 'val_loss', factor=0.5, patience=1, min_lr=1e-07, verbose = 0)\n",
    "checkpoint = ModelCheckpoint('models/model_Conv.h5', monitor='val_loss', verbose = 0,\n",
    "                             save_best_only = True)\n",
    "\n",
    "# fit model\n",
    "history = model.fit(xTrain, yTrain, epochs=200, verbose = 1,\n",
    "                    validation_data=(xTest, yTest),\n",
    "                    #batch_size = 5,\n",
    "                    callbacks = [early_stopping, reduce_lr, checkpoint])\n",
    "\n",
    "plotting(history)"
   ],
   "execution_count": 67,
   "outputs": [
    {
     "name": "stdout",
     "output_type": "stream",
     "text": [
      "Epoch 1/200\n",
      "67/67 [==============================] - 2s 12ms/step - loss: 6829.3902 - val_loss: 21202.8047\b\b\b\b\b\b\b\b\b\b\b\b\b\b\b\b\b\b\b\b\b\b\b\b\b\b\b\b\b\b\b\b\b\b\b\b\b\b\b\b\b\b\b\b\b\b\b\b\b\b\b\b\b\b\b\b\b\b\b\b\b\b\b\b\b\b\b\b\b\b\b\b\b\b\b\b\b\b\b\b\b\b\b\b\b\b\b\b\b\b\b\b\b\b\b\b\b\b\b\b\b\b\b\b\b\b\b\b\b\b\b\b\b\b\b\b\b\b\b\b\b\b\b\b\b\b\b\b\b\b\b\b\b\b\b\b\b\b\b\b\b\b\b\b\b\b\b\b\b\b\b\b\b\b\b\b\b\b\b\b\b\b\b\b\b\b\b\b\b\b\b\b\b\b\b\b\b\b\b\b\b\b\b\b\b\b\b\b\b\b\b\b\b\b\b\b\b\b\b\b\b\b\b\b\b\b\b\b\b\b\b\b\b\b\b\b\b\b\b\b\b\b\b\b\b\b\b\b\b\b\b\b\b\b\b\b\b\b\b\b\b\b\b\b\b\b\b\b\b\b\b\b\b\b\b\b\b\b\b\b\b\b\b\b\b\b\b\b\b\b\b\b\b\b\b\b\b\b\b\b\b\b\b\b\b\b\b\b\b\b\b\b\b\b\b\b\b\b\b\b\b\b\b\b\b\b\b\b\b\b\b\b\b\b\b\b\b\b\b\b\b\b\b\b\b\b\b\b\b\b\b\b\b\b\b\b\b\b\b\b\b\b\b\b\b\b\b\b\b\b\b\b\b\b\b\b\b\b\b\b\b\b\b\b\b\b\b\b\b\b\b\b\b\b\b\b\b\b\b\b\b\b\b\b\b\b\b\b\b\b\b\b\b\b\b\b\b\b\b\b\b\b\b\b\b\b\b\b\b\b\b\b\b\b\b\b\b\b\b\b\b\b\b\b\b\b\b\b\b\b\b\b\b\b\b\b\b\b\b\b\b\b\b\b\b\b\b\b\b\b\b\b\b\b\b\b\b\b\b\b\b\b\b\b\b\b\b\b\b\b\b\b\b\b\b\b\b\b\b\b\b\b\b\b\b\b\b\b\b\b\b\b\b\b\b\b\b\b\b\b\b\b\b\b\b\b\b\b\b\b\b\b\b\b\b\b\b\b\b\b\b\b\b\b\b\b\b\b\b\b\b\b\b\b\b\b\b\b\b\b\b\b\b\b\b\b\b\b\b\b\b\b\b\b\b\b\b\b\b\b\b\b\b\b\b\b\b\b\b\b\b\b\b\b\b\b\b\b\b\b\b\b\b\b\b\b\b\b\b\b\b\b\b\b\b\b\b\b\b\b\b\b\b\b\b\b\b\b\b\b\b\b\b\b\b\b\b\b\b\b\b\b\b\b\b\b\b\b\b\b\b\b\b\b\b\b\b\b\b\b\b\b\b\b\b\b\b\b\b\b\b\b\b\b\b\b\b\b\b\b\b\b\b\b\b\b\b\b\b\b\b\b\b\b\b\b\b\b\b\b\b\b\b\b\b\b\b\b\b\b\b\b\b\b\b\b\b\b\b\b\n"
     ]
    },
    {
     "ename": "PermissionDeniedError",
     "evalue": "/models; Read-only file system",
     "output_type": "error",
     "traceback": [
      "\u001B[0;31m---------------------------------------------------------------------------\u001B[0m",
      "\u001B[0;31mPermissionDeniedError\u001B[0m                     Traceback (most recent call last)",
      "\u001B[0;32m<ipython-input-67-71bb32783246>\u001B[0m in \u001B[0;36m<module>\u001B[0;34m\u001B[0m\n\u001B[1;32m     11\u001B[0m \u001B[0;34m\u001B[0m\u001B[0m\n\u001B[1;32m     12\u001B[0m \u001B[0;31m# fit model\u001B[0m\u001B[0;34m\u001B[0m\u001B[0;34m\u001B[0m\u001B[0;34m\u001B[0m\u001B[0m\n\u001B[0;32m---> 13\u001B[0;31m history = model.fit(xTrain, yTrain, epochs=200, verbose = 1,\n\u001B[0m\u001B[1;32m     14\u001B[0m                     \u001B[0mvalidation_data\u001B[0m\u001B[0;34m=\u001B[0m\u001B[0;34m(\u001B[0m\u001B[0mxTest\u001B[0m\u001B[0;34m,\u001B[0m \u001B[0myTest\u001B[0m\u001B[0;34m)\u001B[0m\u001B[0;34m,\u001B[0m\u001B[0;34m\u001B[0m\u001B[0;34m\u001B[0m\u001B[0m\n\u001B[1;32m     15\u001B[0m                     \u001B[0;31m#batch_size = 5,\u001B[0m\u001B[0;34m\u001B[0m\u001B[0;34m\u001B[0m\u001B[0;34m\u001B[0m\u001B[0m\n",
      "\u001B[0;32m~/venv/lib/python3.8/site-packages/tensorflow/python/keras/engine/training.py\u001B[0m in \u001B[0;36mfit\u001B[0;34m(self, x, y, batch_size, epochs, verbose, callbacks, validation_split, validation_data, shuffle, class_weight, sample_weight, initial_epoch, steps_per_epoch, validation_steps, validation_batch_size, validation_freq, max_queue_size, workers, use_multiprocessing)\u001B[0m\n\u001B[1;32m   1143\u001B[0m           \u001B[0mepoch_logs\u001B[0m\u001B[0;34m.\u001B[0m\u001B[0mupdate\u001B[0m\u001B[0;34m(\u001B[0m\u001B[0mval_logs\u001B[0m\u001B[0;34m)\u001B[0m\u001B[0;34m\u001B[0m\u001B[0;34m\u001B[0m\u001B[0m\n\u001B[1;32m   1144\u001B[0m \u001B[0;34m\u001B[0m\u001B[0m\n\u001B[0;32m-> 1145\u001B[0;31m         \u001B[0mcallbacks\u001B[0m\u001B[0;34m.\u001B[0m\u001B[0mon_epoch_end\u001B[0m\u001B[0;34m(\u001B[0m\u001B[0mepoch\u001B[0m\u001B[0;34m,\u001B[0m \u001B[0mepoch_logs\u001B[0m\u001B[0;34m)\u001B[0m\u001B[0;34m\u001B[0m\u001B[0;34m\u001B[0m\u001B[0m\n\u001B[0m\u001B[1;32m   1146\u001B[0m         \u001B[0mtraining_logs\u001B[0m \u001B[0;34m=\u001B[0m \u001B[0mepoch_logs\u001B[0m\u001B[0;34m\u001B[0m\u001B[0;34m\u001B[0m\u001B[0m\n\u001B[1;32m   1147\u001B[0m         \u001B[0;32mif\u001B[0m \u001B[0mself\u001B[0m\u001B[0;34m.\u001B[0m\u001B[0mstop_training\u001B[0m\u001B[0;34m:\u001B[0m\u001B[0;34m\u001B[0m\u001B[0;34m\u001B[0m\u001B[0m\n",
      "\u001B[0;32m~/venv/lib/python3.8/site-packages/tensorflow/python/keras/callbacks.py\u001B[0m in \u001B[0;36mon_epoch_end\u001B[0;34m(self, epoch, logs)\u001B[0m\n\u001B[1;32m    426\u001B[0m     \u001B[0;32mfor\u001B[0m \u001B[0mcallback\u001B[0m \u001B[0;32min\u001B[0m \u001B[0mself\u001B[0m\u001B[0;34m.\u001B[0m\u001B[0mcallbacks\u001B[0m\u001B[0;34m:\u001B[0m\u001B[0;34m\u001B[0m\u001B[0;34m\u001B[0m\u001B[0m\n\u001B[1;32m    427\u001B[0m       \u001B[0;32mif\u001B[0m \u001B[0mgetattr\u001B[0m\u001B[0;34m(\u001B[0m\u001B[0mcallback\u001B[0m\u001B[0;34m,\u001B[0m \u001B[0;34m'_supports_tf_logs'\u001B[0m\u001B[0;34m,\u001B[0m \u001B[0;32mFalse\u001B[0m\u001B[0;34m)\u001B[0m\u001B[0;34m:\u001B[0m\u001B[0;34m\u001B[0m\u001B[0;34m\u001B[0m\u001B[0m\n\u001B[0;32m--> 428\u001B[0;31m         \u001B[0mcallback\u001B[0m\u001B[0;34m.\u001B[0m\u001B[0mon_epoch_end\u001B[0m\u001B[0;34m(\u001B[0m\u001B[0mepoch\u001B[0m\u001B[0;34m,\u001B[0m \u001B[0mlogs\u001B[0m\u001B[0;34m)\u001B[0m\u001B[0;34m\u001B[0m\u001B[0;34m\u001B[0m\u001B[0m\n\u001B[0m\u001B[1;32m    429\u001B[0m       \u001B[0;32melse\u001B[0m\u001B[0;34m:\u001B[0m\u001B[0;34m\u001B[0m\u001B[0;34m\u001B[0m\u001B[0m\n\u001B[1;32m    430\u001B[0m         \u001B[0;32mif\u001B[0m \u001B[0mnumpy_logs\u001B[0m \u001B[0;32mis\u001B[0m \u001B[0;32mNone\u001B[0m\u001B[0;34m:\u001B[0m  \u001B[0;31m# Only convert once.\u001B[0m\u001B[0;34m\u001B[0m\u001B[0;34m\u001B[0m\u001B[0m\n",
      "\u001B[0;32m~/venv/lib/python3.8/site-packages/tensorflow/python/keras/callbacks.py\u001B[0m in \u001B[0;36mon_epoch_end\u001B[0;34m(self, epoch, logs)\u001B[0m\n\u001B[1;32m   1342\u001B[0m     \u001B[0;31m# pylint: disable=protected-access\u001B[0m\u001B[0;34m\u001B[0m\u001B[0;34m\u001B[0m\u001B[0;34m\u001B[0m\u001B[0m\n\u001B[1;32m   1343\u001B[0m     \u001B[0;32mif\u001B[0m \u001B[0mself\u001B[0m\u001B[0;34m.\u001B[0m\u001B[0msave_freq\u001B[0m \u001B[0;34m==\u001B[0m \u001B[0;34m'epoch'\u001B[0m\u001B[0;34m:\u001B[0m\u001B[0;34m\u001B[0m\u001B[0;34m\u001B[0m\u001B[0m\n\u001B[0;32m-> 1344\u001B[0;31m       \u001B[0mself\u001B[0m\u001B[0;34m.\u001B[0m\u001B[0m_save_model\u001B[0m\u001B[0;34m(\u001B[0m\u001B[0mepoch\u001B[0m\u001B[0;34m=\u001B[0m\u001B[0mepoch\u001B[0m\u001B[0;34m,\u001B[0m \u001B[0mlogs\u001B[0m\u001B[0;34m=\u001B[0m\u001B[0mlogs\u001B[0m\u001B[0;34m)\u001B[0m\u001B[0;34m\u001B[0m\u001B[0;34m\u001B[0m\u001B[0m\n\u001B[0m\u001B[1;32m   1345\u001B[0m \u001B[0;34m\u001B[0m\u001B[0m\n\u001B[1;32m   1346\u001B[0m   \u001B[0;32mdef\u001B[0m \u001B[0m_should_save_on_batch\u001B[0m\u001B[0;34m(\u001B[0m\u001B[0mself\u001B[0m\u001B[0;34m,\u001B[0m \u001B[0mbatch\u001B[0m\u001B[0;34m)\u001B[0m\u001B[0;34m:\u001B[0m\u001B[0;34m\u001B[0m\u001B[0;34m\u001B[0m\u001B[0m\n",
      "\u001B[0;32m~/venv/lib/python3.8/site-packages/tensorflow/python/keras/callbacks.py\u001B[0m in \u001B[0;36m_save_model\u001B[0;34m(self, epoch, logs)\u001B[0m\n\u001B[1;32m   1394\u001B[0m                     filepath, overwrite=True, options=self._options)\n\u001B[1;32m   1395\u001B[0m               \u001B[0;32melse\u001B[0m\u001B[0;34m:\u001B[0m\u001B[0;34m\u001B[0m\u001B[0;34m\u001B[0m\u001B[0m\n\u001B[0;32m-> 1396\u001B[0;31m                 \u001B[0mself\u001B[0m\u001B[0;34m.\u001B[0m\u001B[0mmodel\u001B[0m\u001B[0;34m.\u001B[0m\u001B[0msave\u001B[0m\u001B[0;34m(\u001B[0m\u001B[0mfilepath\u001B[0m\u001B[0;34m,\u001B[0m \u001B[0moverwrite\u001B[0m\u001B[0;34m=\u001B[0m\u001B[0;32mTrue\u001B[0m\u001B[0;34m,\u001B[0m \u001B[0moptions\u001B[0m\u001B[0;34m=\u001B[0m\u001B[0mself\u001B[0m\u001B[0;34m.\u001B[0m\u001B[0m_options\u001B[0m\u001B[0;34m)\u001B[0m\u001B[0;34m\u001B[0m\u001B[0;34m\u001B[0m\u001B[0m\n\u001B[0m\u001B[1;32m   1397\u001B[0m             \u001B[0;32melse\u001B[0m\u001B[0;34m:\u001B[0m\u001B[0;34m\u001B[0m\u001B[0;34m\u001B[0m\u001B[0m\n\u001B[1;32m   1398\u001B[0m               \u001B[0;32mif\u001B[0m \u001B[0mself\u001B[0m\u001B[0;34m.\u001B[0m\u001B[0mverbose\u001B[0m \u001B[0;34m>\u001B[0m \u001B[0;36m0\u001B[0m\u001B[0;34m:\u001B[0m\u001B[0;34m\u001B[0m\u001B[0;34m\u001B[0m\u001B[0m\n",
      "\u001B[0;32m~/venv/lib/python3.8/site-packages/tensorflow/python/keras/engine/training.py\u001B[0m in \u001B[0;36msave\u001B[0;34m(self, filepath, overwrite, include_optimizer, save_format, signatures, options, save_traces)\u001B[0m\n\u001B[1;32m   1999\u001B[0m     \"\"\"\n\u001B[1;32m   2000\u001B[0m     \u001B[0;31m# pylint: enable=line-too-long\u001B[0m\u001B[0;34m\u001B[0m\u001B[0;34m\u001B[0m\u001B[0;34m\u001B[0m\u001B[0m\n\u001B[0;32m-> 2001\u001B[0;31m     save.save_model(self, filepath, overwrite, include_optimizer, save_format,\n\u001B[0m\u001B[1;32m   2002\u001B[0m                     signatures, options, save_traces)\n\u001B[1;32m   2003\u001B[0m \u001B[0;34m\u001B[0m\u001B[0m\n",
      "\u001B[0;32m~/venv/lib/python3.8/site-packages/tensorflow/python/keras/saving/save.py\u001B[0m in \u001B[0;36msave_model\u001B[0;34m(model, filepath, overwrite, include_optimizer, save_format, signatures, options, save_traces)\u001B[0m\n\u001B[1;32m    151\u001B[0m           \u001B[0;34m'to the Tensorflow SavedModel format (by setting save_format=\"tf\") '\u001B[0m\u001B[0;34m\u001B[0m\u001B[0;34m\u001B[0m\u001B[0m\n\u001B[1;32m    152\u001B[0m           'or using `save_weights`.')\n\u001B[0;32m--> 153\u001B[0;31m     hdf5_format.save_model_to_hdf5(\n\u001B[0m\u001B[1;32m    154\u001B[0m         model, filepath, overwrite, include_optimizer)\n\u001B[1;32m    155\u001B[0m   \u001B[0;32melse\u001B[0m\u001B[0;34m:\u001B[0m\u001B[0;34m\u001B[0m\u001B[0;34m\u001B[0m\u001B[0m\n",
      "\u001B[0;32m~/venv/lib/python3.8/site-packages/tensorflow/python/keras/saving/hdf5_format.py\u001B[0m in \u001B[0;36msave_model_to_hdf5\u001B[0;34m(model, filepath, overwrite, include_optimizer)\u001B[0m\n\u001B[1;32m    104\u001B[0m     \u001B[0mdirpath\u001B[0m \u001B[0;34m=\u001B[0m \u001B[0mos\u001B[0m\u001B[0;34m.\u001B[0m\u001B[0mpath\u001B[0m\u001B[0;34m.\u001B[0m\u001B[0mdirname\u001B[0m\u001B[0;34m(\u001B[0m\u001B[0mfilepath\u001B[0m\u001B[0;34m)\u001B[0m\u001B[0;34m\u001B[0m\u001B[0;34m\u001B[0m\u001B[0m\n\u001B[1;32m    105\u001B[0m     \u001B[0;32mif\u001B[0m \u001B[0;32mnot\u001B[0m \u001B[0mos\u001B[0m\u001B[0;34m.\u001B[0m\u001B[0mpath\u001B[0m\u001B[0;34m.\u001B[0m\u001B[0mexists\u001B[0m\u001B[0;34m(\u001B[0m\u001B[0mdirpath\u001B[0m\u001B[0;34m)\u001B[0m\u001B[0;34m:\u001B[0m\u001B[0;34m\u001B[0m\u001B[0;34m\u001B[0m\u001B[0m\n\u001B[0;32m--> 106\u001B[0;31m       \u001B[0mgfile\u001B[0m\u001B[0;34m.\u001B[0m\u001B[0mMakeDirs\u001B[0m\u001B[0;34m(\u001B[0m\u001B[0mdirpath\u001B[0m\u001B[0;34m)\u001B[0m\u001B[0;34m\u001B[0m\u001B[0;34m\u001B[0m\u001B[0m\n\u001B[0m\u001B[1;32m    107\u001B[0m \u001B[0;34m\u001B[0m\u001B[0m\n\u001B[1;32m    108\u001B[0m     \u001B[0mf\u001B[0m \u001B[0;34m=\u001B[0m \u001B[0mh5py\u001B[0m\u001B[0;34m.\u001B[0m\u001B[0mFile\u001B[0m\u001B[0;34m(\u001B[0m\u001B[0mfilepath\u001B[0m\u001B[0;34m,\u001B[0m \u001B[0mmode\u001B[0m\u001B[0;34m=\u001B[0m\u001B[0;34m'w'\u001B[0m\u001B[0;34m)\u001B[0m\u001B[0;34m\u001B[0m\u001B[0;34m\u001B[0m\u001B[0m\n",
      "\u001B[0;32m~/venv/lib/python3.8/site-packages/tensorflow/python/lib/io/file_io.py\u001B[0m in \u001B[0;36mrecursive_create_dir\u001B[0;34m(dirname)\u001B[0m\n\u001B[1;32m    466\u001B[0m     \u001B[0merrors\u001B[0m\u001B[0;34m.\u001B[0m\u001B[0mOpError\u001B[0m\u001B[0;34m:\u001B[0m \u001B[0mIf\u001B[0m \u001B[0mthe\u001B[0m \u001B[0moperation\u001B[0m \u001B[0mfails\u001B[0m\u001B[0;34m.\u001B[0m\u001B[0;34m\u001B[0m\u001B[0;34m\u001B[0m\u001B[0m\n\u001B[1;32m    467\u001B[0m   \"\"\"\n\u001B[0;32m--> 468\u001B[0;31m   \u001B[0mrecursive_create_dir_v2\u001B[0m\u001B[0;34m(\u001B[0m\u001B[0mdirname\u001B[0m\u001B[0;34m)\u001B[0m\u001B[0;34m\u001B[0m\u001B[0;34m\u001B[0m\u001B[0m\n\u001B[0m\u001B[1;32m    469\u001B[0m \u001B[0;34m\u001B[0m\u001B[0m\n\u001B[1;32m    470\u001B[0m \u001B[0;34m\u001B[0m\u001B[0m\n",
      "\u001B[0;32m~/venv/lib/python3.8/site-packages/tensorflow/python/lib/io/file_io.py\u001B[0m in \u001B[0;36mrecursive_create_dir_v2\u001B[0;34m(path)\u001B[0m\n\u001B[1;32m    481\u001B[0m     \u001B[0merrors\u001B[0m\u001B[0;34m.\u001B[0m\u001B[0mOpError\u001B[0m\u001B[0;34m:\u001B[0m \u001B[0mIf\u001B[0m \u001B[0mthe\u001B[0m \u001B[0moperation\u001B[0m \u001B[0mfails\u001B[0m\u001B[0;34m.\u001B[0m\u001B[0;34m\u001B[0m\u001B[0;34m\u001B[0m\u001B[0m\n\u001B[1;32m    482\u001B[0m   \"\"\"\n\u001B[0;32m--> 483\u001B[0;31m   \u001B[0m_pywrap_file_io\u001B[0m\u001B[0;34m.\u001B[0m\u001B[0mRecursivelyCreateDir\u001B[0m\u001B[0;34m(\u001B[0m\u001B[0mcompat\u001B[0m\u001B[0;34m.\u001B[0m\u001B[0mpath_to_bytes\u001B[0m\u001B[0;34m(\u001B[0m\u001B[0mpath\u001B[0m\u001B[0;34m)\u001B[0m\u001B[0;34m)\u001B[0m\u001B[0;34m\u001B[0m\u001B[0;34m\u001B[0m\u001B[0m\n\u001B[0m\u001B[1;32m    484\u001B[0m \u001B[0;34m\u001B[0m\u001B[0m\n\u001B[1;32m    485\u001B[0m \u001B[0;34m\u001B[0m\u001B[0m\n",
      "\u001B[0;31mPermissionDeniedError\u001B[0m: /models; Read-only file system"
     ]
    }
   ]
  },
  {
   "cell_type": "markdown",
   "metadata": {
    "id": "C-dGT14NpwWu"
   },
   "source": [
    "### Dense - плохо"
   ]
  },
  {
   "cell_type": "code",
   "metadata": {
    "id": "cSgrmtYRrhNn"
   },
   "source": [
    "# Гиперпараметры\n",
    "drop = 0.2"
   ],
   "execution_count": null,
   "outputs": []
  },
  {
   "cell_type": "code",
   "metadata": {
    "id": "UQQvpAj4k5gY"
   },
   "source": [
    "input = Input(shape=(xTrain.shape[1], xTrain.shape[2]))\n",
    "# xTrain.shape[1] - число шагов назад для обучения\n",
    "# xTrain.shape[2] - число столбцов в обучающей выборке\n",
    "x = Flatten()(input)\n",
    "x = Dense(ensemble*500, activation='relu')(x)\n",
    "#x = Dropout(drop)(x)\n",
    "x = BatchNormalization()(x)\n",
    "x = Dense(ensemble*100, activation='relu')(x)\n",
    "#x = Dropout(drop)(x)\n",
    "\n",
    "x = Dense(yTrain.shape[1], activation='linear')(x)\n",
    "model = Model(input, x)\n",
    "\n",
    "#print(model.summary())"
   ],
   "execution_count": null,
   "outputs": []
  },
  {
   "cell_type": "code",
   "metadata": {
    "colab": {
     "base_uri": "https://localhost:8080/",
     "height": 476
    },
    "id": "kPv4lxZGp8cL",
    "outputId": "1d27b0d1-46d8-4af6-abe0-037a6d08a824"
   },
   "source": [
    "#xTrain , yTrain = X, y # если не используется TimeSeries\n",
    "model.compile(optimizer=Adam(lr=1e-3), loss='mse')\n",
    "#os.chdir(path_models)\n",
    "\n",
    "# коллбэки\n",
    "early_stopping = EarlyStopping(monitor = 'val_loss', patience = 8, verbose = 0, \n",
    "                               restore_best_weights = True)\n",
    "reduce_lr = ReduceLROnPlateau(monitor = 'val_loss', factor=0.5, patience=2, min_lr=1e-07, verbose = 0)\n",
    "checkpoint = ModelCheckpoint(path_models + 'model_Dense.h5', monitor='val_loss', verbose = 0,\n",
    "                             save_best_only = True)\n",
    "\n",
    "# fit model\n",
    "history = model.fit(xTrain, yTrain, epochs=1000, verbose = 1,\n",
    "                    validation_data=(xTest, yTest),\n",
    "                    #batch_size = 5,\n",
    "                    callbacks = [early_stopping, reduce_lr, checkpoint])\n",
    "\n",
    "plotting(history)"
   ],
   "execution_count": null,
   "outputs": []
  },
  {
   "cell_type": "markdown",
   "metadata": {
    "id": "OBsDperQr-yL"
   },
   "source": [
    "### LSTM - долгоооо"
   ]
  },
  {
   "cell_type": "code",
   "metadata": {
    "id": "Uoe4OCXUoKYd"
   },
   "source": [
    "drop = 0.1"
   ],
   "execution_count": null,
   "outputs": []
  },
  {
   "cell_type": "code",
   "metadata": {
    "id": "MZgzyOGJsHkK",
    "colab": {
     "base_uri": "https://localhost:8080/"
    },
    "outputId": "6cdd0566-8592-4ed0-bd07-357101222faa"
   },
   "source": [
    "input = Input(shape=(xTrain.shape[1], xTrain.shape[2]))\n",
    "# xTrain.shape[1] - число шагов назад для обучения\n",
    "# xTrain.shape[2] - число столбцов в обучающей выборке\n",
    "x = LSTM(ensemble*30, dropout=drop, activation='relu')(input)\n",
    "\n",
    "x = RepeatVector(9)(x)\n",
    "x = LSTM(ensemble*5, dropout=drop, activation='relu')(x)\n",
    "\n",
    "#x = Dense(ensemble*20, activation='relu', activation='relu')(x)\n",
    "#x = Dropout(drop)(x)\n",
    "\n",
    "x = Dense(yTrain.shape[1], activation='linear')(x)\n",
    "model = Model(input, x)\n",
    "\n",
    "#print(model.summary())"
   ],
   "execution_count": null,
   "outputs": []
  },
  {
   "cell_type": "code",
   "metadata": {
    "id": "YSNzkMxJsHiR",
    "colab": {
     "base_uri": "https://localhost:8080/",
     "height": 476
    },
    "outputId": "e4552bae-692c-450b-8e4e-3456b2e9a8a4"
   },
   "source": [
    "#xTrain , yTrain = X, y # если не используется TimeSeries\n",
    "model.compile(optimizer=Adam(lr=1e-3), loss='mse')\n",
    "os.chdir(path_models)\n",
    "\n",
    "# коллбэки\n",
    "early_stopping = EarlyStopping(monitor = 'val_loss', patience = 8, verbose = 0, \n",
    "                               restore_best_weights = True)\n",
    "reduce_lr = ReduceLROnPlateau(monitor = 'val_loss', factor=0.5, patience=2, min_lr=1e-07, verbose = 0)\n",
    "checkpoint = ModelCheckpoint(path_models + 'model_LSTM.h5', monitor='val_loss', verbose = 0,\n",
    "                             save_best_only = True)\n",
    "\n",
    "# fit model\n",
    "history = model.fit(xTrain, yTrain, epochs=1000, verbose = 1,\n",
    "                    validation_data=(xTest, yTest),\n",
    "                    #batch_size = 5,\n",
    "                    callbacks = [early_stopping, reduce_lr, checkpoint])\n",
    "\n",
    "plotting(history)"
   ],
   "execution_count": null,
   "outputs": []
  },
  {
   "cell_type": "markdown",
   "metadata": {
    "id": "PkJsvdioziBV"
   },
   "source": [
    "# Проверка на Val выборке (сделать в отдельном файле)\n",
    "----\n",
    "1. загрузить из первого датасета ВСЕ данные, включая \"откусанные\" при сдвиге цены\n",
    "2. Сделать предикт:\n",
    "- скачать сохраненную модель,\n",
    "- сформировать датасет, какой был при обучении, \n",
    "- сделать предикт и построить график факт/предикт\n",
    "3. нарисовать графики\n"
   ]
  },
  {
   "cell_type": "code",
   "metadata": {
    "id": "HiQ2nK5AzlXb"
   },
   "source": [
    ""
   ],
   "execution_count": null,
   "outputs": []
  }
 ]
}